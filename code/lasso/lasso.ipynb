{
 "cells": [
  {
   "cell_type": "markdown",
   "metadata": {},
   "source": [
    "Use Lasso to Reduce Dimension"
   ]
  },
  {
   "cell_type": "code",
   "execution_count": 40,
   "metadata": {},
   "outputs": [],
   "source": [
    "import numpy as np \n",
    "import pandas as pd\n",
    "import matplotlib.pyplot as plt\n",
    "from sklearn.linear_model import Lasso\n",
    "from sklearn.model_selection import train_test_split\n",
    "from sklearn.model_selection import GridSearchCV, KFold\n",
    "from sklearn.preprocessing import MinMaxScaler"
   ]
  },
  {
   "cell_type": "code",
   "execution_count": 41,
   "metadata": {},
   "outputs": [],
   "source": [
    "df = pd.read_csv('../../data/combined_data/merged_052423.csv')"
   ]
  },
  {
   "cell_type": "code",
   "execution_count": 42,
   "metadata": {},
   "outputs": [
    {
     "name": "stdout",
     "output_type": "stream",
     "text": [
      "country                        object\n",
      "sect                            int64\n",
      "t                               int64\n",
      "source                         object\n",
      "outp                          float64\n",
      "outpd                         float64\n",
      "outptt                        float64\n",
      "gvco                          float64\n",
      "gvcobp                        float64\n",
      "gvcofp                        float64\n",
      "gvcomix                       float64\n",
      "gvcobp%                       float64\n",
      "gvcofp%                       float64\n",
      "gvcomix%                      float64\n",
      "gvcobp_diff                   float64\n",
      "gvcofp_diff                   float64\n",
      "gvcomix_diff                  float64\n",
      "Unnamed: 0                      int64\n",
      "onset2COWCS                   float64\n",
      "d2incidenceU                  float64\n",
      "d3_6incidenceU                float64\n",
      "onsetUCS                      float64\n",
      "coup                          float64\n",
      "periregular                   float64\n",
      "milexp_pergdpSIPRI            float64\n",
      "decade                        float64\n",
      "ecgrowth                      float64\n",
      "logpop_M                      float64\n",
      "logpopdens                    float64\n",
      "logoutreg                     float64\n",
      "democracy                     float64\n",
      "logmountain                   float64\n",
      "ethnic_fractionalization      float64\n",
      "religion_fractionalization    float64\n",
      "language_fractionalization    float64\n",
      "leg_british                   float64\n",
      "opec                          float64\n",
      "oilreserves_full              float64\n",
      "oilreserves                   float64\n",
      "oilreserves_public            float64\n",
      "milexp_pergdpSIPRI_diff       float64\n",
      "logpop_M_diff                 float64\n",
      "logpopdens_diff               float64\n",
      "logoutreg_diff                float64\n",
      "ecgrowth_demeaned             float64\n",
      "democracy_diff                float64\n",
      "dtype: object\n",
      "Shape of the Dataset: (17195, 46)\n"
     ]
    }
   ],
   "source": [
    "print(df.dtypes)\n",
    "print(\"Shape of the Dataset: {}\".format(df.shape))"
   ]
  },
  {
   "cell_type": "markdown",
   "metadata": {},
   "source": [
    "Lasso Feature selection for outcome var Defense Share"
   ]
  },
  {
   "cell_type": "code",
   "execution_count": 43,
   "metadata": {},
   "outputs": [
    {
     "name": "stdout",
     "output_type": "stream",
     "text": [
      "Best Params: {'alpha': 1e-05}\n"
     ]
    }
   ],
   "source": [
    "def clean_data(df, feature_columns, target_columns):\n",
    "    df_clean = df[feature_columns + target_columns]\n",
    "    df_clean = df_clean.dropna()\n",
    "    return df_clean\n",
    "\n",
    "def get_features_targets(df_clean, feature_columns, target_name):\n",
    "    x = df_clean[feature_columns].values\n",
    "    scaler = MinMaxScaler()\n",
    "    x = scaler.fit_transform(x)\n",
    "    y = df_clean[target_name].values\n",
    "    return x, y\n",
    "\n",
    "def split_data(x, y, test_size=0.20, random_state=42):\n",
    "    X_train, X_test, y_train, y_test = train_test_split(x, y, test_size=test_size, random_state=random_state, stratify=y)\n",
    "    return X_train, X_test, y_train, y_test\n",
    "\n",
    "def perform_grid_search(x, y, params, cv_splits=5, random_state=42):\n",
    "    kf = KFold(n_splits=cv_splits, shuffle=True, random_state=random_state)\n",
    "    lasso = Lasso()\n",
    "    lasso_cv = GridSearchCV(lasso, param_grid=params, cv=kf)\n",
    "    lasso_cv.fit(x, y)\n",
    "    return lasso_cv.best_params_\n",
    "\n",
    "def get_column_names(df, feature_columns):\n",
    "    return df[feature_columns].columns\n",
    "\n",
    "def fit_model(X_train, y_train, best_alpha):\n",
    "    lasso = Lasso(alpha=best_alpha)\n",
    "    lasso.fit(X_train, y_train)\n",
    "    return lasso\n",
    "\n",
    "feature_columns = [ 'decade','religion_fractionalization',\n",
    "                     'logoutreg_diff', 'ecgrowth_demeaned', 'democracy_diff',\n",
    "                   'logmountain', 'ethnic_fractionalization','logpopdens_diff',\n",
    "                   'leg_british']\n",
    "target_columns = ['milexp_pergdpSIPRI']\n",
    "#  'oilreserves_full', 'oilreserves_public','language_fractionalization', 'opec''logpop_M_diff''logpopdens_diff',\n",
    "\n",
    "df_clean = clean_data(df, feature_columns, target_columns)\n",
    "\n",
    "target_name = 'milexp_pergdpSIPRI' \n",
    "\n",
    "x, y_bp = get_features_targets(df_clean, feature_columns, target_name)\n",
    "\n",
    "X_train, X_test, y_train, y_test = split_data(x, y_bp)\n",
    "\n",
    "params = {\"alpha\": np.arange(0.00001, 10, 0.1)}\n",
    "\n",
    "best_params = perform_grid_search(x, y_bp, params)\n",
    "print(\"Best Params:\", best_params)\n",
    "\n",
    "names = get_column_names(df, feature_columns)\n",
    "\n",
    "lasso_model = fit_model(X_train, y_train, best_params['alpha'])\n",
    "\n",
    "\n"
   ]
  },
  {
   "cell_type": "code",
   "execution_count": 44,
   "metadata": {},
   "outputs": [
    {
     "name": "stdout",
     "output_type": "stream",
     "text": [
      "\n",
      "Analyzing target: milexp_pergdpSIPRI\n",
      "Best Params: {'alpha': 1e-05}\n",
      "Feature importances:\n",
      "decade: -0.3226722775700083\n",
      "religion_fractionalization: -0.5059015693467603\n",
      "logoutreg_diff: -0.055707067449951735\n",
      "ecgrowth_demeaned: -0.9008740209437696\n",
      "democracy_diff: -0.026083757113776338\n",
      "logmountain: 0.30185122351326765\n",
      "ethnic_fractionalization: -1.288577205819826\n",
      "logpopdens_diff: 27.042445355941087\n",
      "leg_british: 0.6859027444546643\n"
     ]
    }
   ],
   "source": [
    "from sklearn.preprocessing import MinMaxScaler\n",
    "\n",
    "def print_feature_importance(names, coefficients):\n",
    "    for name, coef in zip(names, coefficients):\n",
    "        print(f\"{name}: {coef}\")\n",
    "\n",
    "for target_name in target_columns:\n",
    "    print(f\"\\nAnalyzing target: {target_name}\")\n",
    "\n",
    "    x, y = get_features_targets(df_clean, feature_columns, target_name)\n",
    "\n",
    "    X_train, X_test, y_train, y_test = split_data(x, y)\n",
    "\n",
    "    best_params = perform_grid_search(x, y, params)\n",
    "    print(\"Best Params:\", best_params)\n",
    "\n",
    "    lasso_model = fit_model(X_train, y_train, best_params['alpha'])\n",
    "\n",
    "    print(\"Feature importances:\")\n",
    "    print_feature_importance(names, lasso_model.coef_)\n"
   ]
  },
  {
   "cell_type": "markdown",
   "metadata": {},
   "source": [
    "Lasso Feature selection for outcome var Oil Reserves"
   ]
  },
  {
   "cell_type": "code",
   "execution_count": 45,
   "metadata": {},
   "outputs": [
    {
     "name": "stdout",
     "output_type": "stream",
     "text": [
      "Best Params: {'alpha': 1e-05}\n"
     ]
    }
   ],
   "source": [
    "def clean_data(df, feature_columns, target_columns):\n",
    "    df_clean = df[feature_columns + target_columns]\n",
    "    df_clean = df_clean.dropna()\n",
    "    return df_clean\n",
    "\n",
    "def get_features_targets(df_clean, feature_columns, target_name):\n",
    "    x = df_clean[feature_columns].values\n",
    "    scaler = MinMaxScaler()\n",
    "    x = scaler.fit_transform(x)\n",
    "    y = df_clean[target_name].values\n",
    "    return x, y\n",
    "\n",
    "def split_data(x, y, test_size=0.20, random_state=42):\n",
    "    X_train, X_test, y_train, y_test = train_test_split(x, y, test_size=test_size, random_state=random_state, stratify=y)\n",
    "    return X_train, X_test, y_train, y_test\n",
    "\n",
    "def perform_grid_search(x, y, params, cv_splits=5, random_state=42):\n",
    "    kf = KFold(n_splits=cv_splits, shuffle=True, random_state=random_state)\n",
    "    lasso = Lasso()\n",
    "    lasso_cv = GridSearchCV(lasso, param_grid=params, cv=kf)\n",
    "    lasso_cv.fit(x, y)\n",
    "    return lasso_cv.best_params_\n",
    "\n",
    "def get_column_names(df, feature_columns):\n",
    "    return df[feature_columns].columns\n",
    "\n",
    "def fit_model(X_train, y_train, best_alpha):\n",
    "    lasso = Lasso(alpha=best_alpha)\n",
    "    lasso.fit(X_train, y_train)\n",
    "    return lasso\n",
    "\n",
    "\n",
    "feature_columns = [ 'decade','religion_fractionalization',\n",
    "                     'logoutreg_diff', 'ecgrowth_demeaned', 'democracy_diff',\n",
    "                   'logmountain', 'ethnic_fractionalization','logpopdens_diff',\n",
    "                   'leg_british']\n",
    "target_columns = ['oilreserves']\n",
    "#  'oilreserves_full', 'oilreserves_public','language_fractionalization', 'opec''logpop_M_diff'\n",
    "\n",
    "df_clean = clean_data(df, feature_columns, target_columns)\n",
    "\n",
    "target_name = 'oilreserves' \n",
    "\n",
    "x, y_bp = get_features_targets(df_clean, feature_columns, target_name)\n",
    "\n",
    "X_train, X_test, y_train, y_test = split_data(x, y_bp)\n",
    "\n",
    "params = {\"alpha\": np.arange(0.00001, 10, 0.1)}\n",
    "\n",
    "best_params = perform_grid_search(x, y_bp, params)\n",
    "print(\"Best Params:\", best_params)\n",
    "\n",
    "names = get_column_names(df, feature_columns)\n",
    "\n",
    "lasso_model = fit_model(X_train, y_train, best_params['alpha'])\n",
    "\n",
    "\n"
   ]
  },
  {
   "cell_type": "code",
   "execution_count": 46,
   "metadata": {},
   "outputs": [
    {
     "name": "stdout",
     "output_type": "stream",
     "text": [
      "\n",
      "Analyzing target: oilreserves\n",
      "Best Params: {'alpha': 1e-05}\n",
      "Feature importances:\n",
      "decade: -0.12037126744379846\n",
      "religion_fractionalization: -15.705552441590484\n",
      "logoutreg_diff: -1.0667419192869902\n",
      "ecgrowth_demeaned: -18.368003890582003\n",
      "democracy_diff: 3.490869592763109\n",
      "logmountain: 5.1674361902655574\n",
      "ethnic_fractionalization: -10.721026747310745\n",
      "logpopdens_diff: 107.65225538261951\n",
      "leg_british: 7.1822004454507935\n"
     ]
    }
   ],
   "source": [
    "from sklearn.preprocessing import MinMaxScaler\n",
    "\n",
    "def print_feature_importance(names, coefficients):\n",
    "    for name, coef in zip(names, coefficients):\n",
    "        print(f\"{name}: {coef}\")\n",
    "\n",
    "for target_name in target_columns:\n",
    "    print(f\"\\nAnalyzing target: {target_name}\")\n",
    "\n",
    "    x, y = get_features_targets(df_clean, feature_columns, target_name)\n",
    "\n",
    "    X_train, X_test, y_train, y_test = split_data(x, y)\n",
    "\n",
    "    best_params = perform_grid_search(x, y, params)\n",
    "    print(\"Best Params:\", best_params)\n",
    "\n",
    "    lasso_model = fit_model(X_train, y_train, best_params['alpha'])\n",
    "\n",
    "    print(\"Feature importances:\")\n",
    "    print_feature_importance(names, lasso_model.coef_)\n",
    "    "
   ]
  }
 ],
 "metadata": {
  "kernelspec": {
   "display_name": "Python 3",
   "language": "python",
   "name": "python3"
  },
  "language_info": {
   "codemirror_mode": {
    "name": "ipython",
    "version": 3
   },
   "file_extension": ".py",
   "mimetype": "text/x-python",
   "name": "python",
   "nbconvert_exporter": "python",
   "pygments_lexer": "ipython3",
   "version": "3.11.8"
  }
 },
 "nbformat": 4,
 "nbformat_minor": 2
}
