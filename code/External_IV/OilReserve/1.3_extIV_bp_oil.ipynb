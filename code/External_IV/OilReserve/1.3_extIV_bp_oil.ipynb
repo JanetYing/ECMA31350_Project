{
 "cells": [
  {
   "cell_type": "code",
   "execution_count": 1,
   "metadata": {},
   "outputs": [],
   "source": [
    "import pandas as pd\n",
    "import numpy as np\n",
    "from linearmodels import OLS\n",
    "from linearmodels.iv.results import compare\n",
    "import os"
   ]
  },
  {
   "attachments": {},
   "cell_type": "markdown",
   "metadata": {},
   "source": [
    "No fixed affects, No stationary contrls"
   ]
  },
  {
   "cell_type": "code",
   "execution_count": 2,
   "metadata": {},
   "outputs": [
    {
     "name": "stderr",
     "output_type": "stream",
     "text": [
      "/Users/qinghuiw/Library/Python/3.8/lib/python/site-packages/linearmodels/iv/model.py:548: MissingValueWarning: \n",
      "Inputs contain missing values. Dropping rows with missing observations.\n",
      "  super().__init__(\n"
     ]
    }
   ],
   "source": [
    "# Load the data\n",
    "#data = pd.read_csv('gvcobp_transformed1.csv')\n",
    "data = pd.read_csv('gvcobp_data.csv')\n",
    "\n",
    "# Drop rows with missing values in any of the columns used in the regression\n",
    "columns_to_check = ['onset2COWCS','decade','logpop_M_diff', 'logpopdens_diff', 'logoutreg_diff', 'ecgrowth_demeaned', 'democracy_diff']\n",
    "\n",
    "# Replace infinite values with NaN\n",
    "data[columns_to_check] = data[columns_to_check].replace([np.inf, -np.inf], np.nan)\n",
    "\n",
    "# Drop rows with NaN in these columns\n",
    "data = data.dropna(subset=columns_to_check)\n",
    "\n",
    "# Set the MultiIndex\n",
    "data = data.set_index(['country', 't'])\n",
    "\n",
    "# Define the dependent variable\n",
    "dependent = data['onset2COWCS']\n",
    "\n",
    "# List of variables to regress on\n",
    "variables = ['oilreserves']\n",
    "\n",
    "# DataFrame to store results\n",
    "results_data = []\n",
    "\n",
    "# Loop through each variable and its corresponding instrument and run the regression for both instruments\n",
    "for var in variables:\n",
    "    formula = f'onset2COWCS ~ 1 + {var} + decade + logpop_M_diff + logpopdens_diff + logoutreg_diff + ecgrowth_demeaned + democracy_diff'\n",
    "    model_ols = OLS.from_formula(formula, data).fit()\n",
    "    #print(results_iv)\n",
    "    # Add the results to the list\n",
    "    results_data.append({\n",
    "        'Variable': var,\n",
    "        'Coefficient': model_ols.params[var],\n",
    "        'Std Error': model_ols.std_errors[var],\n",
    "        'P-value': model_ols.pvalues[var]\n",
    "    })\n",
    "\n",
    "# Convert list to DataFrame and set the MultiIndex\n",
    "results_df = pd.DataFrame(results_data)\n",
    "results_df = results_df.set_index('Variable')\n",
    "\n",
    "# Output to file\n",
    "results_df.to_csv('bp_results.csv')"
   ]
  },
  {
   "attachments": {},
   "cell_type": "markdown",
   "metadata": {},
   "source": [
    "NO Fixed effects, YES stationary controls"
   ]
  },
  {
   "cell_type": "code",
   "execution_count": 3,
   "metadata": {},
   "outputs": [
    {
     "name": "stderr",
     "output_type": "stream",
     "text": [
      "/Users/qinghuiw/Library/Python/3.8/lib/python/site-packages/linearmodels/iv/model.py:548: MissingValueWarning: \n",
      "Inputs contain missing values. Dropping rows with missing observations.\n",
      "  super().__init__(\n"
     ]
    }
   ],
   "source": [
    "# Load the data\n",
    "#data = pd.read_csv('gvcobp_transformed1.csv')\n",
    "data = pd.read_csv('gvcobp_data.csv')\n",
    "\n",
    "# Drop rows with missing values in any of the columns used in the regression\n",
    "columns_to_check = ['onset2COWCS','decade',\n",
    "                         'logmountain', 'ethnic_fractionalization',\n",
    "                         'religion_fractionalization', 'language_fractionalization',\n",
    "                         'leg_british', 'opec',\n",
    "                         'logpop_M_diff', 'logpopdens_diff', 'logoutreg_diff', 'ecgrowth_demeaned', 'democracy_diff']\n",
    "\n",
    "# Replace infinite values with NaN\n",
    "data[columns_to_check] = data[columns_to_check].replace([np.inf, -np.inf], np.nan)\n",
    "\n",
    "# Drop rows with NaN in these columns\n",
    "data = data.dropna(subset=columns_to_check)\n",
    "\n",
    "# Set the MultiIndex\n",
    "data = data.set_index(['country', 't'])\n",
    "\n",
    "# Define the dependent variable\n",
    "dependent = data['onset2COWCS']\n",
    "\n",
    "# List of variables to regress on\n",
    "variables = ['oilreserves']\n",
    "\n",
    "# DataFrame to store results\n",
    "results_data = []\n",
    "\n",
    "# Loop through each variable and its corresponding instrument and run the regression for both instruments\n",
    "for var in variables:\n",
    "    formula = f'onset2COWCS ~ 1 + {var} + decade + logpop_M_diff + logpopdens_diff + logoutreg_diff + ecgrowth_demeaned + democracy_diff + logmountain + ethnic_fractionalization + religion_fractionalization + language_fractionalization + leg_british + opec'\n",
    "    model_ols = OLS.from_formula(formula, data).fit()\n",
    "       \n",
    "    # Add the results to the list\n",
    "    results_data.append({\n",
    "        'Variable': var,\n",
    "        'Coefficient': model_ols.params[var],\n",
    "        'Std Error': model_ols.std_errors[var],\n",
    "        'P-value': model_ols.pvalues[var]\n",
    "    })\n",
    "\n",
    "results_df = pd.DataFrame(results_data)\n",
    "\n",
    "results_df.to_csv('bp_results.csv', mode='a', header=False, index=False)"
   ]
  },
  {
   "attachments": {},
   "cell_type": "markdown",
   "metadata": {},
   "source": [
    "YES Fixed effects, NO stationary controls"
   ]
  },
  {
   "cell_type": "code",
   "execution_count": 4,
   "metadata": {},
   "outputs": [
    {
     "name": "stderr",
     "output_type": "stream",
     "text": [
      "/Users/qinghuiw/Library/Python/3.8/lib/python/site-packages/linearmodels/iv/model.py:548: MissingValueWarning: \n",
      "Inputs contain missing values. Dropping rows with missing observations.\n",
      "  super().__init__(\n"
     ]
    },
    {
     "ename": "ValueError",
     "evalue": "regressors [exog endog] do not have full column rank",
     "output_type": "error",
     "traceback": [
      "\u001b[0;31m---------------------------------------------------------------------------\u001b[0m",
      "\u001b[0;31mValueError\u001b[0m                                Traceback (most recent call last)",
      "\u001b[1;32m/Users/qinghuiw/Desktop/2SLS/Oil/1.3_extIV_bp_oil.ipynb Cell 7\u001b[0m line \u001b[0;36m3\n\u001b[1;32m     <a href='vscode-notebook-cell:/Users/qinghuiw/Desktop/2SLS/Oil/1.3_extIV_bp_oil.ipynb#W6sZmlsZQ%3D%3D?line=36'>37</a>\u001b[0m fixed_effects \u001b[39m=\u001b[39m \u001b[39m'\u001b[39m\u001b[39m + \u001b[39m\u001b[39m'\u001b[39m\u001b[39m.\u001b[39mjoin(dummies\u001b[39m.\u001b[39mcolumns)\n\u001b[1;32m     <a href='vscode-notebook-cell:/Users/qinghuiw/Desktop/2SLS/Oil/1.3_extIV_bp_oil.ipynb#W6sZmlsZQ%3D%3D?line=37'>38</a>\u001b[0m formula \u001b[39m=\u001b[39m \u001b[39mf\u001b[39m\u001b[39m'\u001b[39m\u001b[39monset2COWCS ~ 1 + \u001b[39m\u001b[39m{\u001b[39;00mvar\u001b[39m}\u001b[39;00m\u001b[39m + logpop_M_diff + logpopdens_diff + logoutreg_diff + ecgrowth_demeaned + democracy_diff + \u001b[39m\u001b[39m{\u001b[39;00mfixed_effects\u001b[39m}\u001b[39;00m\u001b[39m'\u001b[39m\n\u001b[0;32m---> <a href='vscode-notebook-cell:/Users/qinghuiw/Desktop/2SLS/Oil/1.3_extIV_bp_oil.ipynb#W6sZmlsZQ%3D%3D?line=38'>39</a>\u001b[0m model_ols \u001b[39m=\u001b[39m OLS\u001b[39m.\u001b[39;49mfrom_formula(formula, data_with_dummies)\u001b[39m.\u001b[39mfit()\n\u001b[1;32m     <a href='vscode-notebook-cell:/Users/qinghuiw/Desktop/2SLS/Oil/1.3_extIV_bp_oil.ipynb#W6sZmlsZQ%3D%3D?line=40'>41</a>\u001b[0m \u001b[39m# Add the results to the list\u001b[39;00m\n\u001b[1;32m     <a href='vscode-notebook-cell:/Users/qinghuiw/Desktop/2SLS/Oil/1.3_extIV_bp_oil.ipynb#W6sZmlsZQ%3D%3D?line=41'>42</a>\u001b[0m results_data\u001b[39m.\u001b[39mappend({\n\u001b[1;32m     <a href='vscode-notebook-cell:/Users/qinghuiw/Desktop/2SLS/Oil/1.3_extIV_bp_oil.ipynb#W6sZmlsZQ%3D%3D?line=42'>43</a>\u001b[0m     \u001b[39m'\u001b[39m\u001b[39mVariable\u001b[39m\u001b[39m'\u001b[39m: var,\n\u001b[1;32m     <a href='vscode-notebook-cell:/Users/qinghuiw/Desktop/2SLS/Oil/1.3_extIV_bp_oil.ipynb#W6sZmlsZQ%3D%3D?line=43'>44</a>\u001b[0m     \u001b[39m'\u001b[39m\u001b[39mCoefficient\u001b[39m\u001b[39m'\u001b[39m: model_ols\u001b[39m.\u001b[39mparams[var],\n\u001b[1;32m     <a href='vscode-notebook-cell:/Users/qinghuiw/Desktop/2SLS/Oil/1.3_extIV_bp_oil.ipynb#W6sZmlsZQ%3D%3D?line=44'>45</a>\u001b[0m     \u001b[39m'\u001b[39m\u001b[39mStd Error\u001b[39m\u001b[39m'\u001b[39m: model_ols\u001b[39m.\u001b[39mstd_errors[var],\n\u001b[1;32m     <a href='vscode-notebook-cell:/Users/qinghuiw/Desktop/2SLS/Oil/1.3_extIV_bp_oil.ipynb#W6sZmlsZQ%3D%3D?line=45'>46</a>\u001b[0m     \u001b[39m'\u001b[39m\u001b[39mP-value\u001b[39m\u001b[39m'\u001b[39m: model_ols\u001b[39m.\u001b[39mpvalues[var]\n\u001b[1;32m     <a href='vscode-notebook-cell:/Users/qinghuiw/Desktop/2SLS/Oil/1.3_extIV_bp_oil.ipynb#W6sZmlsZQ%3D%3D?line=46'>47</a>\u001b[0m })\n",
      "File \u001b[0;32m~/Library/Python/3.8/lib/python/site-packages/linearmodels/iv/model.py:828\u001b[0m, in \u001b[0;36mIVLIML.from_formula\u001b[0;34m(formula, data, weights, fuller, kappa)\u001b[0m\n\u001b[1;32m    826\u001b[0m parser \u001b[39m=\u001b[39m IVFormulaParser(formula, data)\n\u001b[1;32m    827\u001b[0m dep, exog, endog, instr \u001b[39m=\u001b[39m parser\u001b[39m.\u001b[39mdata\n\u001b[0;32m--> 828\u001b[0m mod: IVLIML \u001b[39m=\u001b[39m IVLIML(\n\u001b[1;32m    829\u001b[0m     dep, exog, endog, instr, weights\u001b[39m=\u001b[39;49mweights, fuller\u001b[39m=\u001b[39;49mfuller, kappa\u001b[39m=\u001b[39;49mkappa\n\u001b[1;32m    830\u001b[0m )\n\u001b[1;32m    831\u001b[0m mod\u001b[39m.\u001b[39mformula \u001b[39m=\u001b[39m formula\n\u001b[1;32m    832\u001b[0m \u001b[39mreturn\u001b[39;00m mod\n",
      "File \u001b[0;32m~/Library/Python/3.8/lib/python/site-packages/linearmodels/iv/model.py:764\u001b[0m, in \u001b[0;36mIVLIML.__init__\u001b[0;34m(self, dependent, exog, endog, instruments, weights, fuller, kappa)\u001b[0m\n\u001b[1;32m    753\u001b[0m \u001b[39mdef\u001b[39;00m \u001b[39m__init__\u001b[39m(\n\u001b[1;32m    754\u001b[0m     \u001b[39mself\u001b[39m,\n\u001b[1;32m    755\u001b[0m     dependent: IVDataLike,\n\u001b[0;32m   (...)\u001b[0m\n\u001b[1;32m    762\u001b[0m     kappa: OptionalNumeric \u001b[39m=\u001b[39m \u001b[39mNone\u001b[39;00m,\n\u001b[1;32m    763\u001b[0m ):\n\u001b[0;32m--> 764\u001b[0m     \u001b[39msuper\u001b[39;49m()\u001b[39m.\u001b[39;49m\u001b[39m__init__\u001b[39;49m(\n\u001b[1;32m    765\u001b[0m         dependent,\n\u001b[1;32m    766\u001b[0m         exog,\n\u001b[1;32m    767\u001b[0m         endog,\n\u001b[1;32m    768\u001b[0m         instruments,\n\u001b[1;32m    769\u001b[0m         weights\u001b[39m=\u001b[39;49mweights,\n\u001b[1;32m    770\u001b[0m         fuller\u001b[39m=\u001b[39;49mfuller,\n\u001b[1;32m    771\u001b[0m         kappa\u001b[39m=\u001b[39;49mkappa,\n\u001b[1;32m    772\u001b[0m     )\n",
      "File \u001b[0;32m~/Library/Python/3.8/lib/python/site-packages/linearmodels/iv/model.py:548\u001b[0m, in \u001b[0;36m_IVLSModelBase.__init__\u001b[0;34m(self, dependent, exog, endog, instruments, weights, fuller, kappa)\u001b[0m\n\u001b[1;32m    537\u001b[0m \u001b[39mdef\u001b[39;00m \u001b[39m__init__\u001b[39m(\n\u001b[1;32m    538\u001b[0m     \u001b[39mself\u001b[39m,\n\u001b[1;32m    539\u001b[0m     dependent: IVDataLike,\n\u001b[0;32m   (...)\u001b[0m\n\u001b[1;32m    546\u001b[0m     kappa: OptionalNumeric \u001b[39m=\u001b[39m \u001b[39mNone\u001b[39;00m,\n\u001b[1;32m    547\u001b[0m ):\n\u001b[0;32m--> 548\u001b[0m     \u001b[39msuper\u001b[39;49m()\u001b[39m.\u001b[39;49m\u001b[39m__init__\u001b[39;49m(\n\u001b[1;32m    549\u001b[0m         dependent,\n\u001b[1;32m    550\u001b[0m         exog,\n\u001b[1;32m    551\u001b[0m         endog,\n\u001b[1;32m    552\u001b[0m         instruments,\n\u001b[1;32m    553\u001b[0m         weights\u001b[39m=\u001b[39;49mweights,\n\u001b[1;32m    554\u001b[0m         fuller\u001b[39m=\u001b[39;49mfuller,\n\u001b[1;32m    555\u001b[0m         kappa\u001b[39m=\u001b[39;49mkappa,\n\u001b[1;32m    556\u001b[0m     )\n",
      "File \u001b[0;32m~/Library/Python/3.8/lib/python/site-packages/linearmodels/iv/model.py:209\u001b[0m, in \u001b[0;36m_IVModelBase.__init__\u001b[0;34m(self, dependent, exog, endog, instruments, weights, fuller, kappa)\u001b[0m\n\u001b[1;32m    206\u001b[0m \u001b[39mself\u001b[39m\u001b[39m.\u001b[39m_instr_columns \u001b[39m=\u001b[39m \u001b[39mself\u001b[39m\u001b[39m.\u001b[39mexog\u001b[39m.\u001b[39mcols \u001b[39m+\u001b[39m \u001b[39mself\u001b[39m\u001b[39m.\u001b[39minstruments\u001b[39m.\u001b[39mcols\n\u001b[1;32m    207\u001b[0m \u001b[39mself\u001b[39m\u001b[39m.\u001b[39m_index \u001b[39m=\u001b[39m \u001b[39mself\u001b[39m\u001b[39m.\u001b[39mdependent\u001b[39m.\u001b[39mrows\n\u001b[0;32m--> 209\u001b[0m \u001b[39mself\u001b[39;49m\u001b[39m.\u001b[39;49m_validate_inputs()\n\u001b[1;32m    210\u001b[0m \u001b[39mif\u001b[39;00m \u001b[39mnot\u001b[39;00m \u001b[39mhasattr\u001b[39m(\u001b[39mself\u001b[39m, \u001b[39m\"\u001b[39m\u001b[39m_method\u001b[39m\u001b[39m\"\u001b[39m):\n\u001b[1;32m    211\u001b[0m     \u001b[39mself\u001b[39m\u001b[39m.\u001b[39m_method \u001b[39m=\u001b[39m \u001b[39m\"\u001b[39m\u001b[39mIV-LIML\u001b[39m\u001b[39m\"\u001b[39m\n",
      "File \u001b[0;32m~/Library/Python/3.8/lib/python/site-packages/linearmodels/iv/model.py:343\u001b[0m, in \u001b[0;36m_IVModelBase._validate_inputs\u001b[0;34m(self)\u001b[0m\n\u001b[1;32m    337\u001b[0m     \u001b[39mraise\u001b[39;00m \u001b[39mValueError\u001b[39;00m(\n\u001b[1;32m    338\u001b[0m         \u001b[39m\"\u001b[39m\u001b[39mThe number of instruments (\u001b[39m\u001b[39m{}\u001b[39;00m\u001b[39m) must be at least \u001b[39m\u001b[39m\"\u001b[39m\n\u001b[1;32m    339\u001b[0m         \u001b[39m\"\u001b[39m\u001b[39mas large as the number of endogenous regressors\u001b[39m\u001b[39m\"\u001b[39m\n\u001b[1;32m    340\u001b[0m         \u001b[39m\"\u001b[39m\u001b[39m (\u001b[39m\u001b[39m{}\u001b[39;00m\u001b[39m).\u001b[39m\u001b[39m\"\u001b[39m\u001b[39m.\u001b[39mformat(\u001b[39mself\u001b[39m\u001b[39m.\u001b[39minstruments\u001b[39m.\u001b[39mshape[\u001b[39m1\u001b[39m], \u001b[39mself\u001b[39m\u001b[39m.\u001b[39mendog\u001b[39m.\u001b[39mshape[\u001b[39m1\u001b[39m])\n\u001b[1;32m    341\u001b[0m     )\n\u001b[1;32m    342\u001b[0m \u001b[39mif\u001b[39;00m matrix_rank(x) \u001b[39m<\u001b[39m x\u001b[39m.\u001b[39mshape[\u001b[39m1\u001b[39m]:\n\u001b[0;32m--> 343\u001b[0m     \u001b[39mraise\u001b[39;00m \u001b[39mValueError\u001b[39;00m(\u001b[39m\"\u001b[39m\u001b[39mregressors [exog endog] do not have full \u001b[39m\u001b[39m\"\u001b[39m \u001b[39m\"\u001b[39m\u001b[39mcolumn rank\u001b[39m\u001b[39m\"\u001b[39m)\n\u001b[1;32m    344\u001b[0m \u001b[39mif\u001b[39;00m matrix_rank(z) \u001b[39m<\u001b[39m z\u001b[39m.\u001b[39mshape[\u001b[39m1\u001b[39m]:\n\u001b[1;32m    345\u001b[0m     \u001b[39mraise\u001b[39;00m \u001b[39mValueError\u001b[39;00m(\n\u001b[1;32m    346\u001b[0m         \u001b[39m\"\u001b[39m\u001b[39minstruments [exog instruments]  do not have \u001b[39m\u001b[39m\"\u001b[39m \u001b[39m\"\u001b[39m\u001b[39mfull column rank\u001b[39m\u001b[39m\"\u001b[39m\n\u001b[1;32m    347\u001b[0m     )\n",
      "\u001b[0;31mValueError\u001b[0m: regressors [exog endog] do not have full column rank"
     ]
    }
   ],
   "source": [
    "# Load the data\n",
    "#data = pd.read_csv('gvcobp_transformed1.csv')\n",
    "data = pd.read_csv('gvcobp_data.csv')\n",
    "\n",
    "# Drop rows with missing values in any of the columns used in the regression\n",
    "columns_to_check = ['onset2COWCS','decade','logpop_M_diff', 'logpopdens_diff', 'logoutreg_diff', 'ecgrowth_demeaned', 'democracy_diff']\n",
    "\n",
    "# Replace infinite values with NaN\n",
    "data[columns_to_check] = data[columns_to_check].replace([np.inf, -np.inf], np.nan)\n",
    "\n",
    "# Drop rows with NaN in these columns\n",
    "data = data.dropna(subset=columns_to_check)\n",
    "\n",
    "# Set the MultiIndex\n",
    "data = data.set_index(['country', 't'])\n",
    "\n",
    "# Now you can create your dummies\n",
    "country_dummies = pd.get_dummies(data.index.get_level_values('country'), drop_first=True, prefix='C').astype(str)\n",
    "year_dummies = pd.get_dummies(data.index.get_level_values('t'), drop_first=True, prefix='Y').astype(str)\n",
    "dummies = pd.concat([country_dummies, year_dummies], axis=1)\n",
    "\n",
    "# Reset the index for 'data' and 'dummies', and then concatenate along axis=1\n",
    "data = data.reset_index()\n",
    "data_with_dummies = pd.concat([data, dummies], axis=1)\n",
    "\n",
    "# Restore the original MultiIndex\n",
    "data_with_dummies.set_index(['country', 't'], inplace=True)\n",
    "\n",
    "# List of variables to regress on\n",
    "variables = ['oilreserves']\n",
    "\n",
    "# DataFrame to store results\n",
    "results_data = []\n",
    "\n",
    "# Loop through each variable and its corresponding instrument and run the regression for both instruments\n",
    "for var in variables:\n",
    "        fixed_effects = ' + '.join(dummies.columns)\n",
    "        formula = f'onset2COWCS ~ 1 + {var} + logpop_M_diff + logpopdens_diff + logoutreg_diff + ecgrowth_demeaned + democracy_diff + {fixed_effects}'\n",
    "        model_ols = OLS.from_formula(formula, data_with_dummies).fit()\n",
    "        \n",
    "        # Add the results to the list\n",
    "        results_data.append({\n",
    "            'Variable': var,\n",
    "            'Coefficient': model_ols.params[var],\n",
    "            'Std Error': model_ols.std_errors[var],\n",
    "            'P-value': model_ols.pvalues[var]\n",
    "        })\n",
    "\n",
    "# add to results\n",
    "results_df = pd.DataFrame(results_data)\n",
    " \n",
    "results_df.to_csv('mix_results.csv', mode='a', header=False, index=False)"
   ]
  },
  {
   "cell_type": "code",
   "execution_count": 5,
   "metadata": {},
   "outputs": [],
   "source": [
    "databp = pd.read_csv('bp_results.csv')\n",
    "datafp = pd.read_csv('fp_results.csv')\n",
    "datamix = pd.read_csv('mix_results.csv')\n",
    "\n",
    "databp = databp[databp['Variable'] == 'oilreserves']\n",
    "datafp = datafp[datafp['Variable'] == 'oilreserves']\n",
    "datamix = datamix[datamix['Variable'] == 'oilreserves']\n",
    "\n",
    "fuel_data = pd.concat([databp, datafp, datamix], ignore_index=True)\n",
    "fuel_data.to_csv('fuel_results.csv')\n",
    "\n"
   ]
  }
 ],
 "metadata": {
  "kernelspec": {
   "display_name": "Python 3",
   "language": "python",
   "name": "python3"
  },
  "language_info": {
   "codemirror_mode": {
    "name": "ipython",
    "version": 3
   },
   "file_extension": ".py",
   "mimetype": "text/x-python",
   "name": "python",
   "nbconvert_exporter": "python",
   "pygments_lexer": "ipython3",
   "version": "3.8.9"
  },
  "orig_nbformat": 4
 },
 "nbformat": 4,
 "nbformat_minor": 2
}
