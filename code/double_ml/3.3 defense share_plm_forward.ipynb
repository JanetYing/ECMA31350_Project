{
 "cells": [
  {
   "cell_type": "code",
   "execution_count": 1,
   "metadata": {},
   "outputs": [],
   "source": [
    "import numpy as np\n",
    "import pandas as pd\n",
    "import scipy as sp\n",
    "from sklearn.neighbors import KNeighborsClassifier\n",
    "from sklearn.ensemble import RandomForestClassifier, RandomForestRegressor\n",
    "from sklearn.linear_model import LinearRegression\n",
    "from sklearn.linear_model import LogisticRegression\n",
    "from sklearn.model_selection import KFold, StratifiedKFold, train_test_split\n",
    "from sklearn.metrics import mean_squared_error, log_loss\n",
    "from sklearn.preprocessing import LabelEncoder\n",
    "import sklearn\n",
    "import os\n",
    "from matplotlib.pyplot import hist\n",
    "import scipy.stats as stats\n",
    "import math\n",
    "import statsmodels.api as sm\n"
   ]
  },
  {
   "cell_type": "code",
   "execution_count": 2,
   "metadata": {},
   "outputs": [],
   "source": [
    "# read in the dataframe\n",
    "df = pd.read_csv('df_fp.csv')"
   ]
  },
  {
   "cell_type": "code",
   "execution_count": 3,
   "metadata": {},
   "outputs": [],
   "source": [
    "df1 = pd.read_csv('../../data/GVC_data/transportIV_file.csv')\n",
    "df1 = df1.loc[:, ['country', 't', 'trans_outp_p']]\n",
    "\n",
    "df = pd.merge(df, df1, on=['country', 't'])"
   ]
  },
  {
   "cell_type": "code",
   "execution_count": 4,
   "metadata": {},
   "outputs": [
    {
     "name": "stdout",
     "output_type": "stream",
     "text": [
      "country                        object\n",
      "t                               int64\n",
      "onset2COWCS                   float64\n",
      "milexp_pergdpSIPRI            float64\n",
      "decade                        float64\n",
      "democracy                     float64\n",
      "logmountain                   float64\n",
      "ethnic_fractionalization      float64\n",
      "religion_fractionalization    float64\n",
      "language_fractionalization    float64\n",
      "leg_british                   float64\n",
      "opec                          float64\n",
      "logpop_M_diff                 float64\n",
      "logpopdens_diff               float64\n",
      "logoutreg_diff                float64\n",
      "ecgrowth_demeaned             float64\n",
      "treat_agri                    float64\n",
      "treat_mine                    float64\n",
      "treat_fuel                    float64\n",
      "treat_metal                   float64\n",
      "iv_transport                  float64\n",
      "iv_agri                       float64\n",
      "iv_mine                       float64\n",
      "iv_fuel                       float64\n",
      "iv_metal                      float64\n",
      "trans_outp_p                  float64\n",
      "dtype: object\n"
     ]
    }
   ],
   "source": [
    "print(df.dtypes)"
   ]
  },
  {
   "cell_type": "code",
   "execution_count": 5,
   "metadata": {},
   "outputs": [
    {
     "name": "stdout",
     "output_type": "stream",
     "text": [
      "There are 181 unique countries in the dataset.\n"
     ]
    }
   ],
   "source": [
    "num_countries = df['country'].nunique()\n",
    "print(f\"There are {num_countries} unique countries in the dataset.\")"
   ]
  },
  {
   "cell_type": "markdown",
   "metadata": {},
   "source": [
    "Without Country Fixed effect"
   ]
  },
  {
   "cell_type": "code",
   "execution_count": 6,
   "metadata": {},
   "outputs": [],
   "source": [
    "import pandas as pd\n",
    "import numpy as np\n",
    "import doubleml as dml\n",
    "from sklearn.ensemble import RandomForestRegressor\n",
    "from sklearn.base import clone\n",
    "\n",
    "# Define the machine learning model for the treatment effect (ml_m) and outcome (ml_l)\n",
    "learner = RandomForestRegressor(n_estimators=100, max_features='sqrt', random_state=1111)\n",
    "ml_m = clone(learner)  # Machine learning model for the treatment effect\n",
    "ml_l = clone(learner)  # Machine learning model for the outcome"
   ]
  },
  {
   "cell_type": "code",
   "execution_count": 7,
   "metadata": {},
   "outputs": [],
   "source": [
    "import pandas as pd\n",
    "from sklearn.ensemble import RandomForestRegressor\n",
    "from sklearn.base import clone\n",
    "import doubleml as dml\n",
    "\n",
    "def run_plr(df, outcome_l, treatment_l, block_l, fe, stationary_c):\n",
    "    # Select the relevant columns and drop NA\n",
    "    df_subset = df[outcome_l + treatment_l + block_l].dropna()\n",
    "\n",
    "    # Prepare the data for DoubleML\n",
    "    obj_dml_data = dml.DoubleMLData(df_subset, y_col=outcome_l[0], d_cols=treatment_l[0], x_cols=block_l)\n",
    "\n",
    "    # Define the machine learning models\n",
    "    learner = RandomForestRegressor(n_estimators=500, max_features='sqrt', random_state=1111)\n",
    "    ml_m = clone(learner)\n",
    "    ml_l = clone(learner)\n",
    "\n",
    "    # Set up the PLR model\n",
    "    dml_plr = dml.DoubleMLPLR(obj_dml_data, ml_l=ml_l, ml_m=ml_m, n_folds=10)\n",
    "\n",
    "    # Fit the PLR model and get the summary\n",
    "    plr_results = dml_plr.fit()\n",
    "    summary = plr_results.summary  # Access summary as an attribute, not a method\n",
    "\n",
    "    return summary"
   ]
  },
  {
   "cell_type": "code",
   "execution_count": 8,
   "metadata": {},
   "outputs": [],
   "source": [
    "def run_all(df, outcome_l, treatment_l, block_fe_l, block_sta_l, block_other_l):\n",
    "    # Adjusted the columns to store summaries in a list since they're DataFrames now\n",
    "    summaries = []\n",
    "\n",
    "    for fe in [True, False]:\n",
    "        block_l = block_other_l.copy()\n",
    "        if fe:\n",
    "            # Exclude 'country' from fixed effects\n",
    "            block_l += [b for b in block_fe_l if b != 'country']\n",
    "        for sta in [True, False]:\n",
    "            if sta:\n",
    "                block_l += block_sta_l\n",
    "            summary = run_plr(df, outcome_l, treatment_l, block_l, fe, sta)\n",
    "            summaries.append(summary)  # Append the summary DataFrame to the list\n",
    "\n",
    "    return summaries  # Return the list of summary DataFrames"
   ]
  },
  {
   "cell_type": "code",
   "execution_count": 9,
   "metadata": {},
   "outputs": [],
   "source": [
    "plr_summaries = run_all(df, \n",
    "                        outcome_l=['milexp_pergdpSIPRI'], \n",
    "                        treatment_l=['treat_fuel'],\n",
    "                        block_fe_l=['country', 't'],  # 'country' will be ignored in the fixed effects\n",
    "                        block_sta_l=['logmountain', 'ethnic_fractionalization', 'religion_fractionalization', 'language_fractionalization'], \n",
    "                        block_other_l=['democracy', 'logpopdens_diff', 'ecgrowth_demeaned'])"
   ]
  },
  {
   "cell_type": "code",
   "execution_count": 10,
   "metadata": {},
   "outputs": [
    {
     "name": "stdout",
     "output_type": "stream",
     "text": [
      "[                coef    std err         t     P>|t|      2.5 %     97.5 %\n",
      "treat_fuel -9.498292  17.835318 -0.532555  0.594341 -44.454873  25.458288,                coef   std err         t     P>|t|      2.5 %     97.5 %\n",
      "treat_fuel -0.43974  9.411486 -0.046724  0.962733 -18.885914  18.006434,                 coef   std err         t     P>|t|      2.5 %     97.5 %\n",
      "treat_fuel -0.810377  6.444519 -0.125747  0.899932 -13.441401  11.820647,                 coef   std err         t     P>|t|      2.5 %     97.5 %\n",
      "treat_fuel  0.560188  6.276518  0.089251  0.928882 -11.741561  12.861938]\n"
     ]
    }
   ],
   "source": [
    "print(plr_summaries)"
   ]
  },
  {
   "cell_type": "code",
   "execution_count": 11,
   "metadata": {},
   "outputs": [
    {
     "name": "stdout",
     "output_type": "stream",
     "text": [
      "       coef    std err         t     P>|t|      2.5 %     97.5 %  \\\n",
      "0 -9.498292  17.835318 -0.532555  0.594341 -44.454873  25.458288   \n",
      "1 -0.439740   9.411486 -0.046724  0.962733 -18.885914  18.006434   \n",
      "2 -0.810377   6.444519 -0.125747  0.899932 -13.441401  11.820647   \n",
      "3  0.560188   6.276518  0.089251  0.928882 -11.741561  12.861938   \n",
      "\n",
      "   fixed_effects  stationary_controls  \n",
      "0           True                 True  \n",
      "1           True                False  \n",
      "2          False                 True  \n",
      "3          False                False  \n"
     ]
    }
   ],
   "source": [
    "import pandas as pd\n",
    "\n",
    "# Assuming plr_summaries is a list of DataFrames as shown in your print output\n",
    "# We'll add a multi-index or additional columns to indicate whether fixed effects or stationary controls were used\n",
    "\n",
    "# Define the configurations corresponding to your summaries for clarity\n",
    "configurations = [\n",
    "    {'fixed_effects': True, 'stationary_controls': True},\n",
    "    {'fixed_effects': True, 'stationary_controls': False},\n",
    "    {'fixed_effects': False, 'stationary_controls': True},\n",
    "    {'fixed_effects': False, 'stationary_controls': False},\n",
    "]\n",
    "\n",
    "# Add a multi-index or new columns to each DataFrame to indicate the configuration\n",
    "for i, summary in enumerate(plr_summaries):\n",
    "    summary['fixed_effects'] = configurations[i]['fixed_effects']\n",
    "    summary['stationary_controls'] = configurations[i]['stationary_controls']\n",
    "\n",
    "# Concatenate all the DataFrames into one\n",
    "combined_summary = pd.concat(plr_summaries, axis=0)\n",
    "\n",
    "# Reset index if you want a clean index\n",
    "combined_summary.reset_index(drop=True, inplace=True)\n",
    "\n",
    "# Now you can print or display the combined summary\n",
    "print(combined_summary)\n"
   ]
  },
  {
   "cell_type": "markdown",
   "metadata": {},
   "source": [
    "With country fix effect"
   ]
  },
  {
   "cell_type": "code",
   "execution_count": 12,
   "metadata": {},
   "outputs": [],
   "source": [
    "import pandas as pd\n",
    "from sklearn.ensemble import RandomForestRegressor\n",
    "from sklearn.base import clone\n",
    "import doubleml as dml\n",
    "\n",
    "def run_plr(df, outcome_l, treatment_l, block_l, fe, stationary_c):\n",
    "    # If fixed effects include 'country', apply one-hot encoding\n",
    "    if fe and 'country' in block_l:\n",
    "        df = pd.get_dummies(df, columns=['country'])\n",
    "        block_l = [col for col in df.columns if col not in outcome_l + treatment_l]  # Update block_l to include new dummy variables\n",
    "\n",
    "    # Select the relevant columns and drop NA\n",
    "    df_subset = df[outcome_l + treatment_l + block_l].dropna()\n",
    "\n",
    "    # Prepare the data for DoubleML\n",
    "    obj_dml_data = dml.DoubleMLData(df_subset, y_col=outcome_l[0], d_cols=treatment_l[0], x_cols=block_l)\n",
    "\n",
    "    # Define the machine learning models\n",
    "    learner = RandomForestRegressor(n_estimators=500, max_features='sqrt', random_state=1111)\n",
    "    ml_m = clone(learner)\n",
    "    ml_l = clone(learner)\n",
    "\n",
    "    # Set up the PLR model\n",
    "    dml_plr = dml.DoubleMLPLR(obj_dml_data, ml_l=ml_l, ml_m=ml_m, n_folds=10)\n",
    "\n",
    "    # Fit the PLR model and get the summary\n",
    "    plr_results = dml_plr.fit()\n",
    "    summary = plr_results.summary\n",
    "\n",
    "    return summary\n",
    "\n",
    "def run_all(df, outcome_l, treatment_l, block_fe_l, block_sta_l, block_other_l):\n",
    "    # Adjusted the columns to store summaries in a list since they're DataFrames now\n",
    "    summaries = []\n",
    "\n",
    "    for fe in [True, False]:\n",
    "        block_l = block_other_l.copy()\n",
    "        if fe:\n",
    "            block_l += block_fe_l  # Keep 'country' in block_fe_l to include country fixed effects\n",
    "        for sta in [True, False]:\n",
    "            if sta:\n",
    "                block_l += block_sta_l\n",
    "            summary = run_plr(df, outcome_l, treatment_l, block_l, fe, sta)\n",
    "            summaries.append(summary)  # Append the summary DataFrame to the list\n",
    "\n",
    "    return summaries\n",
    "\n",
    "# Example usage\n",
    "plr_summaries = run_all(df, \n",
    "                        outcome_l=['milexp_pergdpSIPRI'], \n",
    "                        treatment_l=['treat_fuel'],\n",
    "                        block_fe_l=['country', 't'],  # Include 'country' for fixed effects\n",
    "                        block_sta_l=['logmountain', 'ethnic_fractionalization', 'religion_fractionalization', 'language_fractionalization'], \n",
    "                        block_other_l=['democracy', 'logpopdens_diff', 'ecgrowth_demeaned'])\n"
   ]
  },
  {
   "cell_type": "code",
   "execution_count": 13,
   "metadata": {},
   "outputs": [
    {
     "name": "stdout",
     "output_type": "stream",
     "text": [
      "[                coef    std err        t     P>|t|      2.5 %     97.5 %\n",
      "treat_fuel -6.002804  10.627073 -0.56486  0.572169 -26.831485  14.825876,                 coef   std err         t     P>|t|      2.5 %     97.5 %\n",
      "treat_fuel -4.567945  8.348694 -0.547145  0.584279 -20.931086  11.795195,                 coef   std err         t     P>|t|     2.5 %     97.5 %\n",
      "treat_fuel  2.925725  5.257317  0.556505  0.577865 -7.378427  13.229877,                 coef   std err         t     P>|t|      2.5 %     97.5 %\n",
      "treat_fuel  0.056051  5.798509  0.009666  0.992287 -11.308817  11.420919]\n"
     ]
    }
   ],
   "source": [
    "print(plr_summaries)"
   ]
  },
  {
   "cell_type": "code",
   "execution_count": 14,
   "metadata": {},
   "outputs": [
    {
     "name": "stdout",
     "output_type": "stream",
     "text": [
      "     coef  std err       t   P>|t|    2.5 %   97.5 %  fixed_effects  \\\n",
      "0 -6.0028  10.6271 -0.5649  0.5722 -26.8315  14.8259           True   \n",
      "1 -4.5679   8.3487 -0.5471  0.5843 -20.9311  11.7952           True   \n",
      "2  2.9257   5.2573  0.5565  0.5779  -7.3784  13.2299          False   \n",
      "3  0.0561   5.7985  0.0097  0.9923 -11.3088  11.4209          False   \n",
      "\n",
      "   stationary_controls  \n",
      "0                 True  \n",
      "1                False  \n",
      "2                 True  \n",
      "3                False  \n"
     ]
    }
   ],
   "source": [
    "import pandas as pd\n",
    "\n",
    "# Define the configurations corresponding to your summaries for clarity\n",
    "configurations = [\n",
    "    {'fixed_effects': True, 'stationary_controls': True},\n",
    "    {'fixed_effects': True, 'stationary_controls': False},\n",
    "    {'fixed_effects': False, 'stationary_controls': True},\n",
    "    {'fixed_effects': False, 'stationary_controls': False},\n",
    "]\n",
    "\n",
    "# Add a multi-index or new columns to each DataFrame to indicate the configuration\n",
    "for i, summary in enumerate(plr_summaries):\n",
    "    summary['fixed_effects'] = configurations[i]['fixed_effects']\n",
    "    summary['stationary_controls'] = configurations[i]['stationary_controls']\n",
    "\n",
    "# Concatenate all the DataFrames into one\n",
    "combined_summary = pd.concat(plr_summaries, axis=0)\n",
    "\n",
    "# Reset index\n",
    "combined_summary.reset_index(drop=True, inplace=True)\n",
    "rounded_combsum = round(combined_summary, 4)\n",
    "\n",
    "print(rounded_combsum)\n"
   ]
  },
  {
   "cell_type": "code",
   "execution_count": 15,
   "metadata": {},
   "outputs": [],
   "source": [
    "dfs = [rounded_combsum]\n",
    "stacked_df = pd.concat(dfs)\n",
    "final_res = stacked_df.reset_index(drop=True)\n",
    "final_res.insert(0, 'gvc_type', 'forward')\n",
    "final_res\n",
    "final_res.to_csv('forward_res.csv', index=False)"
   ]
  }
 ],
 "metadata": {
  "kernelspec": {
   "display_name": "Python 3",
   "language": "python",
   "name": "python3"
  },
  "language_info": {
   "codemirror_mode": {
    "name": "ipython",
    "version": 3
   },
   "file_extension": ".py",
   "mimetype": "text/x-python",
   "name": "python",
   "nbconvert_exporter": "python",
   "pygments_lexer": "ipython3",
   "version": "3.11.5"
  }
 },
 "nbformat": 4,
 "nbformat_minor": 2
}
