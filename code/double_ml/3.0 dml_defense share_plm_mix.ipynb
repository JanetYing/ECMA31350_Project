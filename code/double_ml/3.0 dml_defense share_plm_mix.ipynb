{
 "cells": [
  {
   "cell_type": "code",
   "execution_count": 1,
   "metadata": {},
   "outputs": [],
   "source": [
    "import numpy as np\n",
    "import pandas as pd\n",
    "import scipy as sp\n",
    "from sklearn.neighbors import KNeighborsClassifier\n",
    "from sklearn.ensemble import RandomForestClassifier, RandomForestRegressor\n",
    "from sklearn.linear_model import LinearRegression\n",
    "from sklearn.linear_model import LogisticRegression\n",
    "from sklearn.model_selection import KFold, StratifiedKFold, train_test_split\n",
    "from sklearn.metrics import mean_squared_error, log_loss\n",
    "from sklearn.preprocessing import LabelEncoder\n",
    "import sklearn\n",
    "import os\n",
    "from matplotlib.pyplot import hist\n",
    "import scipy.stats as stats\n",
    "import math\n",
    "import statsmodels.api as sm"
   ]
  },
  {
   "cell_type": "code",
   "execution_count": 6,
   "metadata": {},
   "outputs": [],
   "source": [
    "# read in the dataframe\n",
    "df = pd.read_csv('df_mix.csv')"
   ]
  },
  {
   "cell_type": "code",
   "execution_count": 24,
   "metadata": {},
   "outputs": [],
   "source": [
    "df1 = pd.read_csv('../../data/GVC_data/transportIV_file.csv')\n",
    "df1 = df1.loc[:, ['country', 't', 'trans_outp_p']]\n",
    "\n",
    "df = pd.merge(df, df1, on=['country', 't'])"
   ]
  },
  {
   "cell_type": "code",
   "execution_count": 25,
   "metadata": {},
   "outputs": [
    {
     "name": "stdout",
     "output_type": "stream",
     "text": [
      "country                        object\n",
      "t                               int64\n",
      "onset2COWCS                   float64\n",
      "milexp_pergdpSIPRI            float64\n",
      "decade                        float64\n",
      "democracy                     float64\n",
      "logmountain                   float64\n",
      "ethnic_fractionalization      float64\n",
      "religion_fractionalization    float64\n",
      "language_fractionalization    float64\n",
      "leg_british                   float64\n",
      "opec                          float64\n",
      "logpop_M_diff                 float64\n",
      "logpopdens_diff               float64\n",
      "logoutreg_diff                float64\n",
      "ecgrowth_demeaned             float64\n",
      "treat_agri                    float64\n",
      "treat_mine                    float64\n",
      "treat_fuel                    float64\n",
      "treat_metal                   float64\n",
      "iv_transport                  float64\n",
      "iv_agri                       float64\n",
      "iv_mine                       float64\n",
      "iv_fuel                       float64\n",
      "iv_metal                      float64\n",
      "trans_outp_p_x                float64\n",
      "trans_outp_p_y                float64\n",
      "dtype: object\n"
     ]
    }
   ],
   "source": [
    "print(df.dtypes)"
   ]
  },
  {
   "cell_type": "code",
   "execution_count": 23,
   "metadata": {},
   "outputs": [
    {
     "name": "stdout",
     "output_type": "stream",
     "text": [
      "There are 116 unique countries in the dataset.\n"
     ]
    }
   ],
   "source": [
    "num_countries = df['country'].nunique()\n",
    "print(f\"There are {num_countries} unique countries in the dataset.\")"
   ]
  },
  {
   "cell_type": "markdown",
   "metadata": {},
   "source": [
    "Without Country Fixed effect"
   ]
  },
  {
   "cell_type": "code",
   "execution_count": 26,
   "metadata": {},
   "outputs": [],
   "source": [
    "import pandas as pd\n",
    "import numpy as np\n",
    "import doubleml as dml\n",
    "from sklearn.ensemble import RandomForestRegressor\n",
    "from sklearn.base import clone\n",
    "\n",
    "# Define the machine learning model for the treatment effect (ml_m) and outcome (ml_l)\n",
    "learner = RandomForestRegressor(n_estimators=100, max_features='sqrt', random_state=1111)\n",
    "ml_m = clone(learner)  # Machine learning model for the treatment effect\n",
    "ml_l = clone(learner)  # Machine learning model for the outcome"
   ]
  },
  {
   "cell_type": "code",
   "execution_count": 60,
   "metadata": {},
   "outputs": [],
   "source": [
    "import pandas as pd\n",
    "from sklearn.ensemble import RandomForestRegressor\n",
    "from sklearn.base import clone\n",
    "import doubleml as dml\n",
    "\n",
    "def run_plr(df, outcome_l, treatment_l, block_l, fe, stationary_c):\n",
    "    # Select the relevant columns and drop NA\n",
    "    df_subset = df[outcome_l + treatment_l + block_l].dropna()\n",
    "\n",
    "    # Prepare the data for DoubleML\n",
    "    obj_dml_data = dml.DoubleMLData(df_subset, y_col=outcome_l[0], d_cols=treatment_l[0], x_cols=block_l)\n",
    "\n",
    "    # Define the machine learning models\n",
    "    learner = RandomForestRegressor(n_estimators=500, max_features='sqrt', random_state=1111)\n",
    "    ml_m = clone(learner)\n",
    "    ml_l = clone(learner)\n",
    "\n",
    "    # Set up the PLR model\n",
    "    dml_plr = dml.DoubleMLPLR(obj_dml_data, ml_l=ml_l, ml_m=ml_m, n_folds=10)\n",
    "\n",
    "    # Fit the PLR model and get the summary\n",
    "    plr_results = dml_plr.fit()\n",
    "    summary = plr_results.summary  # Access summary as an attribute, not a method\n",
    "\n",
    "    return summary"
   ]
  },
  {
   "cell_type": "code",
   "execution_count": 61,
   "metadata": {},
   "outputs": [],
   "source": [
    "def run_all(df, outcome_l, treatment_l, block_fe_l, block_sta_l, block_other_l):\n",
    "    # Adjusted the columns to store summaries in a list since they're DataFrames now\n",
    "    summaries = []\n",
    "\n",
    "    for fe in [True, False]:\n",
    "        block_l = block_other_l.copy()\n",
    "        if fe:\n",
    "            # Exclude 'country' from fixed effects\n",
    "            block_l += [b for b in block_fe_l if b != 'country']\n",
    "        for sta in [True, False]:\n",
    "            if sta:\n",
    "                block_l += block_sta_l\n",
    "            summary = run_plr(df, outcome_l, treatment_l, block_l, fe, sta)\n",
    "            summaries.append(summary)  # Append the summary DataFrame to the list\n",
    "\n",
    "    return summaries  # Return the list of summary DataFrames"
   ]
  },
  {
   "cell_type": "code",
   "execution_count": 62,
   "metadata": {},
   "outputs": [],
   "source": [
    "plr_summaries = run_all(df, \n",
    "                        outcome_l=['milexp_pergdpSIPRI'], \n",
    "                        treatment_l=['treat_fuel'],\n",
    "                        block_fe_l=['country', 't'],  # 'country' will be ignored in the fixed effects\n",
    "                        block_sta_l=['logmountain', 'ethnic_fractionalization', 'religion_fractionalization', 'language_fractionalization'], \n",
    "                        block_other_l=['democracy', 'logpopdens_diff', 'ecgrowth_demeaned'])"
   ]
  },
  {
   "cell_type": "code",
   "execution_count": 63,
   "metadata": {},
   "outputs": [
    {
     "name": "stdout",
     "output_type": "stream",
     "text": [
      "[               coef   std err         t   P>|t|     2.5 %     97.5 %\n",
      "treat_fuel  5.51942  7.686223  0.718093  0.4727 -9.545301  20.584141,                  coef    std err         t     P>|t|     2.5 %     97.5 %\n",
      "treat_fuel  25.148928  18.776181  1.339406  0.180439 -11.65171  61.949566,                  coef    std err         t     P>|t|      2.5 %     97.5 %\n",
      "treat_fuel  11.632668  13.366769  0.870268  0.384154 -14.565718  37.831054,                  coef    std err         t     P>|t|      2.5 %     97.5 %\n",
      "treat_fuel  12.361575  13.032301  0.948534  0.342858 -13.181266  37.904415]\n"
     ]
    }
   ],
   "source": [
    "print(plr_summaries)"
   ]
  },
  {
   "cell_type": "code",
   "execution_count": 64,
   "metadata": {},
   "outputs": [
    {
     "name": "stdout",
     "output_type": "stream",
     "text": [
      "        coef    std err         t     P>|t|      2.5 %     97.5 %  \\\n",
      "0   5.519420   7.686223  0.718093  0.472700  -9.545301  20.584141   \n",
      "1  25.148928  18.776181  1.339406  0.180439 -11.651710  61.949566   \n",
      "2  11.632668  13.366769  0.870268  0.384154 -14.565718  37.831054   \n",
      "3  12.361575  13.032301  0.948534  0.342858 -13.181266  37.904415   \n",
      "\n",
      "   fixed_effects  stationary_controls  \n",
      "0           True                 True  \n",
      "1           True                False  \n",
      "2          False                 True  \n",
      "3          False                False  \n"
     ]
    }
   ],
   "source": [
    "import pandas as pd\n",
    "\n",
    "# Assuming plr_summaries is a list of DataFrames as shown in your print output\n",
    "# We'll add a multi-index or additional columns to indicate whether fixed effects or stationary controls were used\n",
    "\n",
    "# Define the configurations corresponding to your summaries for clarity\n",
    "configurations = [\n",
    "    {'fixed_effects': True, 'stationary_controls': True},\n",
    "    {'fixed_effects': True, 'stationary_controls': False},\n",
    "    {'fixed_effects': False, 'stationary_controls': True},\n",
    "    {'fixed_effects': False, 'stationary_controls': False},\n",
    "]\n",
    "\n",
    "# Add a multi-index or new columns to each DataFrame to indicate the configuration\n",
    "for i, summary in enumerate(plr_summaries):\n",
    "    summary['fixed_effects'] = configurations[i]['fixed_effects']\n",
    "    summary['stationary_controls'] = configurations[i]['stationary_controls']\n",
    "\n",
    "# Concatenate all the DataFrames into one\n",
    "combined_summary = pd.concat(plr_summaries, axis=0)\n",
    "\n",
    "# Reset index if you want a clean index\n",
    "combined_summary.reset_index(drop=True, inplace=True)\n",
    "\n",
    "# Now you can print or display the combined summary\n",
    "print(combined_summary)\n"
   ]
  },
  {
   "cell_type": "markdown",
   "metadata": {},
   "source": [
    "With country fix effect"
   ]
  },
  {
   "cell_type": "code",
   "execution_count": 65,
   "metadata": {},
   "outputs": [],
   "source": [
    "import pandas as pd\n",
    "from sklearn.ensemble import RandomForestRegressor\n",
    "from sklearn.base import clone\n",
    "import doubleml as dml\n",
    "\n",
    "def run_plr(df, outcome_l, treatment_l, block_l, fe, stationary_c):\n",
    "    # If fixed effects include 'country', apply one-hot encoding\n",
    "    if fe and 'country' in block_fe_l:\n",
    "        df = pd.get_dummies(df, columns=['country'])\n",
    "        block_l = [col for col in df.columns if col not in outcome_l + treatment_l]  # Update block_l to include new dummy variables\n",
    "\n",
    "    # Select the relevant columns and drop NA\n",
    "    df_subset = df[outcome_l + treatment_l + block_l].dropna()\n",
    "\n",
    "    # Prepare the data for DoubleML\n",
    "    obj_dml_data = dml.DoubleMLData(df_subset, y_col=outcome_l[0], d_cols=treatment_l[0], x_cols=block_l)\n",
    "\n",
    "    # Define the machine learning models\n",
    "    learner = RandomForestRegressor(n_estimators=500, max_features='sqrt', random_state=1111)\n",
    "    ml_m = clone(learner)\n",
    "    ml_l = clone(learner)\n",
    "\n",
    "    # Set up the PLR model\n",
    "    dml_plr = dml.DoubleMLPLR(obj_dml_data, ml_l=ml_l, ml_m=ml_m, n_folds=10)\n",
    "\n",
    "    # Fit the PLR model and get the summary\n",
    "    plr_results = dml_plr.fit()\n",
    "    summary = plr_results.summary\n",
    "\n",
    "    return summary\n",
    "\n",
    "def run_all(df, outcome_l, treatment_l, block_fe_l, block_sta_l, block_other_l):\n",
    "    # Adjusted the columns to store summaries in a list since they're DataFrames now\n",
    "    summaries = []\n",
    "\n",
    "    for fe in [True, False]:\n",
    "        block_l = block_other_l.copy()\n",
    "        if fe:\n",
    "            block_l += block_fe_l  # Keep 'country' in block_fe_l to include country fixed effects\n",
    "        for sta in [True, False]:\n",
    "            if sta:\n",
    "                block_l += block_sta_l\n",
    "            summary = run_plr(df, outcome_l, treatment_l, block_l, fe, sta)\n",
    "            summaries.append(summary)  # Append the summary DataFrame to the list\n",
    "\n",
    "    return summaries\n",
    "\n",
    "# Example usage\n",
    "plr_summaries = run_all(df, \n",
    "                        outcome_l=['milexp_pergdpSIPRI'], \n",
    "                        treatment_l=['treat_fuel'],\n",
    "                        block_fe_l=['country', 't'],  # Include 'country' for fixed effects\n",
    "                        block_sta_l=['logmountain', 'ethnic_fractionalization', 'religion_fractionalization', 'language_fractionalization'], \n",
    "                        block_other_l=['democracy', 'logpopdens_diff', 'ecgrowth_demeaned'])\n"
   ]
  },
  {
   "cell_type": "code",
   "execution_count": 66,
   "metadata": {},
   "outputs": [
    {
     "name": "stdout",
     "output_type": "stream",
     "text": [
      "[                 coef    std err         t     P>|t|      2.5 %     97.5 %\n",
      "treat_fuel  31.099312  33.435277  0.930135  0.352301 -34.432628  96.631251,                  coef    std err        t     P>|t|     2.5 %      97.5 %\n",
      "treat_fuel  33.984366  34.917354  0.97328  0.330414 -34.45239  102.421122,                  coef    std err        t     P>|t|     2.5 %     97.5 %\n",
      "treat_fuel  13.366071  13.948859  0.95822  0.337952 -13.97319  40.705333,                  coef    std err         t     P>|t|      2.5 %     97.5 %\n",
      "treat_fuel  13.702961  14.950962  0.916527  0.359391 -15.600387  43.006309]\n"
     ]
    }
   ],
   "source": [
    "print(plr_summaries)"
   ]
  },
  {
   "cell_type": "code",
   "execution_count": 67,
   "metadata": {},
   "outputs": [
    {
     "name": "stdout",
     "output_type": "stream",
     "text": [
      "        coef    std err         t     P>|t|      2.5 %      97.5 %  \\\n",
      "0  31.099312  33.435277  0.930135  0.352301 -34.432628   96.631251   \n",
      "1  33.984366  34.917354  0.973280  0.330414 -34.452390  102.421122   \n",
      "2  13.366071  13.948859  0.958220  0.337952 -13.973190   40.705333   \n",
      "3  13.702961  14.950962  0.916527  0.359391 -15.600387   43.006309   \n",
      "\n",
      "   fixed_effects  stationary_controls  \n",
      "0           True                 True  \n",
      "1           True                False  \n",
      "2          False                 True  \n",
      "3          False                False  \n"
     ]
    }
   ],
   "source": [
    "import pandas as pd\n",
    "\n",
    "# Assuming plr_summaries is a list of DataFrames as shown in your print output\n",
    "# We'll add a multi-index or additional columns to indicate whether fixed effects or stationary controls were used\n",
    "\n",
    "# Define the configurations corresponding to your summaries for clarity\n",
    "configurations = [\n",
    "    {'fixed_effects': True, 'stationary_controls': True},\n",
    "    {'fixed_effects': True, 'stationary_controls': False},\n",
    "    {'fixed_effects': False, 'stationary_controls': True},\n",
    "    {'fixed_effects': False, 'stationary_controls': False},\n",
    "]\n",
    "\n",
    "# Add a multi-index or new columns to each DataFrame to indicate the configuration\n",
    "for i, summary in enumerate(plr_summaries):\n",
    "    summary['fixed_effects'] = configurations[i]['fixed_effects']\n",
    "    summary['stationary_controls'] = configurations[i]['stationary_controls']\n",
    "\n",
    "# Concatenate all the DataFrames into one\n",
    "combined_summary = pd.concat(plr_summaries, axis=0)\n",
    "\n",
    "# Reset index if you want a clean index\n",
    "combined_summary.reset_index(drop=True, inplace=True)\n",
    "\n",
    "# Now you can print or display the combined summary\n",
    "print(combined_summary)\n"
   ]
  }
 ],
 "metadata": {
  "kernelspec": {
   "display_name": "Python 3",
   "language": "python",
   "name": "python3"
  },
  "language_info": {
   "codemirror_mode": {
    "name": "ipython",
    "version": 3
   },
   "file_extension": ".py",
   "mimetype": "text/x-python",
   "name": "python",
   "nbconvert_exporter": "python",
   "pygments_lexer": "ipython3",
   "version": "3.11.8"
  }
 },
 "nbformat": 4,
 "nbformat_minor": 2
}
