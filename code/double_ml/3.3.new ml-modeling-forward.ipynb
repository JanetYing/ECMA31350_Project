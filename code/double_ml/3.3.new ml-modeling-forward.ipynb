{
 "cells": [
  {
   "attachments": {},
   "cell_type": "markdown",
   "metadata": {},
   "source": [
    "# Double ML - modeling\n",
    "\n",
    "`df_mix`"
   ]
  },
  {
   "attachments": {},
   "cell_type": "markdown",
   "metadata": {},
   "source": [
    "## 0. setup"
   ]
  },
  {
   "cell_type": "code",
   "execution_count": 1,
   "metadata": {},
   "outputs": [],
   "source": [
    "import numpy as np\n",
    "import pandas as pd\n",
    "import scipy as sp\n",
    "from sklearn.neighbors import KNeighborsClassifier\n",
    "from sklearn.ensemble import RandomForestClassifier, RandomForestRegressor\n",
    "from sklearn.linear_model import LinearRegression\n",
    "from sklearn.linear_model import LogisticRegression\n",
    "from sklearn.model_selection import KFold, StratifiedKFold, train_test_split\n",
    "from sklearn.metrics import mean_squared_error, log_loss\n",
    "from sklearn.preprocessing import LabelEncoder\n",
    "import sklearn\n",
    "import os\n",
    "from matplotlib.pyplot import hist\n",
    "import scipy.stats as stats\n",
    "import math\n",
    "import statsmodels.api as sm"
   ]
  },
  {
   "cell_type": "code",
   "execution_count": 2,
   "metadata": {},
   "outputs": [],
   "source": [
    "# set random seed for numpy\n",
    "RANDOM_SEED=42\n",
    "np.random.seed(RANDOM_SEED)"
   ]
  },
  {
   "cell_type": "code",
   "execution_count": 3,
   "metadata": {},
   "outputs": [],
   "source": [
    "def find_p(estimate, std):\n",
    "    z_value = estimate / std\n",
    "    p_value = stats.norm.sf(abs(z_value))*2\n",
    "    return round(estimate, 4), round(std, 4), round(p_value, 4)"
   ]
  },
  {
   "cell_type": "code",
   "execution_count": 4,
   "metadata": {},
   "outputs": [],
   "source": [
    "def label_encode_column(df, column):\n",
    "    le = LabelEncoder()\n",
    "    df[column] = le.fit_transform(df[column])\n",
    "    return df"
   ]
  },
  {
   "attachments": {},
   "cell_type": "markdown",
   "metadata": {},
   "source": [
    "## 1. functions"
   ]
  },
  {
   "attachments": {},
   "cell_type": "markdown",
   "metadata": {},
   "source": [
    "### 1.1 Specify Nuisance Function Models\n",
    "\n",
    "The next step is to specify models for \n",
    "\n",
    "*   $\\mu(z,x)=\\mathbb{E}(Y|z,x)$\n",
    "*   $m(z,x) = P(A=1|z,x)$\n",
    "*   $p(x) = P(Z=1|x)$"
   ]
  },
  {
   "cell_type": "code",
   "execution_count": 5,
   "metadata": {},
   "outputs": [],
   "source": [
    "# make a function that returns a sklearn model for later use in k-folding\n",
    "def make_mu_model():\n",
    "  #return KNeighborsClassifier(n_neighbors=300)\n",
    "  return RandomForestRegressor(random_state=RANDOM_SEED, n_estimators=300, max_depth=None)\n",
    "  #return RandomForestClassifier(n_estimators=100, max_depth=5)\n",
    "\n",
    "# specify a model for m(z,x)\n",
    "def make_m_model():\n",
    "  #return LogisticRegression(max_iter=1000, warm_start=True, random_state=RANDOM_SEED)\n",
    "  #return RandomForestClassifier(n_estimators=200, max_depth=None)\n",
    "  return RandomForestRegressor(random_state=RANDOM_SEED, n_estimators=200, max_depth=None)\n",
    "\n",
    "\n",
    "#def make_p_model():\n",
    "  #return RandomForestClassifier(n_estimators=200, max_depth=None) ###\n",
    "  #return RandomForestRegressor(random_state=RANDOM_SEED, n_estimators=300, max_depth=None)"
   ]
  },
  {
   "attachments": {},
   "cell_type": "markdown",
   "metadata": {},
   "source": [
    "### 1.2 Functions that use cross fitting to get predicted $\\hat{\\mu}$, $\\hat{m}$, $\\hat{p}$ for each unit"
   ]
  },
  {
   "cell_type": "code",
   "execution_count": 6,
   "metadata": {},
   "outputs": [],
   "source": [
    "# helper functions to implement the cross fitting\n",
    "\n",
    "def m_k_fold_fit_and_predict(make_model, X:pd.DataFrame, A:np.array, n_splits:int, output_type:str):\n",
    "    \"\"\"\n",
    "    Implements K fold cross-fitting for the model predicting the outcome Y. \n",
    "    That is, \n",
    "    1. Split data into K folds\n",
    "    2. For each fold j, the model is fit on the other K-1 folds\n",
    "    3. The fitted model is used to make predictions for each data point in fold j\n",
    "    Returns two arrays containing the predictions for all units untreated, all units treated  \n",
    "\n",
    "    Args:\n",
    "    model: function that returns sklearn model (that implements fit and either predict_prob or predict)\n",
    "    X: dataframe of variables to adjust for\n",
    "    A: array of treatments\n",
    "    n_splits: number of splits to use\n",
    "    \"\"\"\n",
    "    predictions = np.full_like(A, np.nan, dtype=float)\n",
    "    if output_type == 'binary':\n",
    "      kf = StratifiedKFold(n_splits=n_splits, shuffle=True, random_state=RANDOM_SEED)\n",
    "    elif output_type == 'continuous':\n",
    "      kf = KFold(n_splits=n_splits, shuffle=True, random_state=RANDOM_SEED)\n",
    "\n",
    "    for train_index, test_index in kf.split(X, A):\n",
    "      X_train = X.loc[train_index]\n",
    "      A_train = A[train_index]\n",
    "\n",
    "      m = make_model()\n",
    "      m.fit(X_train, A_train)\n",
    "    \n",
    "      if output_type == 'binary':\n",
    "        predictions[test_index] = m.predict_proba(X.loc[test_index])[:, 1]\n",
    "      elif output_type == 'continuous':\n",
    "        predictions[test_index] = m.predict(X.loc[test_index])\n",
    "\n",
    "    #assert np.isnan(predictions).sum() == 0  # Ensure no predictions are NaN\n",
    "    return predictions\n",
    "\n",
    "def mu_k_fold_fit_and_predict(make_model, X:pd.DataFrame, Y:np.array, n_splits:int, output_type:str):\n",
    "    \"\"\"\n",
    "    Implements K fold cross-fitting for the model predicting the outcome Y. \n",
    "    That is, \n",
    "    1. Split data into K folds\n",
    "    2. For each fold j, the model is fit on the other K-1 folds\n",
    "    3. The fitted model is used to make predictions for each data point in fold j\n",
    "    Returns two arrays containing the predictions for all units untreated, all units treated  \n",
    "\n",
    "    Args:\n",
    "    model: function that returns sklearn model (that implements fit and either predict_prob or predict)\n",
    "    X: dataframe of variables to adjust for\n",
    "    Y: array of outcomes\n",
    "    n_splits: number of splits to use\n",
    "    output_type: type of outcome, \"binary\" or \"continuous\"\n",
    "\n",
    "    \"\"\"\n",
    "    predictions = np.full_like(Y, np.nan, dtype=float)\n",
    "    if output_type == 'binary':\n",
    "      kf = StratifiedKFold(n_splits=n_splits, shuffle=True, random_state=RANDOM_SEED)\n",
    "    elif output_type == 'continuous':\n",
    "      kf = KFold(n_splits=n_splits, shuffle=True, random_state=RANDOM_SEED)\n",
    "\n",
    "    \n",
    "    for train_index, test_index in kf.split(X, Y):\n",
    "      X_train = X.loc[train_index]\n",
    "      Y_train = Y.loc[train_index]\n",
    "      mu = make_model()\n",
    "      mu.fit(X_train, Y_train)\n",
    "\n",
    "      if output_type =='binary':\n",
    "        predictions[test_index] = mu.predict_proba(X.loc[test_index])[:, 1]\n",
    "      elif output_type == 'continuous':\n",
    "        predictions[test_index] = mu.predict(X.loc[test_index])\n",
    "\n",
    "    #assert np.isnan(predictions).sum() == 0\n",
    "    return predictions"
   ]
  },
  {
   "attachments": {},
   "cell_type": "markdown",
   "metadata": {},
   "source": [
    "### 1.3 LATE"
   ]
  },
  {
   "cell_type": "code",
   "execution_count": 7,
   "metadata": {},
   "outputs": [
    {
     "data": {
      "text/plain": [
       "\"\\ndef late_estimator(mu1, mu0, m1, m0, p, Z, A, Y, prob = None):\\n  '''\\n  Estimator for LATE\\n  '''\\n  n = len(Y)\\n  phi_zy = mu1 - mu0 + Z*(Y-mu1)/p - (1-Z)*(Y-mu0)/(1-p)\\n  phi_za = m1 - m0 + Z*(A-m1)/p - (1-Z)*(A-m0)/(1-p)\\n\\n  tau_za = phi_za.mean()\\n  tau_hat = phi_zy.mean()/tau_za\\n  phi = phi_zy - phi_za * tau_hat\\n  \\n  std_hat = math.sqrt((phi**2).mean()/tau_za**2/n)\\n\\n  return tau_hat, std_hat\\n\""
      ]
     },
     "execution_count": 7,
     "metadata": {},
     "output_type": "execute_result"
    }
   ],
   "source": [
    "\"\"\"\n",
    "def late_estimator(mu1, mu0, m1, m0, p, Z, A, Y, prob = None):\n",
    "  '''\n",
    "  Estimator for LATE\n",
    "  '''\n",
    "  n = len(Y)\n",
    "  phi_zy = mu1 - mu0 + Z*(Y-mu1)/p - (1-Z)*(Y-mu0)/(1-p)\n",
    "  phi_za = m1 - m0 + Z*(A-m1)/p - (1-Z)*(A-m0)/(1-p)\n",
    "\n",
    "  tau_za = phi_za.mean()\n",
    "  tau_hat = phi_zy.mean()/tau_za\n",
    "  phi = phi_zy - phi_za * tau_hat\n",
    "  \n",
    "  std_hat = math.sqrt((phi**2).mean()/tau_za**2/n)\n",
    "\n",
    "  return tau_hat, std_hat\n",
    "\"\"\""
   ]
  },
  {
   "cell_type": "markdown",
   "metadata": {},
   "source": [
    "1.3.1 Partial Linear Model"
   ]
  },
  {
   "cell_type": "code",
   "execution_count": 8,
   "metadata": {},
   "outputs": [],
   "source": [
    "def plm_estimator(mu_predictions, m_predictions, X, A, Y, prob=None):\n",
    "    \"\"\"\n",
    "    Conduct PLM analysis using DML for a continuous outcome and treatment.\n",
    "    \n",
    "    Args:\n",
    "    y: outcome variable\n",
    "    A: treatment variable\n",
    "    X: List of covariates\n",
    "    \n",
    "    Returns:\n",
    "    Estimated PLM effect of the treatment on the outcome.\n",
    "    \"\"\"\n",
    "   \n",
    "    # Residuals for outcome and treatment\n",
    "    Y_res = Y - (mu_predictions)  \n",
    "    A_res = A - (m_predictions)\n",
    "\n",
    "    # Convert to numpy array and reshape\n",
    "    A_res_array = A_res.values.reshape(-1, 1)  \n",
    "    Y_res_array = Y_res.values \n",
    "\n",
    "    # Combine covariates with treatment residuals\n",
    "    X_with_A_res = np.hstack((X, A_res_array))\n",
    "\n",
    "    # Estimate the treatment effect with linear regression on residuals\n",
    "    plm_model = LinearRegression().fit(X_with_A_res, Y_res)\n",
    "\n",
    "    # Estimate the treatment effect with linear regression on residuals\n",
    "    #plm_estimate = LinearRegression().fit(A_res.reshape(-1, 1), Y_res)\n",
    "    \n",
    "    return plm_model"
   ]
  },
  {
   "attachments": {},
   "cell_type": "markdown",
   "metadata": {},
   "source": [
    "### 1.4 Run a trial"
   ]
  },
  {
   "cell_type": "code",
   "execution_count": 9,
   "metadata": {},
   "outputs": [],
   "source": [
    "def run(df, outcome_l, treatment_l, block_l, fe, stationary_c):\n",
    "\n",
    "    df_1 = df[outcome_l+treatment_l+block_l]\n",
    "    df_1 = df_1.dropna()\n",
    "\n",
    "    outcome = df_1[outcome_l].reset_index(drop=True).squeeze()\n",
    "    treatment = df_1[treatment_l].reset_index(drop=True).squeeze()\n",
    "    #instrument = df_1[instrument_l].reset_index(drop=True).squeeze()\n",
    "    block = df_1[block_l].reset_index(drop=True)\n",
    "\n",
    "    # Cross-fitting\n",
    "    #p = p_k_fold_fit_and_predict(make_p_model, X=block, Z=instrument, n_splits=10)\n",
    "    m_predictions= m_k_fold_fit_and_predict(make_m_model, X=block, A=treatment, n_splits=10, output_type=\"continuous\")\n",
    "    mu_predictions= mu_k_fold_fit_and_predict(make_mu_model, X=block, Y=outcome, n_splits=10, output_type=\"continuous\")\n",
    "    plm_model = plm_estimator(mu_predictions, m_predictions, X=block, A=treatment, Y=outcome, prob = None)\n",
    "    tau_hat = plm_model.coef_[0].mean()  # Estimated effect\n",
    "    std_hat = plm_model.coef_[0].std()  # Standard error\n",
    "    tau_hat, std_hat, p = find_p(tau_hat, std_hat) # p-value\n",
    "    return outcome_l[0], treatment_l[0], p, tau_hat, std_hat, fe, stationary_c\n",
    "    "
   ]
  },
  {
   "attachments": {},
   "cell_type": "markdown",
   "metadata": {},
   "source": [
    "## 2. Analysis"
   ]
  },
  {
   "attachments": {},
   "cell_type": "markdown",
   "metadata": {},
   "source": [
    "### 2.1 `df_fp`"
   ]
  },
  {
   "cell_type": "code",
   "execution_count": 10,
   "metadata": {},
   "outputs": [
    {
     "name": "stdout",
     "output_type": "stream",
     "text": [
      "Index(['country', 't', 'onset2COWCS', 'milexp_pergdpSIPRI', 'decade',\n",
      "       'democracy', 'logmountain', 'ethnic_fractionalization',\n",
      "       'religion_fractionalization', 'language_fractionalization',\n",
      "       'leg_british', 'opec', 'logpop_M_diff', 'logpopdens_diff',\n",
      "       'logoutreg_diff', 'ecgrowth_demeaned', 'treat_agri', 'treat_mine',\n",
      "       'treat_fuel', 'treat_metal', 'iv_transport', 'iv_agri', 'iv_mine',\n",
      "       'iv_fuel', 'iv_metal'],\n",
      "      dtype='object')\n"
     ]
    }
   ],
   "source": [
    "# read in the dataframe\n",
    "df = pd.read_csv('df_fp.csv')\n",
    "print(df.columns)"
   ]
  },
  {
   "cell_type": "code",
   "execution_count": 11,
   "metadata": {},
   "outputs": [
    {
     "data": {
      "text/plain": [
       "\"\\nNo longer using IV\\n# Define categorization function for IVs\\ndef categorize_value(value, q1_3, q2_3):\\n    if value > q2_3:\\n        return 1\\n    elif value < q1_3:\\n        return 0\\n    else:\\n        return np.nan\\n\\n# Columns to apply the transformation\\ncolumns = ['iv_transport']\\n\\n# Iterate through the columns and apply the categorization function\\nfor col in columns:\\n    q1_3 = df[col].quantile(1/3)\\n    q2_3 = df[col].quantile(2/3)\\n    \\n    df[col] = df[col].apply(lambda x: categorize_value(x, q1_3, q2_3))\\n\""
      ]
     },
     "execution_count": 11,
     "metadata": {},
     "output_type": "execute_result"
    }
   ],
   "source": [
    "df1 = pd.read_csv('../../data/GVC_data/transportIV_file.csv')\n",
    "df1 = df1.loc[:, ['country', 't', 'trans_outp_p']]\n",
    "\n",
    "df = pd.merge(df, df1, on=['country', 't'])\n",
    "\n",
    "df = df.drop(columns='iv_transport')\n",
    "df = df.rename(columns={'trans_outp_p': 'iv_transport'})\n",
    "\n",
    "'''\n",
    "No longer using IV\n",
    "# Define categorization function for IVs\n",
    "def categorize_value(value, q1_3, q2_3):\n",
    "    if value > q2_3:\n",
    "        return 1\n",
    "    elif value < q1_3:\n",
    "        return 0\n",
    "    else:\n",
    "        return np.nan\n",
    "\n",
    "# Columns to apply the transformation\n",
    "columns = ['iv_transport']\n",
    "\n",
    "# Iterate through the columns and apply the categorization function\n",
    "for col in columns:\n",
    "    q1_3 = df[col].quantile(1/3)\n",
    "    q2_3 = df[col].quantile(2/3)\n",
    "    \n",
    "    df[col] = df[col].apply(lambda x: categorize_value(x, q1_3, q2_3))\n",
    "'''\n"
   ]
  },
  {
   "cell_type": "code",
   "execution_count": 12,
   "metadata": {},
   "outputs": [],
   "source": [
    "# in order to run random forest with categorical variable\n",
    "df = label_encode_column(df, 'country')"
   ]
  },
  {
   "cell_type": "code",
   "execution_count": 13,
   "metadata": {},
   "outputs": [],
   "source": [
    "res = pd.DataFrame(columns=['outcome', 'treatment', 'tau_hat', 'std_hat', 'p_val', 'fixed_effects', 'stationary_controls'])"
   ]
  },
  {
   "cell_type": "code",
   "execution_count": 14,
   "metadata": {},
   "outputs": [
    {
     "data": {
      "text/plain": [
       "Index(['country', 't', 'onset2COWCS', 'milexp_pergdpSIPRI', 'decade',\n",
       "       'democracy', 'logmountain', 'ethnic_fractionalization',\n",
       "       'religion_fractionalization', 'language_fractionalization',\n",
       "       'leg_british', 'opec', 'logpop_M_diff', 'logpopdens_diff',\n",
       "       'logoutreg_diff', 'ecgrowth_demeaned', 'treat_agri', 'treat_mine',\n",
       "       'treat_fuel', 'treat_metal', 'iv_agri', 'iv_mine', 'iv_fuel',\n",
       "       'iv_metal', 'iv_transport'],\n",
       "      dtype='object')"
      ]
     },
     "execution_count": 14,
     "metadata": {},
     "output_type": "execute_result"
    }
   ],
   "source": [
    "df.columns"
   ]
  },
  {
   "cell_type": "code",
   "execution_count": 15,
   "metadata": {},
   "outputs": [],
   "source": [
    "def run_all(df, outcome_l, treatment_l, block_fe_l, block_sta_l, block_other_l):\n",
    "    '''\n",
    "    For a given treatment i.e. sector.\n",
    "\n",
    "    instrument_l: a list of instruments.\n",
    "    '''\n",
    "    res = pd.DataFrame(columns=['outcome', 'treatment', 'tau_hat', 'std_hat', 'p_val', 'fixed_effects', 'stationary_controls'])\n",
    "\n",
    "    #for ins_l in instrument_l:\n",
    "        #block_l = block_other_l\n",
    "\n",
    "    for fe in [True, False]:\n",
    "        block_l = block_other_l\n",
    "        if fe:\n",
    "            block_l += block_fe_l\n",
    "        for sta in [True, False]:\n",
    "            if sta:\n",
    "                block_l += block_sta_l\n",
    "                res_row = run(df, outcome_l, treatment_l, block_l, fe, sta)\n",
    "                print(len(res_row))\n",
    "                print(len(res.columns))\n",
    "                res.loc[len(res)] = list(res_row)\n",
    "    return res\n"
   ]
  },
  {
   "attachments": {},
   "cell_type": "markdown",
   "metadata": {},
   "source": [
    "Treatment: Fuel Sector"
   ]
  },
  {
   "cell_type": "code",
   "execution_count": 16,
   "metadata": {},
   "outputs": [
    {
     "name": "stderr",
     "output_type": "stream",
     "text": [
      "/var/folders/kn/0r0f9sfj7g95tlp0xnjjq1500000gn/T/ipykernel_50254/667158211.py:2: RuntimeWarning: divide by zero encountered in scalar divide\n",
      "  z_value = estimate / std\n"
     ]
    },
    {
     "name": "stdout",
     "output_type": "stream",
     "text": [
      "7\n",
      "7\n",
      "7\n",
      "7\n"
     ]
    },
    {
     "name": "stderr",
     "output_type": "stream",
     "text": [
      "/var/folders/kn/0r0f9sfj7g95tlp0xnjjq1500000gn/T/ipykernel_50254/667158211.py:2: RuntimeWarning: divide by zero encountered in scalar divide\n",
      "  z_value = estimate / std\n"
     ]
    }
   ],
   "source": [
    "fuel_res = run_all(df, \n",
    "        outcome_l = ['milexp_pergdpSIPRI'], \n",
    "        treatment_l = ['treat_fuel'], \n",
    "        #instrument_l = ['iv_transport'], \n",
    "        block_fe_l = ['country', 't'], \n",
    "        block_sta_l = ['logmountain', 'ethnic_fractionalization', 'religion_fractionalization',\n",
    "                       'language_fractionalization'], \n",
    "        block_other_l = ['democracy', 'logpopdens_diff', \n",
    "                         'ecgrowth_demeaned'])"
   ]
  },
  {
   "cell_type": "code",
   "execution_count": 17,
   "metadata": {},
   "outputs": [
    {
     "data": {
      "text/html": [
       "<div>\n",
       "<style scoped>\n",
       "    .dataframe tbody tr th:only-of-type {\n",
       "        vertical-align: middle;\n",
       "    }\n",
       "\n",
       "    .dataframe tbody tr th {\n",
       "        vertical-align: top;\n",
       "    }\n",
       "\n",
       "    .dataframe thead th {\n",
       "        text-align: right;\n",
       "    }\n",
       "</style>\n",
       "<table border=\"1\" class=\"dataframe\">\n",
       "  <thead>\n",
       "    <tr style=\"text-align: right;\">\n",
       "      <th></th>\n",
       "      <th>outcome</th>\n",
       "      <th>treatment</th>\n",
       "      <th>tau_hat</th>\n",
       "      <th>std_hat</th>\n",
       "      <th>p_val</th>\n",
       "      <th>fixed_effects</th>\n",
       "      <th>stationary_controls</th>\n",
       "    </tr>\n",
       "  </thead>\n",
       "  <tbody>\n",
       "    <tr>\n",
       "      <th>0</th>\n",
       "      <td>milexp_pergdpSIPRI</td>\n",
       "      <td>treat_fuel</td>\n",
       "      <td>0.0</td>\n",
       "      <td>-127.5718</td>\n",
       "      <td>0.0</td>\n",
       "      <td>True</td>\n",
       "      <td>True</td>\n",
       "    </tr>\n",
       "    <tr>\n",
       "      <th>1</th>\n",
       "      <td>milexp_pergdpSIPRI</td>\n",
       "      <td>treat_fuel</td>\n",
       "      <td>0.0</td>\n",
       "      <td>-126.9249</td>\n",
       "      <td>0.0</td>\n",
       "      <td>False</td>\n",
       "      <td>True</td>\n",
       "    </tr>\n",
       "  </tbody>\n",
       "</table>\n",
       "</div>"
      ],
      "text/plain": [
       "              outcome   treatment  tau_hat   std_hat  p_val  fixed_effects  \\\n",
       "0  milexp_pergdpSIPRI  treat_fuel      0.0 -127.5718    0.0           True   \n",
       "1  milexp_pergdpSIPRI  treat_fuel      0.0 -126.9249    0.0          False   \n",
       "\n",
       "   stationary_controls  \n",
       "0                 True  \n",
       "1                 True  "
      ]
     },
     "execution_count": 17,
     "metadata": {},
     "output_type": "execute_result"
    }
   ],
   "source": [
    "fuel_res"
   ]
  },
  {
   "attachments": {},
   "cell_type": "markdown",
   "metadata": {},
   "source": [
    "Treatment: Agriculture"
   ]
  },
  {
   "cell_type": "code",
   "execution_count": 18,
   "metadata": {},
   "outputs": [
    {
     "ename": "TypeError",
     "evalue": "run_all() got an unexpected keyword argument 'instrument_l'",
     "output_type": "error",
     "traceback": [
      "\u001b[0;31m---------------------------------------------------------------------------\u001b[0m",
      "\u001b[0;31mTypeError\u001b[0m                                 Traceback (most recent call last)",
      "Cell \u001b[0;32mIn[18], line 1\u001b[0m\n\u001b[0;32m----> 1\u001b[0m agri_res \u001b[38;5;241m=\u001b[39m run_all(df, \n\u001b[1;32m      2\u001b[0m         outcome_l \u001b[38;5;241m=\u001b[39m [\u001b[38;5;124m'\u001b[39m\u001b[38;5;124monset2COWCS\u001b[39m\u001b[38;5;124m'\u001b[39m], \n\u001b[1;32m      3\u001b[0m         treatment_l \u001b[38;5;241m=\u001b[39m [\u001b[38;5;124m'\u001b[39m\u001b[38;5;124mtreat_agri\u001b[39m\u001b[38;5;124m'\u001b[39m], \n\u001b[1;32m      4\u001b[0m         instrument_l \u001b[38;5;241m=\u001b[39m [\u001b[38;5;124m'\u001b[39m\u001b[38;5;124miv_transport\u001b[39m\u001b[38;5;124m'\u001b[39m],\n\u001b[1;32m      5\u001b[0m         block_fe_l \u001b[38;5;241m=\u001b[39m [\u001b[38;5;124m'\u001b[39m\u001b[38;5;124mcountry\u001b[39m\u001b[38;5;124m'\u001b[39m, \u001b[38;5;124m'\u001b[39m\u001b[38;5;124mt\u001b[39m\u001b[38;5;124m'\u001b[39m], \n\u001b[1;32m      6\u001b[0m         block_sta_l \u001b[38;5;241m=\u001b[39m [\u001b[38;5;124m'\u001b[39m\u001b[38;5;124mlogmountain\u001b[39m\u001b[38;5;124m'\u001b[39m, \u001b[38;5;124m'\u001b[39m\u001b[38;5;124methnic_fractionalization\u001b[39m\u001b[38;5;124m'\u001b[39m, \u001b[38;5;124m'\u001b[39m\u001b[38;5;124mreligion_fractionalization\u001b[39m\u001b[38;5;124m'\u001b[39m,\n\u001b[1;32m      7\u001b[0m                        \u001b[38;5;124m'\u001b[39m\u001b[38;5;124mlanguage_fractionalization\u001b[39m\u001b[38;5;124m'\u001b[39m], \n\u001b[1;32m      8\u001b[0m         block_other_l \u001b[38;5;241m=\u001b[39m [\u001b[38;5;124m'\u001b[39m\u001b[38;5;124mdemocracy\u001b[39m\u001b[38;5;124m'\u001b[39m, \u001b[38;5;124m'\u001b[39m\u001b[38;5;124mlogpopdens_diff\u001b[39m\u001b[38;5;124m'\u001b[39m, \n\u001b[1;32m      9\u001b[0m                          \u001b[38;5;124m'\u001b[39m\u001b[38;5;124mecgrowth_demeaned\u001b[39m\u001b[38;5;124m'\u001b[39m])\n",
      "\u001b[0;31mTypeError\u001b[0m: run_all() got an unexpected keyword argument 'instrument_l'"
     ]
    }
   ],
   "source": [
    "agri_res = run_all(df, \n",
    "        outcome_l = ['onset2COWCS'], \n",
    "        treatment_l = ['treat_agri'], \n",
    "        instrument_l = ['iv_transport'],\n",
    "        block_fe_l = ['country', 't'], \n",
    "        block_sta_l = ['logmountain', 'ethnic_fractionalization', 'religion_fractionalization',\n",
    "                       'language_fractionalization'], \n",
    "        block_other_l = ['democracy', 'logpopdens_diff', \n",
    "                         'ecgrowth_demeaned'])"
   ]
  },
  {
   "cell_type": "code",
   "execution_count": null,
   "metadata": {},
   "outputs": [
    {
     "data": {
      "text/html": [
       "<div>\n",
       "<style scoped>\n",
       "    .dataframe tbody tr th:only-of-type {\n",
       "        vertical-align: middle;\n",
       "    }\n",
       "\n",
       "    .dataframe tbody tr th {\n",
       "        vertical-align: top;\n",
       "    }\n",
       "\n",
       "    .dataframe thead th {\n",
       "        text-align: right;\n",
       "    }\n",
       "</style>\n",
       "<table border=\"1\" class=\"dataframe\">\n",
       "  <thead>\n",
       "    <tr style=\"text-align: right;\">\n",
       "      <th></th>\n",
       "      <th>outcome</th>\n",
       "      <th>treatment</th>\n",
       "      <th>instrument</th>\n",
       "      <th>tau_hat</th>\n",
       "      <th>std_hat</th>\n",
       "      <th>p_val</th>\n",
       "      <th>fixed_effects</th>\n",
       "      <th>stationary_controls</th>\n",
       "    </tr>\n",
       "  </thead>\n",
       "  <tbody>\n",
       "    <tr>\n",
       "      <th>0</th>\n",
       "      <td>onset2COWCS</td>\n",
       "      <td>treat_agri</td>\n",
       "      <td>iv_transport</td>\n",
       "      <td>0.0423</td>\n",
       "      <td>0.1219</td>\n",
       "      <td>0.7285</td>\n",
       "      <td>True</td>\n",
       "      <td>True</td>\n",
       "    </tr>\n",
       "    <tr>\n",
       "      <th>1</th>\n",
       "      <td>onset2COWCS</td>\n",
       "      <td>treat_agri</td>\n",
       "      <td>iv_transport</td>\n",
       "      <td>0.0432</td>\n",
       "      <td>0.1230</td>\n",
       "      <td>0.7254</td>\n",
       "      <td>True</td>\n",
       "      <td>False</td>\n",
       "    </tr>\n",
       "    <tr>\n",
       "      <th>2</th>\n",
       "      <td>onset2COWCS</td>\n",
       "      <td>treat_agri</td>\n",
       "      <td>iv_transport</td>\n",
       "      <td>0.0413</td>\n",
       "      <td>0.1238</td>\n",
       "      <td>0.7389</td>\n",
       "      <td>False</td>\n",
       "      <td>True</td>\n",
       "    </tr>\n",
       "    <tr>\n",
       "      <th>3</th>\n",
       "      <td>onset2COWCS</td>\n",
       "      <td>treat_agri</td>\n",
       "      <td>iv_transport</td>\n",
       "      <td>0.0860</td>\n",
       "      <td>0.2297</td>\n",
       "      <td>0.7082</td>\n",
       "      <td>False</td>\n",
       "      <td>False</td>\n",
       "    </tr>\n",
       "    <tr>\n",
       "      <th>4</th>\n",
       "      <td>onset2COWCS</td>\n",
       "      <td>treat_agri</td>\n",
       "      <td>iv_agri</td>\n",
       "      <td>0.0020</td>\n",
       "      <td>0.0278</td>\n",
       "      <td>0.9423</td>\n",
       "      <td>True</td>\n",
       "      <td>True</td>\n",
       "    </tr>\n",
       "    <tr>\n",
       "      <th>5</th>\n",
       "      <td>onset2COWCS</td>\n",
       "      <td>treat_agri</td>\n",
       "      <td>iv_agri</td>\n",
       "      <td>0.0067</td>\n",
       "      <td>0.0315</td>\n",
       "      <td>0.8310</td>\n",
       "      <td>True</td>\n",
       "      <td>False</td>\n",
       "    </tr>\n",
       "    <tr>\n",
       "      <th>6</th>\n",
       "      <td>onset2COWCS</td>\n",
       "      <td>treat_agri</td>\n",
       "      <td>iv_agri</td>\n",
       "      <td>0.0012</td>\n",
       "      <td>0.0299</td>\n",
       "      <td>0.9673</td>\n",
       "      <td>False</td>\n",
       "      <td>True</td>\n",
       "    </tr>\n",
       "    <tr>\n",
       "      <th>7</th>\n",
       "      <td>onset2COWCS</td>\n",
       "      <td>treat_agri</td>\n",
       "      <td>iv_agri</td>\n",
       "      <td>0.0049</td>\n",
       "      <td>0.0320</td>\n",
       "      <td>0.8772</td>\n",
       "      <td>False</td>\n",
       "      <td>False</td>\n",
       "    </tr>\n",
       "  </tbody>\n",
       "</table>\n",
       "</div>"
      ],
      "text/plain": [
       "       outcome   treatment    instrument  tau_hat  std_hat   p_val  \\\n",
       "0  onset2COWCS  treat_agri  iv_transport   0.0423   0.1219  0.7285   \n",
       "1  onset2COWCS  treat_agri  iv_transport   0.0432   0.1230  0.7254   \n",
       "2  onset2COWCS  treat_agri  iv_transport   0.0413   0.1238  0.7389   \n",
       "3  onset2COWCS  treat_agri  iv_transport   0.0860   0.2297  0.7082   \n",
       "4  onset2COWCS  treat_agri       iv_agri   0.0020   0.0278  0.9423   \n",
       "5  onset2COWCS  treat_agri       iv_agri   0.0067   0.0315  0.8310   \n",
       "6  onset2COWCS  treat_agri       iv_agri   0.0012   0.0299  0.9673   \n",
       "7  onset2COWCS  treat_agri       iv_agri   0.0049   0.0320  0.8772   \n",
       "\n",
       "   fixed_effects  stationary_controls  \n",
       "0           True                 True  \n",
       "1           True                False  \n",
       "2          False                 True  \n",
       "3          False                False  \n",
       "4           True                 True  \n",
       "5           True                False  \n",
       "6          False                 True  \n",
       "7          False                False  "
      ]
     },
     "execution_count": 18,
     "metadata": {},
     "output_type": "execute_result"
    }
   ],
   "source": [
    "agri_res"
   ]
  },
  {
   "attachments": {},
   "cell_type": "markdown",
   "metadata": {},
   "source": [
    "Treatment: Metal"
   ]
  },
  {
   "cell_type": "code",
   "execution_count": null,
   "metadata": {},
   "outputs": [],
   "source": [
    "metal_res = run_all(df, \n",
    "        outcome_l = ['onset2COWCS'], \n",
    "        treatment_l = ['treat_metal'], \n",
    "        instrument_l = [['iv_transport'], ['iv_metal']], \n",
    "        block_fe_l = ['country', 't'], \n",
    "        block_sta_l = ['logmountain', 'ethnic_fractionalization', 'religion_fractionalization',\n",
    "                       'language_fractionalization'], \n",
    "        block_other_l = ['democracy', 'logpopdens_diff', \n",
    "                         'ecgrowth_demeaned'])"
   ]
  },
  {
   "cell_type": "code",
   "execution_count": null,
   "metadata": {},
   "outputs": [
    {
     "data": {
      "text/html": [
       "<div>\n",
       "<style scoped>\n",
       "    .dataframe tbody tr th:only-of-type {\n",
       "        vertical-align: middle;\n",
       "    }\n",
       "\n",
       "    .dataframe tbody tr th {\n",
       "        vertical-align: top;\n",
       "    }\n",
       "\n",
       "    .dataframe thead th {\n",
       "        text-align: right;\n",
       "    }\n",
       "</style>\n",
       "<table border=\"1\" class=\"dataframe\">\n",
       "  <thead>\n",
       "    <tr style=\"text-align: right;\">\n",
       "      <th></th>\n",
       "      <th>outcome</th>\n",
       "      <th>treatment</th>\n",
       "      <th>instrument</th>\n",
       "      <th>tau_hat</th>\n",
       "      <th>std_hat</th>\n",
       "      <th>p_val</th>\n",
       "      <th>fixed_effects</th>\n",
       "      <th>stationary_controls</th>\n",
       "    </tr>\n",
       "  </thead>\n",
       "  <tbody>\n",
       "    <tr>\n",
       "      <th>0</th>\n",
       "      <td>onset2COWCS</td>\n",
       "      <td>treat_metal</td>\n",
       "      <td>iv_transport</td>\n",
       "      <td>-0.1283</td>\n",
       "      <td>1.6247</td>\n",
       "      <td>0.9371</td>\n",
       "      <td>True</td>\n",
       "      <td>True</td>\n",
       "    </tr>\n",
       "    <tr>\n",
       "      <th>1</th>\n",
       "      <td>onset2COWCS</td>\n",
       "      <td>treat_metal</td>\n",
       "      <td>iv_transport</td>\n",
       "      <td>-0.0416</td>\n",
       "      <td>0.8232</td>\n",
       "      <td>0.9597</td>\n",
       "      <td>True</td>\n",
       "      <td>False</td>\n",
       "    </tr>\n",
       "    <tr>\n",
       "      <th>2</th>\n",
       "      <td>onset2COWCS</td>\n",
       "      <td>treat_metal</td>\n",
       "      <td>iv_transport</td>\n",
       "      <td>0.1233</td>\n",
       "      <td>0.8981</td>\n",
       "      <td>0.8908</td>\n",
       "      <td>False</td>\n",
       "      <td>True</td>\n",
       "    </tr>\n",
       "    <tr>\n",
       "      <th>3</th>\n",
       "      <td>onset2COWCS</td>\n",
       "      <td>treat_metal</td>\n",
       "      <td>iv_transport</td>\n",
       "      <td>-0.1377</td>\n",
       "      <td>0.4960</td>\n",
       "      <td>0.7813</td>\n",
       "      <td>False</td>\n",
       "      <td>False</td>\n",
       "    </tr>\n",
       "    <tr>\n",
       "      <th>4</th>\n",
       "      <td>onset2COWCS</td>\n",
       "      <td>treat_metal</td>\n",
       "      <td>iv_metal</td>\n",
       "      <td>-0.0779</td>\n",
       "      <td>0.0474</td>\n",
       "      <td>0.1002</td>\n",
       "      <td>True</td>\n",
       "      <td>True</td>\n",
       "    </tr>\n",
       "    <tr>\n",
       "      <th>5</th>\n",
       "      <td>onset2COWCS</td>\n",
       "      <td>treat_metal</td>\n",
       "      <td>iv_metal</td>\n",
       "      <td>-0.0871</td>\n",
       "      <td>0.0482</td>\n",
       "      <td>0.0709</td>\n",
       "      <td>True</td>\n",
       "      <td>False</td>\n",
       "    </tr>\n",
       "    <tr>\n",
       "      <th>6</th>\n",
       "      <td>onset2COWCS</td>\n",
       "      <td>treat_metal</td>\n",
       "      <td>iv_metal</td>\n",
       "      <td>-0.0859</td>\n",
       "      <td>0.0496</td>\n",
       "      <td>0.0837</td>\n",
       "      <td>False</td>\n",
       "      <td>True</td>\n",
       "    </tr>\n",
       "    <tr>\n",
       "      <th>7</th>\n",
       "      <td>onset2COWCS</td>\n",
       "      <td>treat_metal</td>\n",
       "      <td>iv_metal</td>\n",
       "      <td>-0.0785</td>\n",
       "      <td>0.0500</td>\n",
       "      <td>0.1166</td>\n",
       "      <td>False</td>\n",
       "      <td>False</td>\n",
       "    </tr>\n",
       "  </tbody>\n",
       "</table>\n",
       "</div>"
      ],
      "text/plain": [
       "       outcome    treatment    instrument  tau_hat  std_hat   p_val  \\\n",
       "0  onset2COWCS  treat_metal  iv_transport  -0.1283   1.6247  0.9371   \n",
       "1  onset2COWCS  treat_metal  iv_transport  -0.0416   0.8232  0.9597   \n",
       "2  onset2COWCS  treat_metal  iv_transport   0.1233   0.8981  0.8908   \n",
       "3  onset2COWCS  treat_metal  iv_transport  -0.1377   0.4960  0.7813   \n",
       "4  onset2COWCS  treat_metal      iv_metal  -0.0779   0.0474  0.1002   \n",
       "5  onset2COWCS  treat_metal      iv_metal  -0.0871   0.0482  0.0709   \n",
       "6  onset2COWCS  treat_metal      iv_metal  -0.0859   0.0496  0.0837   \n",
       "7  onset2COWCS  treat_metal      iv_metal  -0.0785   0.0500  0.1166   \n",
       "\n",
       "   fixed_effects  stationary_controls  \n",
       "0           True                 True  \n",
       "1           True                False  \n",
       "2          False                 True  \n",
       "3          False                False  \n",
       "4           True                 True  \n",
       "5           True                False  \n",
       "6          False                 True  \n",
       "7          False                False  "
      ]
     },
     "execution_count": 20,
     "metadata": {},
     "output_type": "execute_result"
    }
   ],
   "source": [
    "metal_res"
   ]
  },
  {
   "attachments": {},
   "cell_type": "markdown",
   "metadata": {},
   "source": [
    "Treatment: Mining"
   ]
  },
  {
   "cell_type": "code",
   "execution_count": null,
   "metadata": {},
   "outputs": [],
   "source": [
    "mine_res = run_all(df, \n",
    "        outcome_l = ['onset2COWCS'], \n",
    "        treatment_l = ['treat_mine'], \n",
    "        instrument_l = [['iv_transport'], ['iv_mine']], \n",
    "        block_fe_l = ['country', 't'], \n",
    "        block_sta_l = ['logmountain', 'ethnic_fractionalization', 'religion_fractionalization',\n",
    "                       'language_fractionalization'], \n",
    "        block_other_l = ['democracy', 'logpopdens_diff', \n",
    "                         'ecgrowth_demeaned'])"
   ]
  },
  {
   "cell_type": "code",
   "execution_count": null,
   "metadata": {},
   "outputs": [
    {
     "data": {
      "text/html": [
       "<div>\n",
       "<style scoped>\n",
       "    .dataframe tbody tr th:only-of-type {\n",
       "        vertical-align: middle;\n",
       "    }\n",
       "\n",
       "    .dataframe tbody tr th {\n",
       "        vertical-align: top;\n",
       "    }\n",
       "\n",
       "    .dataframe thead th {\n",
       "        text-align: right;\n",
       "    }\n",
       "</style>\n",
       "<table border=\"1\" class=\"dataframe\">\n",
       "  <thead>\n",
       "    <tr style=\"text-align: right;\">\n",
       "      <th></th>\n",
       "      <th>outcome</th>\n",
       "      <th>treatment</th>\n",
       "      <th>instrument</th>\n",
       "      <th>tau_hat</th>\n",
       "      <th>std_hat</th>\n",
       "      <th>p_val</th>\n",
       "      <th>fixed_effects</th>\n",
       "      <th>stationary_controls</th>\n",
       "    </tr>\n",
       "  </thead>\n",
       "  <tbody>\n",
       "    <tr>\n",
       "      <th>0</th>\n",
       "      <td>onset2COWCS</td>\n",
       "      <td>treat_mine</td>\n",
       "      <td>iv_transport</td>\n",
       "      <td>0.1547</td>\n",
       "      <td>0.6230</td>\n",
       "      <td>0.8039</td>\n",
       "      <td>True</td>\n",
       "      <td>True</td>\n",
       "    </tr>\n",
       "    <tr>\n",
       "      <th>1</th>\n",
       "      <td>onset2COWCS</td>\n",
       "      <td>treat_mine</td>\n",
       "      <td>iv_transport</td>\n",
       "      <td>0.1485</td>\n",
       "      <td>0.9678</td>\n",
       "      <td>0.8780</td>\n",
       "      <td>True</td>\n",
       "      <td>False</td>\n",
       "    </tr>\n",
       "    <tr>\n",
       "      <th>2</th>\n",
       "      <td>onset2COWCS</td>\n",
       "      <td>treat_mine</td>\n",
       "      <td>iv_transport</td>\n",
       "      <td>0.0097</td>\n",
       "      <td>0.6017</td>\n",
       "      <td>0.9872</td>\n",
       "      <td>False</td>\n",
       "      <td>True</td>\n",
       "    </tr>\n",
       "    <tr>\n",
       "      <th>3</th>\n",
       "      <td>onset2COWCS</td>\n",
       "      <td>treat_mine</td>\n",
       "      <td>iv_transport</td>\n",
       "      <td>0.0387</td>\n",
       "      <td>0.2257</td>\n",
       "      <td>0.8638</td>\n",
       "      <td>False</td>\n",
       "      <td>False</td>\n",
       "    </tr>\n",
       "    <tr>\n",
       "      <th>4</th>\n",
       "      <td>onset2COWCS</td>\n",
       "      <td>treat_mine</td>\n",
       "      <td>iv_mine</td>\n",
       "      <td>-0.0563</td>\n",
       "      <td>0.0814</td>\n",
       "      <td>0.4896</td>\n",
       "      <td>True</td>\n",
       "      <td>True</td>\n",
       "    </tr>\n",
       "    <tr>\n",
       "      <th>5</th>\n",
       "      <td>onset2COWCS</td>\n",
       "      <td>treat_mine</td>\n",
       "      <td>iv_mine</td>\n",
       "      <td>-0.0665</td>\n",
       "      <td>0.0908</td>\n",
       "      <td>0.4641</td>\n",
       "      <td>True</td>\n",
       "      <td>False</td>\n",
       "    </tr>\n",
       "    <tr>\n",
       "      <th>6</th>\n",
       "      <td>onset2COWCS</td>\n",
       "      <td>treat_mine</td>\n",
       "      <td>iv_mine</td>\n",
       "      <td>-0.0656</td>\n",
       "      <td>0.0866</td>\n",
       "      <td>0.4492</td>\n",
       "      <td>False</td>\n",
       "      <td>True</td>\n",
       "    </tr>\n",
       "    <tr>\n",
       "      <th>7</th>\n",
       "      <td>onset2COWCS</td>\n",
       "      <td>treat_mine</td>\n",
       "      <td>iv_mine</td>\n",
       "      <td>-0.0674</td>\n",
       "      <td>0.0897</td>\n",
       "      <td>0.4527</td>\n",
       "      <td>False</td>\n",
       "      <td>False</td>\n",
       "    </tr>\n",
       "  </tbody>\n",
       "</table>\n",
       "</div>"
      ],
      "text/plain": [
       "       outcome   treatment    instrument  tau_hat  std_hat   p_val  \\\n",
       "0  onset2COWCS  treat_mine  iv_transport   0.1547   0.6230  0.8039   \n",
       "1  onset2COWCS  treat_mine  iv_transport   0.1485   0.9678  0.8780   \n",
       "2  onset2COWCS  treat_mine  iv_transport   0.0097   0.6017  0.9872   \n",
       "3  onset2COWCS  treat_mine  iv_transport   0.0387   0.2257  0.8638   \n",
       "4  onset2COWCS  treat_mine       iv_mine  -0.0563   0.0814  0.4896   \n",
       "5  onset2COWCS  treat_mine       iv_mine  -0.0665   0.0908  0.4641   \n",
       "6  onset2COWCS  treat_mine       iv_mine  -0.0656   0.0866  0.4492   \n",
       "7  onset2COWCS  treat_mine       iv_mine  -0.0674   0.0897  0.4527   \n",
       "\n",
       "   fixed_effects  stationary_controls  \n",
       "0           True                 True  \n",
       "1           True                False  \n",
       "2          False                 True  \n",
       "3          False                False  \n",
       "4           True                 True  \n",
       "5           True                False  \n",
       "6          False                 True  \n",
       "7          False                False  "
      ]
     },
     "execution_count": 22,
     "metadata": {},
     "output_type": "execute_result"
    }
   ],
   "source": [
    "mine_res"
   ]
  },
  {
   "attachments": {},
   "cell_type": "markdown",
   "metadata": {},
   "source": [
    "Final Result:"
   ]
  },
  {
   "cell_type": "code",
   "execution_count": 19,
   "metadata": {},
   "outputs": [],
   "source": [
    "dfs = [fuel_res] #keep fuel sector only, agri_res, metal_res, mine_res]\n",
    "stacked_df = pd.concat(dfs)\n",
    "final_res = stacked_df.reset_index(drop=True)"
   ]
  },
  {
   "cell_type": "code",
   "execution_count": 20,
   "metadata": {},
   "outputs": [
    {
     "data": {
      "text/html": [
       "<div>\n",
       "<style scoped>\n",
       "    .dataframe tbody tr th:only-of-type {\n",
       "        vertical-align: middle;\n",
       "    }\n",
       "\n",
       "    .dataframe tbody tr th {\n",
       "        vertical-align: top;\n",
       "    }\n",
       "\n",
       "    .dataframe thead th {\n",
       "        text-align: right;\n",
       "    }\n",
       "</style>\n",
       "<table border=\"1\" class=\"dataframe\">\n",
       "  <thead>\n",
       "    <tr style=\"text-align: right;\">\n",
       "      <th></th>\n",
       "      <th>gvc_type</th>\n",
       "      <th>outcome</th>\n",
       "      <th>treatment</th>\n",
       "      <th>tau_hat</th>\n",
       "      <th>std_hat</th>\n",
       "      <th>p_val</th>\n",
       "      <th>fixed_effects</th>\n",
       "      <th>stationary_controls</th>\n",
       "    </tr>\n",
       "  </thead>\n",
       "  <tbody>\n",
       "    <tr>\n",
       "      <th>0</th>\n",
       "      <td>forward</td>\n",
       "      <td>milexp_pergdpSIPRI</td>\n",
       "      <td>treat_fuel</td>\n",
       "      <td>0.0</td>\n",
       "      <td>-127.5718</td>\n",
       "      <td>0.0</td>\n",
       "      <td>True</td>\n",
       "      <td>True</td>\n",
       "    </tr>\n",
       "    <tr>\n",
       "      <th>1</th>\n",
       "      <td>forward</td>\n",
       "      <td>milexp_pergdpSIPRI</td>\n",
       "      <td>treat_fuel</td>\n",
       "      <td>0.0</td>\n",
       "      <td>-126.9249</td>\n",
       "      <td>0.0</td>\n",
       "      <td>False</td>\n",
       "      <td>True</td>\n",
       "    </tr>\n",
       "  </tbody>\n",
       "</table>\n",
       "</div>"
      ],
      "text/plain": [
       "  gvc_type             outcome   treatment  tau_hat   std_hat  p_val  \\\n",
       "0  forward  milexp_pergdpSIPRI  treat_fuel      0.0 -127.5718    0.0   \n",
       "1  forward  milexp_pergdpSIPRI  treat_fuel      0.0 -126.9249    0.0   \n",
       "\n",
       "   fixed_effects  stationary_controls  \n",
       "0           True                 True  \n",
       "1          False                 True  "
      ]
     },
     "execution_count": 20,
     "metadata": {},
     "output_type": "execute_result"
    }
   ],
   "source": [
    "final_res.insert(0, 'gvc_type', 'forward')\n",
    "final_res"
   ]
  },
  {
   "cell_type": "code",
   "execution_count": 21,
   "metadata": {},
   "outputs": [],
   "source": [
    "final_res.to_csv('forward_res.csv', index=False)"
   ]
  },
  {
   "attachments": {},
   "cell_type": "markdown",
   "metadata": {},
   "source": [
    "## Appendix:"
   ]
  },
  {
   "attachments": {},
   "cell_type": "markdown",
   "metadata": {},
   "source": [
    "For estimating the local average treatment effect under the monotone instrument assumption, there is a double-machine learning approach that works with generic supervised learning approaches. Here, we want an estimator $\\hat{\\tau}^{\\mathrm{LATE}}$ for the parameter\n",
    "$$\n",
    "\\tau^{\\mathrm{LATE}}=\\frac{\\mathbb{E}[\\mathbb{E}[Y \\mid X, Z=1]-\\mathbb{E}[Y \\mid X, Z=0]]}{\\mathbb{E}[\\mathrm{P}(A=1 \\mid X, Z=1)-\\mathrm{P}(A=1 \\mid X, Z=0)]}\n",
    "$$\n",
    "To define the estimator, it's convenient to introduce some additional notation. First, we define the nuisance functions:\n",
    "$$\n",
    "\\begin{aligned}\n",
    "\\mu(z, x) & =\\mathbb{E}[Y \\mid z, x] \\\\\n",
    "m(z, x) & =\\mathrm{P}(A=1 \\mid x, z) \\\\\n",
    "p(x) & =\\mathrm{P}(Z=1 \\mid x) .\n",
    "\\end{aligned}\n",
    "$$\n",
    "We also define the score $\\phi$ by:\n",
    "$$\n",
    "\\begin{aligned}\n",
    "& \\phi_{Z \\rightarrow Y}(\\mathbf{X} ; \\mu, p) \\triangleq \\mu(1, X)-\\mu(0, X)+\\frac{Z(Y-\\mu(1, X))}{p(X)}-\\frac{(1-Z)(Y-\\mu(0, X))}{1-p(X)} \\\\\n",
    "& \\phi_{Z \\rightarrow A}(\\mathbf{X} ; m, p) \\triangleq m(1, X)-m(0, X)+\\frac{Z(A-m(1, X))}{p(X)}-\\frac{(1-Z)(A-m(0, X))}{1-p(X)} \\\\\n",
    "& \\phi(\\mathbf{X} ; \\mu, m, p, \\tau) \\triangleq \\phi_{Z \\rightarrow Y}(\\mathbf{X} ; \\mu, p)-\\phi_{Z \\rightarrow A}(\\mathbf{X} ; m, p) \\times \\tau\n",
    "\\end{aligned}\n",
    "$$\n",
    "Then, the estimator is defined by a two stage procedure:\n",
    "1. Fit models $\\hat{\\mu}, \\hat{m}, \\hat{p}$ for each of $\\mu, m, p$ (using supervised machine learning).\n",
    "2. Define $\\hat{\\tau}^{\\mathrm{LATE}}$ as the solution to $\\frac{1}{n} \\sum_i \\phi\\left(\\mathbf{X}_i ; \\hat{\\mu}, \\hat{m}, \\hat{p}, \\hat{\\tau}^{\\mathrm{LATE}}\\right)=0$. That is,\n",
    "$$\n",
    "\\hat{\\tau}^{\\mathrm{LATE}}=\\frac{\\frac{1}{n} \\sum_i \\phi_{Z \\rightarrow Y}\\left(\\mathbf{X}_i ; \\hat{\\mu}, \\hat{p}\\right)}{\\frac{1}{n} \\sum_i \\phi_{Z \\rightarrow A}\\left(\\mathbf{X}_i ; \\hat{m}, \\hat{p}\\right)}\n",
    "$$\n",
    "It may help intuitions to notice that the double machine learning estimator of the LATE is effectively the double machine learning estimator of of the average treatment effect of $Z$ on $Y$ divided by the double machine learning estimator of the average treatment effect of $Z$ on $A$.\n",
    "The nuisance functions can be estimated by:\n",
    "1. fit a model $\\hat{\\mu}$ that predicts $Y$ from $Z, X$ by minimizing mean square error\n",
    "2. fit a model $\\hat{m}$ that predicts $A$ from $Z, X$ by minimizing mean cross-entropy\n",
    "3. fit a model $\\hat{p}$ that predicts $Z$ from $X$ by minimizing mean cross-entropy."
   ]
  }
 ],
 "metadata": {
  "kernelspec": {
   "display_name": "Python 3",
   "language": "python",
   "name": "python3"
  },
  "language_info": {
   "codemirror_mode": {
    "name": "ipython",
    "version": 3
   },
   "file_extension": ".py",
   "mimetype": "text/x-python",
   "name": "python",
   "nbconvert_exporter": "python",
   "pygments_lexer": "ipython3",
   "version": "3.11.5"
  },
  "orig_nbformat": 4
 },
 "nbformat": 4,
 "nbformat_minor": 2
}
