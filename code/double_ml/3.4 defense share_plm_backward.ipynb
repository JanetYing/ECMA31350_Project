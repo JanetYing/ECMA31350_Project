{
 "cells": [
  {
   "cell_type": "code",
   "execution_count": 1,
   "metadata": {},
   "outputs": [],
   "source": [
    "import numpy as np\n",
    "import pandas as pd\n",
    "import scipy as sp\n",
    "from sklearn.neighbors import KNeighborsClassifier\n",
    "from sklearn.ensemble import RandomForestClassifier, RandomForestRegressor\n",
    "from sklearn.linear_model import LinearRegression\n",
    "from sklearn.linear_model import LogisticRegression\n",
    "from sklearn.model_selection import KFold, StratifiedKFold, train_test_split\n",
    "from sklearn.metrics import mean_squared_error, log_loss\n",
    "from sklearn.preprocessing import LabelEncoder\n",
    "import sklearn\n",
    "import os\n",
    "from matplotlib.pyplot import hist\n",
    "import scipy.stats as stats\n",
    "import math\n",
    "import statsmodels.api as sm\n"
   ]
  },
  {
   "cell_type": "code",
   "execution_count": 2,
   "metadata": {},
   "outputs": [],
   "source": [
    "# read in the dataframe\n",
    "df = pd.read_csv('df_bp.csv')"
   ]
  },
  {
   "cell_type": "code",
   "execution_count": 3,
   "metadata": {},
   "outputs": [],
   "source": [
    "df1 = pd.read_csv('../../data/GVC_data/transportIV_file.csv')\n",
    "df1 = df1.loc[:, ['country', 't', 'trans_outp_p']]\n",
    "\n",
    "df = pd.merge(df, df1, on=['country', 't'])"
   ]
  },
  {
   "cell_type": "code",
   "execution_count": 4,
   "metadata": {},
   "outputs": [
    {
     "name": "stdout",
     "output_type": "stream",
     "text": [
      "country                        object\n",
      "t                               int64\n",
      "onset2COWCS                   float64\n",
      "milexp_pergdpSIPRI            float64\n",
      "decade                        float64\n",
      "democracy                     float64\n",
      "logmountain                   float64\n",
      "ethnic_fractionalization      float64\n",
      "religion_fractionalization    float64\n",
      "language_fractionalization    float64\n",
      "leg_british                   float64\n",
      "opec                          float64\n",
      "logpop_M_diff                 float64\n",
      "logpopdens_diff               float64\n",
      "logoutreg_diff                float64\n",
      "ecgrowth_demeaned             float64\n",
      "treat_agri                    float64\n",
      "treat_mine                    float64\n",
      "treat_fuel                    float64\n",
      "treat_metal                   float64\n",
      "iv_transport                  float64\n",
      "iv_agri                       float64\n",
      "iv_mine                       float64\n",
      "iv_fuel                       float64\n",
      "iv_metal                      float64\n",
      "trans_outp_p                  float64\n",
      "dtype: object\n"
     ]
    }
   ],
   "source": [
    "print(df.dtypes)"
   ]
  },
  {
   "cell_type": "code",
   "execution_count": 5,
   "metadata": {},
   "outputs": [
    {
     "name": "stdout",
     "output_type": "stream",
     "text": [
      "There are 181 unique countries in the dataset.\n"
     ]
    }
   ],
   "source": [
    "num_countries = df['country'].nunique()\n",
    "print(f\"There are {num_countries} unique countries in the dataset.\")"
   ]
  },
  {
   "cell_type": "markdown",
   "metadata": {},
   "source": [
    "Without Country Fixed effect"
   ]
  },
  {
   "cell_type": "code",
   "execution_count": 6,
   "metadata": {},
   "outputs": [],
   "source": [
    "import pandas as pd\n",
    "import numpy as np\n",
    "import doubleml as dml\n",
    "from sklearn.ensemble import RandomForestRegressor\n",
    "from sklearn.base import clone\n",
    "\n",
    "# Define the machine learning model for the treatment effect (ml_m) and outcome (ml_l)\n",
    "learner = RandomForestRegressor(n_estimators=100, max_features='sqrt', random_state=1111)\n",
    "ml_m = clone(learner)  # Machine learning model for the treatment effect\n",
    "ml_l = clone(learner)  # Machine learning model for the outcome"
   ]
  },
  {
   "cell_type": "code",
   "execution_count": 7,
   "metadata": {},
   "outputs": [],
   "source": [
    "import pandas as pd\n",
    "from sklearn.ensemble import RandomForestRegressor\n",
    "from sklearn.base import clone\n",
    "import doubleml as dml\n",
    "\n",
    "def run_plr(df, outcome_l, treatment_l, block_l, fe, stationary_c):\n",
    "    # Select the relevant columns and drop NA\n",
    "    df_subset = df[outcome_l + treatment_l + block_l].dropna()\n",
    "\n",
    "    # Prepare the data for DoubleML\n",
    "    obj_dml_data = dml.DoubleMLData(df_subset, y_col=outcome_l[0], d_cols=treatment_l[0], x_cols=block_l)\n",
    "\n",
    "    # Define the machine learning models\n",
    "    learner = RandomForestRegressor(n_estimators=500, max_features='sqrt', random_state=1111)\n",
    "    ml_m = clone(learner)\n",
    "    ml_l = clone(learner)\n",
    "\n",
    "    # Set up the PLR model\n",
    "    dml_plr = dml.DoubleMLPLR(obj_dml_data, ml_l=ml_l, ml_m=ml_m, n_folds=10)\n",
    "\n",
    "    # Fit the PLR model and get the summary\n",
    "    plr_results = dml_plr.fit()\n",
    "    summary = plr_results.summary  # Access summary as an attribute, not a method\n",
    "\n",
    "    return summary"
   ]
  },
  {
   "cell_type": "code",
   "execution_count": 8,
   "metadata": {},
   "outputs": [],
   "source": [
    "def run_all(df, outcome_l, treatment_l, block_fe_l, block_sta_l, block_other_l):\n",
    "    # Adjusted the columns to store summaries in a list since they're DataFrames now\n",
    "    summaries = []\n",
    "\n",
    "    for fe in [True, False]:\n",
    "        block_l = block_other_l.copy()\n",
    "        if fe:\n",
    "            # Exclude 'country' from fixed effects\n",
    "            block_l += [b for b in block_fe_l if b != 'country']\n",
    "        for sta in [True, False]:\n",
    "            if sta:\n",
    "                block_l += block_sta_l\n",
    "            summary = run_plr(df, outcome_l, treatment_l, block_l, fe, sta)\n",
    "            summaries.append(summary)  # Append the summary DataFrame to the list\n",
    "\n",
    "    return summaries  # Return the list of summary DataFrames"
   ]
  },
  {
   "cell_type": "code",
   "execution_count": 9,
   "metadata": {},
   "outputs": [],
   "source": [
    "plr_summaries = run_all(df, \n",
    "                        outcome_l=['milexp_pergdpSIPRI'], \n",
    "                        treatment_l=['treat_fuel'],\n",
    "                        block_fe_l=['country', 't'],  # 'country' will be ignored in the fixed effects\n",
    "                        block_sta_l=['logmountain', 'ethnic_fractionalization', 'religion_fractionalization', 'language_fractionalization'], \n",
    "                        block_other_l=['democracy', 'logpopdens_diff', 'ecgrowth_demeaned'])"
   ]
  },
  {
   "cell_type": "code",
   "execution_count": 10,
   "metadata": {},
   "outputs": [
    {
     "name": "stdout",
     "output_type": "stream",
     "text": [
      "[                  coef     std err         t     P>|t|       2.5 %      97.5 %\n",
      "treat_fuel -240.037501  318.343405 -0.754021  0.450837 -863.979109  383.904107,                   coef     std err         t     P>|t|       2.5 %      97.5 %\n",
      "treat_fuel -229.189675  306.105725 -0.748727  0.454022 -829.145872  370.766521,                   coef     std err         t     P>|t|       2.5 %      97.5 %\n",
      "treat_fuel -224.742989  303.956382 -0.739392  0.459669 -820.486551  371.000573,                   coef     std err         t     P>|t|       2.5 %      97.5 %\n",
      "treat_fuel -231.500539  318.825707 -0.726104  0.467775 -856.387442  393.386364]\n"
     ]
    }
   ],
   "source": [
    "print(plr_summaries)"
   ]
  },
  {
   "cell_type": "code",
   "execution_count": 11,
   "metadata": {},
   "outputs": [
    {
     "name": "stdout",
     "output_type": "stream",
     "text": [
      "         coef     std err         t     P>|t|       2.5 %      97.5 %  \\\n",
      "0 -240.037501  318.343405 -0.754021  0.450837 -863.979109  383.904107   \n",
      "1 -229.189675  306.105725 -0.748727  0.454022 -829.145872  370.766521   \n",
      "2 -224.742989  303.956382 -0.739392  0.459669 -820.486551  371.000573   \n",
      "3 -231.500539  318.825707 -0.726104  0.467775 -856.387442  393.386364   \n",
      "\n",
      "   fixed_effects  stationary_controls  \n",
      "0           True                 True  \n",
      "1           True                False  \n",
      "2          False                 True  \n",
      "3          False                False  \n"
     ]
    }
   ],
   "source": [
    "import pandas as pd\n",
    "\n",
    "# Assuming plr_summaries is a list of DataFrames as shown in your print output\n",
    "# We'll add a multi-index or additional columns to indicate whether fixed effects or stationary controls were used\n",
    "\n",
    "# Define the configurations corresponding to your summaries for clarity\n",
    "configurations = [\n",
    "    {'fixed_effects': True, 'stationary_controls': True},\n",
    "    {'fixed_effects': True, 'stationary_controls': False},\n",
    "    {'fixed_effects': False, 'stationary_controls': True},\n",
    "    {'fixed_effects': False, 'stationary_controls': False},\n",
    "]\n",
    "\n",
    "# Add a multi-index or new columns to each DataFrame to indicate the configuration\n",
    "for i, summary in enumerate(plr_summaries):\n",
    "    summary['fixed_effects'] = configurations[i]['fixed_effects']\n",
    "    summary['stationary_controls'] = configurations[i]['stationary_controls']\n",
    "\n",
    "# Concatenate all the DataFrames into one\n",
    "combined_summary = pd.concat(plr_summaries, axis=0)\n",
    "\n",
    "# Reset index if you want a clean index\n",
    "combined_summary.reset_index(drop=True, inplace=True)\n",
    "\n",
    "# Now you can print or display the combined summary\n",
    "print(combined_summary)\n"
   ]
  },
  {
   "cell_type": "markdown",
   "metadata": {},
   "source": [
    "With country fix effect"
   ]
  },
  {
   "cell_type": "code",
   "execution_count": 13,
   "metadata": {},
   "outputs": [],
   "source": [
    "import pandas as pd\n",
    "from sklearn.ensemble import RandomForestRegressor\n",
    "from sklearn.base import clone\n",
    "import doubleml as dml\n",
    "\n",
    "def run_plr(df, outcome_l, treatment_l, block_l, fe, stationary_c):\n",
    "    # If fixed effects include 'country', apply one-hot encoding\n",
    "    if fe and 'country' in block_l:\n",
    "        df = pd.get_dummies(df, columns=['country'])\n",
    "        block_l = [col for col in df.columns if col not in outcome_l + treatment_l]  # Update block_l to include new dummy variables\n",
    "\n",
    "    # Select the relevant columns and drop NA\n",
    "    df_subset = df[outcome_l + treatment_l + block_l].dropna()\n",
    "\n",
    "    # Prepare the data for DoubleML\n",
    "    obj_dml_data = dml.DoubleMLData(df_subset, y_col=outcome_l[0], d_cols=treatment_l[0], x_cols=block_l)\n",
    "\n",
    "    # Define the machine learning models\n",
    "    learner = RandomForestRegressor(n_estimators=500, max_features='sqrt', random_state=1111)\n",
    "    ml_m = clone(learner)\n",
    "    ml_l = clone(learner)\n",
    "\n",
    "    # Set up the PLR model\n",
    "    dml_plr = dml.DoubleMLPLR(obj_dml_data, ml_l=ml_l, ml_m=ml_m, n_folds=10)\n",
    "\n",
    "    # Fit the PLR model and get the summary\n",
    "    plr_results = dml_plr.fit()\n",
    "    summary = plr_results.summary\n",
    "\n",
    "    return summary\n",
    "\n",
    "def run_all(df, outcome_l, treatment_l, block_fe_l, block_sta_l, block_other_l):\n",
    "    # Adjusted the columns to store summaries in a list since they're DataFrames now\n",
    "    summaries = []\n",
    "\n",
    "    for fe in [True, False]:\n",
    "        block_l = block_other_l.copy()\n",
    "        if fe:\n",
    "            block_l += block_fe_l  # Keep 'country' in block_fe_l to include country fixed effects\n",
    "        for sta in [True, False]:\n",
    "            if sta:\n",
    "                block_l += block_sta_l\n",
    "            summary = run_plr(df, outcome_l, treatment_l, block_l, fe, sta)\n",
    "            summaries.append(summary)  # Append the summary DataFrame to the list\n",
    "\n",
    "    return summaries\n",
    "\n",
    "# Example usage\n",
    "plr_summaries = run_all(df, \n",
    "                        outcome_l=['milexp_pergdpSIPRI'], \n",
    "                        treatment_l=['treat_fuel'],\n",
    "                        block_fe_l=['country', 't'],  # Include 'country' for fixed effects\n",
    "                        block_sta_l=['logmountain', 'ethnic_fractionalization', 'religion_fractionalization', 'language_fractionalization'], \n",
    "                        block_other_l=['democracy', 'logpopdens_diff', 'ecgrowth_demeaned'])\n"
   ]
  },
  {
   "cell_type": "code",
   "execution_count": 14,
   "metadata": {},
   "outputs": [
    {
     "name": "stdout",
     "output_type": "stream",
     "text": [
      "[                 coef     std err        t     P>|t|        2.5 %      97.5 %\n",
      "treat_fuel -376.22691  424.942065 -0.88536  0.375962 -1209.098053  456.644234,                   coef     std err         t     P>|t|        2.5 %  \\\n",
      "treat_fuel -394.212356  433.524858 -0.909319  0.363182 -1243.905464   \n",
      "\n",
      "                97.5 %  \n",
      "treat_fuel  455.480752  ,                   coef     std err         t     P>|t|       2.5 %      97.5 %\n",
      "treat_fuel -215.177394  296.924381 -0.724688  0.468644 -797.138486  366.783699,                   coef     std err         t     P>|t|       2.5 %      97.5 %\n",
      "treat_fuel -242.925546  321.886843 -0.754692  0.450434 -873.812166  387.961074]\n"
     ]
    }
   ],
   "source": [
    "print(plr_summaries)"
   ]
  },
  {
   "cell_type": "code",
   "execution_count": 15,
   "metadata": {},
   "outputs": [
    {
     "name": "stdout",
     "output_type": "stream",
     "text": [
      "       coef   std err       t   P>|t|      2.5 %    97.5 %  fixed_effects  \\\n",
      "0 -376.2269  424.9421 -0.8854  0.3760 -1209.0981  456.6442           True   \n",
      "1 -394.2124  433.5249 -0.9093  0.3632 -1243.9055  455.4808           True   \n",
      "2 -215.1774  296.9244 -0.7247  0.4686  -797.1385  366.7837          False   \n",
      "3 -242.9255  321.8868 -0.7547  0.4504  -873.8122  387.9611          False   \n",
      "\n",
      "   stationary_controls  \n",
      "0                 True  \n",
      "1                False  \n",
      "2                 True  \n",
      "3                False  \n"
     ]
    }
   ],
   "source": [
    "import pandas as pd\n",
    "\n",
    "# Define the configurations corresponding to your summaries for clarity\n",
    "configurations = [\n",
    "    {'fixed_effects': True, 'stationary_controls': True},\n",
    "    {'fixed_effects': True, 'stationary_controls': False},\n",
    "    {'fixed_effects': False, 'stationary_controls': True},\n",
    "    {'fixed_effects': False, 'stationary_controls': False},\n",
    "]\n",
    "\n",
    "# Add a multi-index or new columns to each DataFrame to indicate the configuration\n",
    "for i, summary in enumerate(plr_summaries):\n",
    "    summary['fixed_effects'] = configurations[i]['fixed_effects']\n",
    "    summary['stationary_controls'] = configurations[i]['stationary_controls']\n",
    "\n",
    "# Concatenate all the DataFrames into one\n",
    "combined_summary = pd.concat(plr_summaries, axis=0)\n",
    "\n",
    "# Reset index to obtain a clean index\n",
    "combined_summary.reset_index(drop=True, inplace=True)\n",
    "rounded_combsum = round(combined_summary, 4)\n",
    "\n",
    "print(rounded_combsum)\n"
   ]
  },
  {
   "cell_type": "code",
   "execution_count": 16,
   "metadata": {},
   "outputs": [],
   "source": [
    "dfs = [rounded_combsum]\n",
    "stacked_df = pd.concat(dfs)\n",
    "final_res = stacked_df.reset_index(drop=True)\n",
    "final_res.insert(0, 'gvc_type', 'backward')\n",
    "final_res\n",
    "final_res.to_csv('backward_res.csv', index=False)"
   ]
  }
 ],
 "metadata": {
  "kernelspec": {
   "display_name": "Python 3",
   "language": "python",
   "name": "python3"
  },
  "language_info": {
   "codemirror_mode": {
    "name": "ipython",
    "version": 3
   },
   "file_extension": ".py",
   "mimetype": "text/x-python",
   "name": "python",
   "nbconvert_exporter": "python",
   "pygments_lexer": "ipython3",
   "version": "3.11.5"
  }
 },
 "nbformat": 4,
 "nbformat_minor": 2
}
