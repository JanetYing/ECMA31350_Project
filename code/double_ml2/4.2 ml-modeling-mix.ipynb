{
 "cells": [
  {
   "attachments": {},
   "cell_type": "markdown",
   "metadata": {},
   "source": [
    "# Double ML - modeling\n",
    "\n",
    "`df_mix`"
   ]
  },
  {
   "attachments": {},
   "cell_type": "markdown",
   "metadata": {},
   "source": [
    "## 0. setup"
   ]
  },
  {
   "cell_type": "code",
   "execution_count": 93,
   "metadata": {},
   "outputs": [],
   "source": [
    "import numpy as np\n",
    "import pandas as pd\n",
    "import scipy as sp\n",
    "from sklearn.neighbors import KNeighborsClassifier\n",
    "from sklearn.ensemble import RandomForestClassifier, RandomForestRegressor\n",
    "from sklearn.linear_model import LinearRegression\n",
    "from sklearn.linear_model import LogisticRegression\n",
    "from sklearn.model_selection import KFold, StratifiedKFold, train_test_split\n",
    "from sklearn.metrics import mean_squared_error, log_loss\n",
    "from sklearn.preprocessing import LabelEncoder\n",
    "import sklearn\n",
    "import os\n",
    "from matplotlib.pyplot import hist\n",
    "import scipy.stats as stats\n",
    "import math\n",
    "import statsmodels.api as sm"
   ]
  },
  {
   "cell_type": "code",
   "execution_count": 94,
   "metadata": {},
   "outputs": [],
   "source": [
    "# set random seed for numpy\n",
    "RANDOM_SEED=42\n",
    "np.random.seed(RANDOM_SEED)"
   ]
  },
  {
   "cell_type": "code",
   "execution_count": 95,
   "metadata": {},
   "outputs": [],
   "source": [
    "def find_p(estimate, std):\n",
    "    z_value = estimate / std\n",
    "    p_value = stats.norm.sf(abs(z_value))*2\n",
    "    return round(estimate, 4), round(std, 4), round(p_value, 4)"
   ]
  },
  {
   "cell_type": "code",
   "execution_count": 96,
   "metadata": {},
   "outputs": [],
   "source": [
    "def label_encode_column(df, column):\n",
    "    le = LabelEncoder()\n",
    "    df[column] = le.fit_transform(df[column])\n",
    "    return df"
   ]
  },
  {
   "attachments": {},
   "cell_type": "markdown",
   "metadata": {},
   "source": [
    "## 1. functions"
   ]
  },
  {
   "attachments": {},
   "cell_type": "markdown",
   "metadata": {},
   "source": [
    "### 1.1 Specify Nuisance Function Models\n",
    "\n",
    "The next step is to specify models for \n",
    "\n",
    "*   $\\mu(z)=\\mathbb{E}(Y|x)$\n",
    "*   $m(x) = P(A=1|x)$"
   ]
  },
  {
   "cell_type": "code",
   "execution_count": 97,
   "metadata": {},
   "outputs": [],
   "source": [
    "# make a function that returns a sklearn model for later use in k-folding\n",
    "def make_mu_model():\n",
    "  #return KNeighborsClassifier(n_neighbors=300)\n",
    "  return RandomForestRegressor(random_state=RANDOM_SEED, n_estimators=300, max_depth=None)\n",
    "  #return RandomForestClassifier(n_estimators=100, max_depth=5)\n",
    "\n",
    "# specify a model for m(z,x)\n",
    "def make_m_model():\n",
    "  #return LogisticRegression(max_iter=1000, warm_start=True, random_state=RANDOM_SEED)\n",
    "  return RandomForestClassifier(n_estimators=200, max_depth=None)"
   ]
  },
  {
   "attachments": {},
   "cell_type": "markdown",
   "metadata": {},
   "source": [
    "### 1.2 Functions that use cross fitting to get predicted $\\hat{\\mu}$, $\\hat{m}$, $\\hat{p}$ for each unit"
   ]
  },
  {
   "cell_type": "code",
   "execution_count": 98,
   "metadata": {},
   "outputs": [],
   "source": [
    "# helper functions to implement the cross fitting\n",
    "\n",
    "def m_k_fold_fit_and_predict(make_model, X:pd.DataFrame, A:np.array, n_splits:int):\n",
    "    \"\"\"\n",
    "    Implements K fold cross-fitting for the model predicting the outcome Y. \n",
    "    That is, \n",
    "    1. Split data into K folds\n",
    "    2. For each fold j, the model is fit on the other K-1 folds\n",
    "    3. The fitted model is used to make predictions for each data point in fold j\n",
    "    Returns two arrays containing the predictions for all units untreated, all units treated  \n",
    "\n",
    "    Args:\n",
    "    model: function that returns sklearn model (that implements fit and either predict_prob or predict)\n",
    "    X: dataframe of variables to adjust for\n",
    "    A: array of treatments\n",
    "    n_splits: number of splits to use\n",
    "    \"\"\"\n",
    "    predictions = np.full_like(A, np.nan, dtype=float)\n",
    "    kf = StratifiedKFold(n_splits=n_splits, shuffle=True, random_state=RANDOM_SEED)\n",
    "\n",
    "    for train_index, test_index in kf.split(X, A):\n",
    "      X_train = X.loc[train_index]\n",
    "      A_train = A[train_index]\n",
    "\n",
    "      m = make_model()\n",
    "      m.fit(X_train, A_train)\n",
    "      predictions[test_index] = m.predict_proba(X.loc[test_index])[:,1]\n",
    "\n",
    "    assert np.isnan(predictions).sum() == 0  # Ensure no predictions are NaN\n",
    "    return predictions\n",
    "\n",
    "def mu_k_fold_fit_and_predict(make_model, X:pd.DataFrame, y:np.array, n_splits:int, output_type:str):\n",
    "    \"\"\"\n",
    "    Implements K fold cross-fitting for the model predicting the outcome Y. \n",
    "    That is, \n",
    "    1. Split data into K folds\n",
    "    2. For each fold j, the model is fit on the other K-1 folds\n",
    "    3. The fitted model is used to make predictions for each data point in fold j\n",
    "    Returns two arrays containing the predictions for all units untreated, all units treated  \n",
    "\n",
    "    Args:\n",
    "    model: function that returns sklearn model (that implements fit and either predict_prob or predict)\n",
    "    X: dataframe of variables to adjust for\n",
    "    y: array of outcomes\n",
    "    n_splits: number of splits to use\n",
    "    output_type: type of outcome, \"binary\" or \"continuous\"\n",
    "\n",
    "    \"\"\"\n",
    "    predictions = np.full_like(y, np.nan, dtype=float)\n",
    "    if output_type == 'binary':\n",
    "      kf = StratifiedKFold(n_splits=n_splits, shuffle=True, random_state=RANDOM_SEED)\n",
    "    elif output_type == 'continuous':\n",
    "      kf = KFold(n_splits=n_splits, shuffle=True, random_state=RANDOM_SEED)\n",
    "\n",
    "    \n",
    "    for train_index, test_index in kf.split(X, y):\n",
    "      X_train = X.loc[train_index]\n",
    "      y_train = y.loc[train_index]\n",
    "      mu = make_model()\n",
    "      mu.fit(X_train, y_train)\n",
    "\n",
    "      if output_type =='binary':\n",
    "        predictions[test_index] = mu.predict_proba(X.loc[test_index])[:, 1]\n",
    "      elif output_type == 'continuous':\n",
    "        predictions[test_index] = mu.predict(X.loc[test_index])\n",
    "\n",
    "    assert np.isnan(predictions).sum() == 0\n",
    "    return predictions"
   ]
  },
  {
   "attachments": {},
   "cell_type": "markdown",
   "metadata": {},
   "source": [
    "### 1.3 ATE"
   ]
  },
  {
   "cell_type": "code",
   "execution_count": 99,
   "metadata": {},
   "outputs": [],
   "source": [
    "def ate_estimator(X, y, n_splits=5):\n",
    "    \"\"\"\n",
    "    Fit a logistic regression model as a proxy for a probit model to predict the binary outcome.\n",
    "    Args:\n",
    "    X: DataFrame of predictors, including treatment and control variables.\n",
    "    y: Binary outcome variable.\n",
    "    n_splits: Number of splits for cross-validation.\n",
    "\n",
    "    Returns:\n",
    "    A fitted LogisticRegression model.\n",
    "    \"\"\"\n",
    "    # Initialize cross-validator\n",
    "    kf = StratifiedKFold(n_splits=n_splits, shuffle=True, random_state=42)\n",
    "\n",
    "    predictions = np.zeros(len(y))  # Initialize predictions array\n",
    "    \n",
    "    for train_index, test_index in kf.split(X, y):\n",
    "        X_train, X_test = X.iloc[train_index], X.iloc[test_index]\n",
    "        y_train = y[train_index]\n",
    "\n",
    "        # Fit logistic regression as a proxy for probit\n",
    "        model = LogisticRegression(max_iter=1000, solver='liblinear')\n",
    "        model.fit(X_train, y_train)\n",
    "\n",
    "        # Predict probabilities for the positive class\n",
    "        predictions[test_index] = model.predict_proba(X_test)[:, 1]\n",
    "\n",
    "    return model\n"
   ]
  },
  {
   "attachments": {},
   "cell_type": "markdown",
   "metadata": {},
   "source": [
    "### 1.4 Run a trial"
   ]
  },
  {
   "cell_type": "code",
   "execution_count": 100,
   "metadata": {},
   "outputs": [],
   "source": [
    "def run(df, outcome_l, treatment_l, block_l, fe, stationary_c):\n",
    "    df_1 = df[outcome_l + treatment_l + block_l].dropna()\n",
    "\n",
    "    outcome = df_1[outcome_l].reset_index(drop=True).squeeze()\n",
    "    treatment = df_1[treatment_l].reset_index(drop=True).squeeze()\n",
    "    block = df_1[block_l].reset_index(drop=True).squeeze()\n",
    "\n",
    "    # Combining treatment and block variables for modeling\n",
    "    X = pd.concat([treatment.reset_index(drop=True), block.reset_index(drop=True)], axis=1)\n",
    "    y = outcome\n",
    "\n",
    "    model = ate_estimator(X, y)  \n",
    "    tau_hat = model.coef_[0].mean()  # Estimated effect\n",
    "    std_hat = model.coef_[0].std()  # Standard error\n",
    "    tau_hat, std_hat, p = find_p(tau_hat, std_hat) # p-value\n",
    "    return outcome_l[0], treatment_l[0], tau_hat, std_hat, p, fe, stationary_c\n"
   ]
  },
  {
   "attachments": {},
   "cell_type": "markdown",
   "metadata": {},
   "source": [
    "## 2. Analysis"
   ]
  },
  {
   "attachments": {},
   "cell_type": "markdown",
   "metadata": {},
   "source": [
    "### 2.1 `df_mix`"
   ]
  },
  {
   "cell_type": "code",
   "execution_count": 101,
   "metadata": {},
   "outputs": [
    {
     "ename": "PermissionError",
     "evalue": "[Errno 1] Operation not permitted: 'df_mix.csv'",
     "output_type": "error",
     "traceback": [
      "\u001b[0;31m---------------------------------------------------------------------------\u001b[0m",
      "\u001b[0;31mPermissionError\u001b[0m                           Traceback (most recent call last)",
      "Cell \u001b[0;32mIn[101], line 2\u001b[0m\n\u001b[1;32m      1\u001b[0m \u001b[38;5;66;03m# read in the dataframe\u001b[39;00m\n\u001b[0;32m----> 2\u001b[0m df \u001b[38;5;241m=\u001b[39m pd\u001b[38;5;241m.\u001b[39mread_csv(\u001b[38;5;124m'\u001b[39m\u001b[38;5;124mdf_mix.csv\u001b[39m\u001b[38;5;124m'\u001b[39m)\n",
      "File \u001b[0;32m~/anaconda3/lib/python3.11/site-packages/pandas/io/parsers/readers.py:912\u001b[0m, in \u001b[0;36mread_csv\u001b[0;34m(filepath_or_buffer, sep, delimiter, header, names, index_col, usecols, dtype, engine, converters, true_values, false_values, skipinitialspace, skiprows, skipfooter, nrows, na_values, keep_default_na, na_filter, verbose, skip_blank_lines, parse_dates, infer_datetime_format, keep_date_col, date_parser, date_format, dayfirst, cache_dates, iterator, chunksize, compression, thousands, decimal, lineterminator, quotechar, quoting, doublequote, escapechar, comment, encoding, encoding_errors, dialect, on_bad_lines, delim_whitespace, low_memory, memory_map, float_precision, storage_options, dtype_backend)\u001b[0m\n\u001b[1;32m    899\u001b[0m kwds_defaults \u001b[38;5;241m=\u001b[39m _refine_defaults_read(\n\u001b[1;32m    900\u001b[0m     dialect,\n\u001b[1;32m    901\u001b[0m     delimiter,\n\u001b[0;32m   (...)\u001b[0m\n\u001b[1;32m    908\u001b[0m     dtype_backend\u001b[38;5;241m=\u001b[39mdtype_backend,\n\u001b[1;32m    909\u001b[0m )\n\u001b[1;32m    910\u001b[0m kwds\u001b[38;5;241m.\u001b[39mupdate(kwds_defaults)\n\u001b[0;32m--> 912\u001b[0m \u001b[38;5;28;01mreturn\u001b[39;00m _read(filepath_or_buffer, kwds)\n",
      "File \u001b[0;32m~/anaconda3/lib/python3.11/site-packages/pandas/io/parsers/readers.py:577\u001b[0m, in \u001b[0;36m_read\u001b[0;34m(filepath_or_buffer, kwds)\u001b[0m\n\u001b[1;32m    574\u001b[0m _validate_names(kwds\u001b[38;5;241m.\u001b[39mget(\u001b[38;5;124m\"\u001b[39m\u001b[38;5;124mnames\u001b[39m\u001b[38;5;124m\"\u001b[39m, \u001b[38;5;28;01mNone\u001b[39;00m))\n\u001b[1;32m    576\u001b[0m \u001b[38;5;66;03m# Create the parser.\u001b[39;00m\n\u001b[0;32m--> 577\u001b[0m parser \u001b[38;5;241m=\u001b[39m TextFileReader(filepath_or_buffer, \u001b[38;5;241m*\u001b[39m\u001b[38;5;241m*\u001b[39mkwds)\n\u001b[1;32m    579\u001b[0m \u001b[38;5;28;01mif\u001b[39;00m chunksize \u001b[38;5;129;01mor\u001b[39;00m iterator:\n\u001b[1;32m    580\u001b[0m     \u001b[38;5;28;01mreturn\u001b[39;00m parser\n",
      "File \u001b[0;32m~/anaconda3/lib/python3.11/site-packages/pandas/io/parsers/readers.py:1407\u001b[0m, in \u001b[0;36mTextFileReader.__init__\u001b[0;34m(self, f, engine, **kwds)\u001b[0m\n\u001b[1;32m   1404\u001b[0m     \u001b[38;5;28mself\u001b[39m\u001b[38;5;241m.\u001b[39moptions[\u001b[38;5;124m\"\u001b[39m\u001b[38;5;124mhas_index_names\u001b[39m\u001b[38;5;124m\"\u001b[39m] \u001b[38;5;241m=\u001b[39m kwds[\u001b[38;5;124m\"\u001b[39m\u001b[38;5;124mhas_index_names\u001b[39m\u001b[38;5;124m\"\u001b[39m]\n\u001b[1;32m   1406\u001b[0m \u001b[38;5;28mself\u001b[39m\u001b[38;5;241m.\u001b[39mhandles: IOHandles \u001b[38;5;241m|\u001b[39m \u001b[38;5;28;01mNone\u001b[39;00m \u001b[38;5;241m=\u001b[39m \u001b[38;5;28;01mNone\u001b[39;00m\n\u001b[0;32m-> 1407\u001b[0m \u001b[38;5;28mself\u001b[39m\u001b[38;5;241m.\u001b[39m_engine \u001b[38;5;241m=\u001b[39m \u001b[38;5;28mself\u001b[39m\u001b[38;5;241m.\u001b[39m_make_engine(f, \u001b[38;5;28mself\u001b[39m\u001b[38;5;241m.\u001b[39mengine)\n",
      "File \u001b[0;32m~/anaconda3/lib/python3.11/site-packages/pandas/io/parsers/readers.py:1661\u001b[0m, in \u001b[0;36mTextFileReader._make_engine\u001b[0;34m(self, f, engine)\u001b[0m\n\u001b[1;32m   1659\u001b[0m     \u001b[38;5;28;01mif\u001b[39;00m \u001b[38;5;124m\"\u001b[39m\u001b[38;5;124mb\u001b[39m\u001b[38;5;124m\"\u001b[39m \u001b[38;5;129;01mnot\u001b[39;00m \u001b[38;5;129;01min\u001b[39;00m mode:\n\u001b[1;32m   1660\u001b[0m         mode \u001b[38;5;241m+\u001b[39m\u001b[38;5;241m=\u001b[39m \u001b[38;5;124m\"\u001b[39m\u001b[38;5;124mb\u001b[39m\u001b[38;5;124m\"\u001b[39m\n\u001b[0;32m-> 1661\u001b[0m \u001b[38;5;28mself\u001b[39m\u001b[38;5;241m.\u001b[39mhandles \u001b[38;5;241m=\u001b[39m get_handle(\n\u001b[1;32m   1662\u001b[0m     f,\n\u001b[1;32m   1663\u001b[0m     mode,\n\u001b[1;32m   1664\u001b[0m     encoding\u001b[38;5;241m=\u001b[39m\u001b[38;5;28mself\u001b[39m\u001b[38;5;241m.\u001b[39moptions\u001b[38;5;241m.\u001b[39mget(\u001b[38;5;124m\"\u001b[39m\u001b[38;5;124mencoding\u001b[39m\u001b[38;5;124m\"\u001b[39m, \u001b[38;5;28;01mNone\u001b[39;00m),\n\u001b[1;32m   1665\u001b[0m     compression\u001b[38;5;241m=\u001b[39m\u001b[38;5;28mself\u001b[39m\u001b[38;5;241m.\u001b[39moptions\u001b[38;5;241m.\u001b[39mget(\u001b[38;5;124m\"\u001b[39m\u001b[38;5;124mcompression\u001b[39m\u001b[38;5;124m\"\u001b[39m, \u001b[38;5;28;01mNone\u001b[39;00m),\n\u001b[1;32m   1666\u001b[0m     memory_map\u001b[38;5;241m=\u001b[39m\u001b[38;5;28mself\u001b[39m\u001b[38;5;241m.\u001b[39moptions\u001b[38;5;241m.\u001b[39mget(\u001b[38;5;124m\"\u001b[39m\u001b[38;5;124mmemory_map\u001b[39m\u001b[38;5;124m\"\u001b[39m, \u001b[38;5;28;01mFalse\u001b[39;00m),\n\u001b[1;32m   1667\u001b[0m     is_text\u001b[38;5;241m=\u001b[39mis_text,\n\u001b[1;32m   1668\u001b[0m     errors\u001b[38;5;241m=\u001b[39m\u001b[38;5;28mself\u001b[39m\u001b[38;5;241m.\u001b[39moptions\u001b[38;5;241m.\u001b[39mget(\u001b[38;5;124m\"\u001b[39m\u001b[38;5;124mencoding_errors\u001b[39m\u001b[38;5;124m\"\u001b[39m, \u001b[38;5;124m\"\u001b[39m\u001b[38;5;124mstrict\u001b[39m\u001b[38;5;124m\"\u001b[39m),\n\u001b[1;32m   1669\u001b[0m     storage_options\u001b[38;5;241m=\u001b[39m\u001b[38;5;28mself\u001b[39m\u001b[38;5;241m.\u001b[39moptions\u001b[38;5;241m.\u001b[39mget(\u001b[38;5;124m\"\u001b[39m\u001b[38;5;124mstorage_options\u001b[39m\u001b[38;5;124m\"\u001b[39m, \u001b[38;5;28;01mNone\u001b[39;00m),\n\u001b[1;32m   1670\u001b[0m )\n\u001b[1;32m   1671\u001b[0m \u001b[38;5;28;01massert\u001b[39;00m \u001b[38;5;28mself\u001b[39m\u001b[38;5;241m.\u001b[39mhandles \u001b[38;5;129;01mis\u001b[39;00m \u001b[38;5;129;01mnot\u001b[39;00m \u001b[38;5;28;01mNone\u001b[39;00m\n\u001b[1;32m   1672\u001b[0m f \u001b[38;5;241m=\u001b[39m \u001b[38;5;28mself\u001b[39m\u001b[38;5;241m.\u001b[39mhandles\u001b[38;5;241m.\u001b[39mhandle\n",
      "File \u001b[0;32m~/anaconda3/lib/python3.11/site-packages/pandas/io/common.py:859\u001b[0m, in \u001b[0;36mget_handle\u001b[0;34m(path_or_buf, mode, encoding, compression, memory_map, is_text, errors, storage_options)\u001b[0m\n\u001b[1;32m    854\u001b[0m \u001b[38;5;28;01melif\u001b[39;00m \u001b[38;5;28misinstance\u001b[39m(handle, \u001b[38;5;28mstr\u001b[39m):\n\u001b[1;32m    855\u001b[0m     \u001b[38;5;66;03m# Check whether the filename is to be opened in binary mode.\u001b[39;00m\n\u001b[1;32m    856\u001b[0m     \u001b[38;5;66;03m# Binary mode does not support 'encoding' and 'newline'.\u001b[39;00m\n\u001b[1;32m    857\u001b[0m     \u001b[38;5;28;01mif\u001b[39;00m ioargs\u001b[38;5;241m.\u001b[39mencoding \u001b[38;5;129;01mand\u001b[39;00m \u001b[38;5;124m\"\u001b[39m\u001b[38;5;124mb\u001b[39m\u001b[38;5;124m\"\u001b[39m \u001b[38;5;129;01mnot\u001b[39;00m \u001b[38;5;129;01min\u001b[39;00m ioargs\u001b[38;5;241m.\u001b[39mmode:\n\u001b[1;32m    858\u001b[0m         \u001b[38;5;66;03m# Encoding\u001b[39;00m\n\u001b[0;32m--> 859\u001b[0m         handle \u001b[38;5;241m=\u001b[39m \u001b[38;5;28mopen\u001b[39m(\n\u001b[1;32m    860\u001b[0m             handle,\n\u001b[1;32m    861\u001b[0m             ioargs\u001b[38;5;241m.\u001b[39mmode,\n\u001b[1;32m    862\u001b[0m             encoding\u001b[38;5;241m=\u001b[39mioargs\u001b[38;5;241m.\u001b[39mencoding,\n\u001b[1;32m    863\u001b[0m             errors\u001b[38;5;241m=\u001b[39merrors,\n\u001b[1;32m    864\u001b[0m             newline\u001b[38;5;241m=\u001b[39m\u001b[38;5;124m\"\u001b[39m\u001b[38;5;124m\"\u001b[39m,\n\u001b[1;32m    865\u001b[0m         )\n\u001b[1;32m    866\u001b[0m     \u001b[38;5;28;01melse\u001b[39;00m:\n\u001b[1;32m    867\u001b[0m         \u001b[38;5;66;03m# Binary mode\u001b[39;00m\n\u001b[1;32m    868\u001b[0m         handle \u001b[38;5;241m=\u001b[39m \u001b[38;5;28mopen\u001b[39m(handle, ioargs\u001b[38;5;241m.\u001b[39mmode)\n",
      "\u001b[0;31mPermissionError\u001b[0m: [Errno 1] Operation not permitted: 'df_mix.csv'"
     ]
    }
   ],
   "source": [
    "# read in the dataframe\n",
    "df = pd.read_csv('df_mix.csv')"
   ]
  },
  {
   "cell_type": "code",
   "execution_count": null,
   "metadata": {},
   "outputs": [],
   "source": [
    "# in order to run random forest with categorical variable\n",
    "df = label_encode_column(df, 'country')"
   ]
  },
  {
   "cell_type": "code",
   "execution_count": null,
   "metadata": {},
   "outputs": [],
   "source": [
    "res = pd.DataFrame(columns=['outcome', 'treatment', 'tau_hat', 'std_hat', 'p_val', 'fixed_effects', 'stationary_controls'])"
   ]
  },
  {
   "cell_type": "code",
   "execution_count": null,
   "metadata": {},
   "outputs": [
    {
     "data": {
      "text/plain": [
       "Index(['country', 't', 'onset2COWCS', 'decade', 'democracy', 'logmountain',\n",
       "       'ethnic_fractionalization', 'religion_fractionalization',\n",
       "       'language_fractionalization', 'leg_british', 'opec', 'logpop_M_diff',\n",
       "       'logpopdens_diff', 'logoutreg_diff', 'ecgrowth_demeaned',\n",
       "       'oilreserves_full', 'oilreserves', 'oilreserves_public', '1', '2', '6',\n",
       "       '10', '19'],\n",
       "      dtype='object')"
      ]
     },
     "execution_count": 49,
     "metadata": {},
     "output_type": "execute_result"
    }
   ],
   "source": [
    "df.columns"
   ]
  },
  {
   "cell_type": "code",
   "execution_count": null,
   "metadata": {},
   "outputs": [],
   "source": [
    "def run_all(df, outcome_l, treatment_l, block_fe_l, block_sta_l, block_other_l):\n",
    "    '''\n",
    "    For a given treatment i.e. sector.\n",
    "    '''\n",
    "    res = pd.DataFrame(columns=['outcome', 'treatment', 'tau_hat', 'std_hat', 'p_val', 'fixed_effects', 'stationary_controls'])\n",
    "\n",
    "    for fe in [True, False]:\n",
    "        block_l = block_other_l[:]  # Initialize block_l with a copy of block_other_l\n",
    "        if fe:\n",
    "            block_l += block_fe_l\n",
    "\n",
    "        for sta in [True, False]:\n",
    "            if sta:\n",
    "                block_l += block_sta_l\n",
    "\n",
    "            res_row = run(df, outcome_l, treatment_l, block_l, fe, sta)\n",
    "            print(res_row)\n",
    "            res.loc[len(res)] = list(res_row)\n",
    "    return res\n"
   ]
  },
  {
   "attachments": {},
   "cell_type": "markdown",
   "metadata": {},
   "source": [
    "Treatment: oilreserves"
   ]
  },
  {
   "cell_type": "code",
   "execution_count": null,
   "metadata": {},
   "outputs": [
    {
     "name": "stdout",
     "output_type": "stream",
     "text": [
      "('onset2COWCS', 'oilreserves', -0.0193, 0.0981, 0.844, True, True)\n",
      "('onset2COWCS', 'oilreserves', -0.0193, 0.0981, 0.844, True, False)\n",
      "('onset2COWCS', 'oilreserves', -0.0479, 0.2312, 0.8359, False, True)\n",
      "('onset2COWCS', 'oilreserves', -0.0479, 0.2312, 0.8359, False, False)\n"
     ]
    }
   ],
   "source": [
    "oilreserves_res = run_all(df, \n",
    "        outcome_l = ['onset2COWCS'], \n",
    "        treatment_l = ['oilreserves'], \n",
    "        block_fe_l = ['country', 't'], \n",
    "        block_sta_l = ['logmountain', 'ethnic_fractionalization', 'religion_fractionalization',\n",
    "                       'language_fractionalization'], \n",
    "        block_other_l = ['democracy', 'logpop_M_diff', 'logpopdens_diff', \n",
    "                         'ecgrowth_demeaned'])"
   ]
  },
  {
   "cell_type": "code",
   "execution_count": null,
   "metadata": {},
   "outputs": [
    {
     "data": {
      "text/html": [
       "<div>\n",
       "<style scoped>\n",
       "    .dataframe tbody tr th:only-of-type {\n",
       "        vertical-align: middle;\n",
       "    }\n",
       "\n",
       "    .dataframe tbody tr th {\n",
       "        vertical-align: top;\n",
       "    }\n",
       "\n",
       "    .dataframe thead th {\n",
       "        text-align: right;\n",
       "    }\n",
       "</style>\n",
       "<table border=\"1\" class=\"dataframe\">\n",
       "  <thead>\n",
       "    <tr style=\"text-align: right;\">\n",
       "      <th></th>\n",
       "      <th>outcome</th>\n",
       "      <th>treatment</th>\n",
       "      <th>tau_hat</th>\n",
       "      <th>std_hat</th>\n",
       "      <th>p_val</th>\n",
       "      <th>fixed_effects</th>\n",
       "      <th>stationary_controls</th>\n",
       "    </tr>\n",
       "  </thead>\n",
       "  <tbody>\n",
       "    <tr>\n",
       "      <th>0</th>\n",
       "      <td>onset2COWCS</td>\n",
       "      <td>oilreserves</td>\n",
       "      <td>-0.0193</td>\n",
       "      <td>0.0981</td>\n",
       "      <td>0.8440</td>\n",
       "      <td>True</td>\n",
       "      <td>True</td>\n",
       "    </tr>\n",
       "    <tr>\n",
       "      <th>1</th>\n",
       "      <td>onset2COWCS</td>\n",
       "      <td>oilreserves</td>\n",
       "      <td>-0.0193</td>\n",
       "      <td>0.0981</td>\n",
       "      <td>0.8440</td>\n",
       "      <td>True</td>\n",
       "      <td>False</td>\n",
       "    </tr>\n",
       "    <tr>\n",
       "      <th>2</th>\n",
       "      <td>onset2COWCS</td>\n",
       "      <td>oilreserves</td>\n",
       "      <td>-0.0479</td>\n",
       "      <td>0.2312</td>\n",
       "      <td>0.8359</td>\n",
       "      <td>False</td>\n",
       "      <td>True</td>\n",
       "    </tr>\n",
       "    <tr>\n",
       "      <th>3</th>\n",
       "      <td>onset2COWCS</td>\n",
       "      <td>oilreserves</td>\n",
       "      <td>-0.0479</td>\n",
       "      <td>0.2312</td>\n",
       "      <td>0.8359</td>\n",
       "      <td>False</td>\n",
       "      <td>False</td>\n",
       "    </tr>\n",
       "  </tbody>\n",
       "</table>\n",
       "</div>"
      ],
      "text/plain": [
       "       outcome    treatment  tau_hat  std_hat   p_val  fixed_effects  \\\n",
       "0  onset2COWCS  oilreserves  -0.0193   0.0981  0.8440           True   \n",
       "1  onset2COWCS  oilreserves  -0.0193   0.0981  0.8440           True   \n",
       "2  onset2COWCS  oilreserves  -0.0479   0.2312  0.8359          False   \n",
       "3  onset2COWCS  oilreserves  -0.0479   0.2312  0.8359          False   \n",
       "\n",
       "   stationary_controls  \n",
       "0                 True  \n",
       "1                False  \n",
       "2                 True  \n",
       "3                False  "
      ]
     },
     "execution_count": 84,
     "metadata": {},
     "output_type": "execute_result"
    }
   ],
   "source": [
    "oilreserves_res"
   ]
  },
  {
   "attachments": {},
   "cell_type": "markdown",
   "metadata": {},
   "source": [
    "Treatment: oilreserves_full"
   ]
  },
  {
   "cell_type": "code",
   "execution_count": null,
   "metadata": {},
   "outputs": [
    {
     "name": "stdout",
     "output_type": "stream",
     "text": [
      "('onset2COWCS', 'oilreserves_full', -0.0002, 0.0005, 0.772, True, True)\n",
      "('onset2COWCS', 'oilreserves_full', -0.0002, 0.0005, 0.772, True, False)\n",
      "('onset2COWCS', 'oilreserves_full', -0.0, 0.0, 0.7548, False, True)\n",
      "('onset2COWCS', 'oilreserves_full', -0.0, 0.0, 0.7548, False, False)\n"
     ]
    }
   ],
   "source": [
    "oilreserves_full_res = run_all(df, \n",
    "        outcome_l = ['onset2COWCS'], \n",
    "        treatment_l = ['oilreserves_full'], \n",
    "        block_fe_l = ['country', 't'], \n",
    "        block_sta_l = ['logmountain', 'ethnic_fractionalization', 'religion_fractionalization',\n",
    "                       'language_fractionalization', 'leg_british', 'opec'], \n",
    "        block_other_l = ['democracy', 'logpop_M_diff', 'logpopdens_diff', \n",
    "                         'logoutreg_diff', 'ecgrowth_demeaned'])"
   ]
  },
  {
   "cell_type": "code",
   "execution_count": null,
   "metadata": {},
   "outputs": [
    {
     "data": {
      "text/html": [
       "<div>\n",
       "<style scoped>\n",
       "    .dataframe tbody tr th:only-of-type {\n",
       "        vertical-align: middle;\n",
       "    }\n",
       "\n",
       "    .dataframe tbody tr th {\n",
       "        vertical-align: top;\n",
       "    }\n",
       "\n",
       "    .dataframe thead th {\n",
       "        text-align: right;\n",
       "    }\n",
       "</style>\n",
       "<table border=\"1\" class=\"dataframe\">\n",
       "  <thead>\n",
       "    <tr style=\"text-align: right;\">\n",
       "      <th></th>\n",
       "      <th>outcome</th>\n",
       "      <th>treatment</th>\n",
       "      <th>tau_hat</th>\n",
       "      <th>std_hat</th>\n",
       "      <th>p_val</th>\n",
       "      <th>fixed_effects</th>\n",
       "      <th>stationary_controls</th>\n",
       "    </tr>\n",
       "  </thead>\n",
       "  <tbody>\n",
       "    <tr>\n",
       "      <th>0</th>\n",
       "      <td>onset2COWCS</td>\n",
       "      <td>oilreserves_full</td>\n",
       "      <td>-0.0002</td>\n",
       "      <td>0.0005</td>\n",
       "      <td>0.7720</td>\n",
       "      <td>True</td>\n",
       "      <td>True</td>\n",
       "    </tr>\n",
       "    <tr>\n",
       "      <th>1</th>\n",
       "      <td>onset2COWCS</td>\n",
       "      <td>oilreserves_full</td>\n",
       "      <td>-0.0002</td>\n",
       "      <td>0.0005</td>\n",
       "      <td>0.7720</td>\n",
       "      <td>True</td>\n",
       "      <td>False</td>\n",
       "    </tr>\n",
       "    <tr>\n",
       "      <th>2</th>\n",
       "      <td>onset2COWCS</td>\n",
       "      <td>oilreserves_full</td>\n",
       "      <td>-0.0000</td>\n",
       "      <td>0.0000</td>\n",
       "      <td>0.7548</td>\n",
       "      <td>False</td>\n",
       "      <td>True</td>\n",
       "    </tr>\n",
       "    <tr>\n",
       "      <th>3</th>\n",
       "      <td>onset2COWCS</td>\n",
       "      <td>oilreserves_full</td>\n",
       "      <td>-0.0000</td>\n",
       "      <td>0.0000</td>\n",
       "      <td>0.7548</td>\n",
       "      <td>False</td>\n",
       "      <td>False</td>\n",
       "    </tr>\n",
       "  </tbody>\n",
       "</table>\n",
       "</div>"
      ],
      "text/plain": [
       "       outcome         treatment  tau_hat  std_hat   p_val  fixed_effects  \\\n",
       "0  onset2COWCS  oilreserves_full  -0.0002   0.0005  0.7720           True   \n",
       "1  onset2COWCS  oilreserves_full  -0.0002   0.0005  0.7720           True   \n",
       "2  onset2COWCS  oilreserves_full  -0.0000   0.0000  0.7548          False   \n",
       "3  onset2COWCS  oilreserves_full  -0.0000   0.0000  0.7548          False   \n",
       "\n",
       "   stationary_controls  \n",
       "0                 True  \n",
       "1                False  \n",
       "2                 True  \n",
       "3                False  "
      ]
     },
     "execution_count": 86,
     "metadata": {},
     "output_type": "execute_result"
    }
   ],
   "source": [
    "oilreserves_full_res\n"
   ]
  },
  {
   "attachments": {},
   "cell_type": "markdown",
   "metadata": {},
   "source": [
    "Treatment: oilreserves_public"
   ]
  },
  {
   "cell_type": "code",
   "execution_count": null,
   "metadata": {},
   "outputs": [
    {
     "name": "stdout",
     "output_type": "stream",
     "text": [
      "('onset2COWCS', 'oilreserves_public', 0.0003, 0.0039, 0.934, True, True)\n",
      "('onset2COWCS', 'oilreserves_public', 0.0003, 0.0039, 0.934, True, False)\n",
      "('onset2COWCS', 'oilreserves_public', -0.009, 0.1568, 0.9542, False, True)\n",
      "('onset2COWCS', 'oilreserves_public', -0.009, 0.1568, 0.9542, False, False)\n"
     ]
    }
   ],
   "source": [
    "oilreserves_public_res = run_all(df, \n",
    "        outcome_l = ['onset2COWCS'], \n",
    "        treatment_l = ['oilreserves_public'], \n",
    "        block_fe_l = ['country', 't'], \n",
    "        block_sta_l = ['logmountain', 'ethnic_fractionalization', 'religion_fractionalization',\n",
    "                       'language_fractionalization', 'leg_british', 'opec'], \n",
    "        block_other_l = ['democracy', 'logpop_M_diff', 'logpopdens_diff', \n",
    "                         'logoutreg_diff', 'ecgrowth_demeaned'])"
   ]
  },
  {
   "cell_type": "code",
   "execution_count": null,
   "metadata": {},
   "outputs": [
    {
     "data": {
      "text/html": [
       "<div>\n",
       "<style scoped>\n",
       "    .dataframe tbody tr th:only-of-type {\n",
       "        vertical-align: middle;\n",
       "    }\n",
       "\n",
       "    .dataframe tbody tr th {\n",
       "        vertical-align: top;\n",
       "    }\n",
       "\n",
       "    .dataframe thead th {\n",
       "        text-align: right;\n",
       "    }\n",
       "</style>\n",
       "<table border=\"1\" class=\"dataframe\">\n",
       "  <thead>\n",
       "    <tr style=\"text-align: right;\">\n",
       "      <th></th>\n",
       "      <th>outcome</th>\n",
       "      <th>treatment</th>\n",
       "      <th>tau_hat</th>\n",
       "      <th>std_hat</th>\n",
       "      <th>p_val</th>\n",
       "      <th>fixed_effects</th>\n",
       "      <th>stationary_controls</th>\n",
       "    </tr>\n",
       "  </thead>\n",
       "  <tbody>\n",
       "    <tr>\n",
       "      <th>0</th>\n",
       "      <td>onset2COWCS</td>\n",
       "      <td>oilreserves_public</td>\n",
       "      <td>0.0003</td>\n",
       "      <td>0.0039</td>\n",
       "      <td>0.9340</td>\n",
       "      <td>True</td>\n",
       "      <td>True</td>\n",
       "    </tr>\n",
       "    <tr>\n",
       "      <th>1</th>\n",
       "      <td>onset2COWCS</td>\n",
       "      <td>oilreserves_public</td>\n",
       "      <td>0.0003</td>\n",
       "      <td>0.0039</td>\n",
       "      <td>0.9340</td>\n",
       "      <td>True</td>\n",
       "      <td>False</td>\n",
       "    </tr>\n",
       "    <tr>\n",
       "      <th>2</th>\n",
       "      <td>onset2COWCS</td>\n",
       "      <td>oilreserves_public</td>\n",
       "      <td>-0.0090</td>\n",
       "      <td>0.1568</td>\n",
       "      <td>0.9542</td>\n",
       "      <td>False</td>\n",
       "      <td>True</td>\n",
       "    </tr>\n",
       "    <tr>\n",
       "      <th>3</th>\n",
       "      <td>onset2COWCS</td>\n",
       "      <td>oilreserves_public</td>\n",
       "      <td>-0.0090</td>\n",
       "      <td>0.1568</td>\n",
       "      <td>0.9542</td>\n",
       "      <td>False</td>\n",
       "      <td>False</td>\n",
       "    </tr>\n",
       "  </tbody>\n",
       "</table>\n",
       "</div>"
      ],
      "text/plain": [
       "       outcome           treatment  tau_hat  std_hat   p_val  fixed_effects  \\\n",
       "0  onset2COWCS  oilreserves_public   0.0003   0.0039  0.9340           True   \n",
       "1  onset2COWCS  oilreserves_public   0.0003   0.0039  0.9340           True   \n",
       "2  onset2COWCS  oilreserves_public  -0.0090   0.1568  0.9542          False   \n",
       "3  onset2COWCS  oilreserves_public  -0.0090   0.1568  0.9542          False   \n",
       "\n",
       "   stationary_controls  \n",
       "0                 True  \n",
       "1                False  \n",
       "2                 True  \n",
       "3                False  "
      ]
     },
     "execution_count": 88,
     "metadata": {},
     "output_type": "execute_result"
    }
   ],
   "source": [
    "oilreserves_public_res"
   ]
  },
  {
   "attachments": {},
   "cell_type": "markdown",
   "metadata": {},
   "source": [
    "Final Result:"
   ]
  },
  {
   "cell_type": "code",
   "execution_count": null,
   "metadata": {},
   "outputs": [],
   "source": [
    "dfs = [oilreserves_res, oilreserves_full_res, oilreserves_public_res]\n",
    "stacked_df = pd.concat(dfs)\n",
    "final_res = stacked_df.reset_index(drop=True)"
   ]
  },
  {
   "cell_type": "code",
   "execution_count": null,
   "metadata": {},
   "outputs": [
    {
     "data": {
      "text/html": [
       "<div>\n",
       "<style scoped>\n",
       "    .dataframe tbody tr th:only-of-type {\n",
       "        vertical-align: middle;\n",
       "    }\n",
       "\n",
       "    .dataframe tbody tr th {\n",
       "        vertical-align: top;\n",
       "    }\n",
       "\n",
       "    .dataframe thead th {\n",
       "        text-align: right;\n",
       "    }\n",
       "</style>\n",
       "<table border=\"1\" class=\"dataframe\">\n",
       "  <thead>\n",
       "    <tr style=\"text-align: right;\">\n",
       "      <th></th>\n",
       "      <th>gvc_type</th>\n",
       "      <th>outcome</th>\n",
       "      <th>treatment</th>\n",
       "      <th>tau_hat</th>\n",
       "      <th>std_hat</th>\n",
       "      <th>p_val</th>\n",
       "      <th>fixed_effects</th>\n",
       "      <th>stationary_controls</th>\n",
       "    </tr>\n",
       "  </thead>\n",
       "  <tbody>\n",
       "    <tr>\n",
       "      <th>0</th>\n",
       "      <td>mix</td>\n",
       "      <td>onset2COWCS</td>\n",
       "      <td>oilreserves</td>\n",
       "      <td>-0.0193</td>\n",
       "      <td>0.0981</td>\n",
       "      <td>0.8440</td>\n",
       "      <td>True</td>\n",
       "      <td>True</td>\n",
       "    </tr>\n",
       "    <tr>\n",
       "      <th>1</th>\n",
       "      <td>mix</td>\n",
       "      <td>onset2COWCS</td>\n",
       "      <td>oilreserves</td>\n",
       "      <td>-0.0193</td>\n",
       "      <td>0.0981</td>\n",
       "      <td>0.8440</td>\n",
       "      <td>True</td>\n",
       "      <td>False</td>\n",
       "    </tr>\n",
       "    <tr>\n",
       "      <th>2</th>\n",
       "      <td>mix</td>\n",
       "      <td>onset2COWCS</td>\n",
       "      <td>oilreserves</td>\n",
       "      <td>-0.0479</td>\n",
       "      <td>0.2312</td>\n",
       "      <td>0.8359</td>\n",
       "      <td>False</td>\n",
       "      <td>True</td>\n",
       "    </tr>\n",
       "    <tr>\n",
       "      <th>3</th>\n",
       "      <td>mix</td>\n",
       "      <td>onset2COWCS</td>\n",
       "      <td>oilreserves</td>\n",
       "      <td>-0.0479</td>\n",
       "      <td>0.2312</td>\n",
       "      <td>0.8359</td>\n",
       "      <td>False</td>\n",
       "      <td>False</td>\n",
       "    </tr>\n",
       "    <tr>\n",
       "      <th>4</th>\n",
       "      <td>mix</td>\n",
       "      <td>onset2COWCS</td>\n",
       "      <td>oilreserves_full</td>\n",
       "      <td>-0.0002</td>\n",
       "      <td>0.0005</td>\n",
       "      <td>0.7720</td>\n",
       "      <td>True</td>\n",
       "      <td>True</td>\n",
       "    </tr>\n",
       "    <tr>\n",
       "      <th>5</th>\n",
       "      <td>mix</td>\n",
       "      <td>onset2COWCS</td>\n",
       "      <td>oilreserves_full</td>\n",
       "      <td>-0.0002</td>\n",
       "      <td>0.0005</td>\n",
       "      <td>0.7720</td>\n",
       "      <td>True</td>\n",
       "      <td>False</td>\n",
       "    </tr>\n",
       "    <tr>\n",
       "      <th>6</th>\n",
       "      <td>mix</td>\n",
       "      <td>onset2COWCS</td>\n",
       "      <td>oilreserves_full</td>\n",
       "      <td>-0.0000</td>\n",
       "      <td>0.0000</td>\n",
       "      <td>0.7548</td>\n",
       "      <td>False</td>\n",
       "      <td>True</td>\n",
       "    </tr>\n",
       "    <tr>\n",
       "      <th>7</th>\n",
       "      <td>mix</td>\n",
       "      <td>onset2COWCS</td>\n",
       "      <td>oilreserves_full</td>\n",
       "      <td>-0.0000</td>\n",
       "      <td>0.0000</td>\n",
       "      <td>0.7548</td>\n",
       "      <td>False</td>\n",
       "      <td>False</td>\n",
       "    </tr>\n",
       "    <tr>\n",
       "      <th>8</th>\n",
       "      <td>mix</td>\n",
       "      <td>onset2COWCS</td>\n",
       "      <td>oilreserves_public</td>\n",
       "      <td>0.0003</td>\n",
       "      <td>0.0039</td>\n",
       "      <td>0.9340</td>\n",
       "      <td>True</td>\n",
       "      <td>True</td>\n",
       "    </tr>\n",
       "    <tr>\n",
       "      <th>9</th>\n",
       "      <td>mix</td>\n",
       "      <td>onset2COWCS</td>\n",
       "      <td>oilreserves_public</td>\n",
       "      <td>0.0003</td>\n",
       "      <td>0.0039</td>\n",
       "      <td>0.9340</td>\n",
       "      <td>True</td>\n",
       "      <td>False</td>\n",
       "    </tr>\n",
       "    <tr>\n",
       "      <th>10</th>\n",
       "      <td>mix</td>\n",
       "      <td>onset2COWCS</td>\n",
       "      <td>oilreserves_public</td>\n",
       "      <td>-0.0090</td>\n",
       "      <td>0.1568</td>\n",
       "      <td>0.9542</td>\n",
       "      <td>False</td>\n",
       "      <td>True</td>\n",
       "    </tr>\n",
       "    <tr>\n",
       "      <th>11</th>\n",
       "      <td>mix</td>\n",
       "      <td>onset2COWCS</td>\n",
       "      <td>oilreserves_public</td>\n",
       "      <td>-0.0090</td>\n",
       "      <td>0.1568</td>\n",
       "      <td>0.9542</td>\n",
       "      <td>False</td>\n",
       "      <td>False</td>\n",
       "    </tr>\n",
       "  </tbody>\n",
       "</table>\n",
       "</div>"
      ],
      "text/plain": [
       "   gvc_type      outcome           treatment  tau_hat  std_hat   p_val  \\\n",
       "0       mix  onset2COWCS         oilreserves  -0.0193   0.0981  0.8440   \n",
       "1       mix  onset2COWCS         oilreserves  -0.0193   0.0981  0.8440   \n",
       "2       mix  onset2COWCS         oilreserves  -0.0479   0.2312  0.8359   \n",
       "3       mix  onset2COWCS         oilreserves  -0.0479   0.2312  0.8359   \n",
       "4       mix  onset2COWCS    oilreserves_full  -0.0002   0.0005  0.7720   \n",
       "5       mix  onset2COWCS    oilreserves_full  -0.0002   0.0005  0.7720   \n",
       "6       mix  onset2COWCS    oilreserves_full  -0.0000   0.0000  0.7548   \n",
       "7       mix  onset2COWCS    oilreserves_full  -0.0000   0.0000  0.7548   \n",
       "8       mix  onset2COWCS  oilreserves_public   0.0003   0.0039  0.9340   \n",
       "9       mix  onset2COWCS  oilreserves_public   0.0003   0.0039  0.9340   \n",
       "10      mix  onset2COWCS  oilreserves_public  -0.0090   0.1568  0.9542   \n",
       "11      mix  onset2COWCS  oilreserves_public  -0.0090   0.1568  0.9542   \n",
       "\n",
       "    fixed_effects  stationary_controls  \n",
       "0            True                 True  \n",
       "1            True                False  \n",
       "2           False                 True  \n",
       "3           False                False  \n",
       "4            True                 True  \n",
       "5            True                False  \n",
       "6           False                 True  \n",
       "7           False                False  \n",
       "8            True                 True  \n",
       "9            True                False  \n",
       "10          False                 True  \n",
       "11          False                False  "
      ]
     },
     "execution_count": 90,
     "metadata": {},
     "output_type": "execute_result"
    }
   ],
   "source": [
    "final_res.insert(0, 'gvc_type', 'mix')\n",
    "final_res"
   ]
  },
  {
   "cell_type": "code",
   "execution_count": null,
   "metadata": {},
   "outputs": [
    {
     "ename": "PermissionError",
     "evalue": "[Errno 1] Operation not permitted: 'mix_res.csv'",
     "output_type": "error",
     "traceback": [
      "\u001b[0;31m---------------------------------------------------------------------------\u001b[0m",
      "\u001b[0;31mPermissionError\u001b[0m                           Traceback (most recent call last)",
      "Cell \u001b[0;32mIn[92], line 1\u001b[0m\n\u001b[0;32m----> 1\u001b[0m final_res\u001b[38;5;241m.\u001b[39mto_csv(\u001b[38;5;124m'\u001b[39m\u001b[38;5;124mmix_res.csv\u001b[39m\u001b[38;5;124m'\u001b[39m, index\u001b[38;5;241m=\u001b[39m\u001b[38;5;28;01mFalse\u001b[39;00m)\n",
      "File \u001b[0;32m~/anaconda3/lib/python3.11/site-packages/pandas/core/generic.py:3772\u001b[0m, in \u001b[0;36mNDFrame.to_csv\u001b[0;34m(self, path_or_buf, sep, na_rep, float_format, columns, header, index, index_label, mode, encoding, compression, quoting, quotechar, lineterminator, chunksize, date_format, doublequote, escapechar, decimal, errors, storage_options)\u001b[0m\n\u001b[1;32m   3761\u001b[0m df \u001b[38;5;241m=\u001b[39m \u001b[38;5;28mself\u001b[39m \u001b[38;5;28;01mif\u001b[39;00m \u001b[38;5;28misinstance\u001b[39m(\u001b[38;5;28mself\u001b[39m, ABCDataFrame) \u001b[38;5;28;01melse\u001b[39;00m \u001b[38;5;28mself\u001b[39m\u001b[38;5;241m.\u001b[39mto_frame()\n\u001b[1;32m   3763\u001b[0m formatter \u001b[38;5;241m=\u001b[39m DataFrameFormatter(\n\u001b[1;32m   3764\u001b[0m     frame\u001b[38;5;241m=\u001b[39mdf,\n\u001b[1;32m   3765\u001b[0m     header\u001b[38;5;241m=\u001b[39mheader,\n\u001b[0;32m   (...)\u001b[0m\n\u001b[1;32m   3769\u001b[0m     decimal\u001b[38;5;241m=\u001b[39mdecimal,\n\u001b[1;32m   3770\u001b[0m )\n\u001b[0;32m-> 3772\u001b[0m \u001b[38;5;28;01mreturn\u001b[39;00m DataFrameRenderer(formatter)\u001b[38;5;241m.\u001b[39mto_csv(\n\u001b[1;32m   3773\u001b[0m     path_or_buf,\n\u001b[1;32m   3774\u001b[0m     lineterminator\u001b[38;5;241m=\u001b[39mlineterminator,\n\u001b[1;32m   3775\u001b[0m     sep\u001b[38;5;241m=\u001b[39msep,\n\u001b[1;32m   3776\u001b[0m     encoding\u001b[38;5;241m=\u001b[39mencoding,\n\u001b[1;32m   3777\u001b[0m     errors\u001b[38;5;241m=\u001b[39merrors,\n\u001b[1;32m   3778\u001b[0m     compression\u001b[38;5;241m=\u001b[39mcompression,\n\u001b[1;32m   3779\u001b[0m     quoting\u001b[38;5;241m=\u001b[39mquoting,\n\u001b[1;32m   3780\u001b[0m     columns\u001b[38;5;241m=\u001b[39mcolumns,\n\u001b[1;32m   3781\u001b[0m     index_label\u001b[38;5;241m=\u001b[39mindex_label,\n\u001b[1;32m   3782\u001b[0m     mode\u001b[38;5;241m=\u001b[39mmode,\n\u001b[1;32m   3783\u001b[0m     chunksize\u001b[38;5;241m=\u001b[39mchunksize,\n\u001b[1;32m   3784\u001b[0m     quotechar\u001b[38;5;241m=\u001b[39mquotechar,\n\u001b[1;32m   3785\u001b[0m     date_format\u001b[38;5;241m=\u001b[39mdate_format,\n\u001b[1;32m   3786\u001b[0m     doublequote\u001b[38;5;241m=\u001b[39mdoublequote,\n\u001b[1;32m   3787\u001b[0m     escapechar\u001b[38;5;241m=\u001b[39mescapechar,\n\u001b[1;32m   3788\u001b[0m     storage_options\u001b[38;5;241m=\u001b[39mstorage_options,\n\u001b[1;32m   3789\u001b[0m )\n",
      "File \u001b[0;32m~/anaconda3/lib/python3.11/site-packages/pandas/io/formats/format.py:1186\u001b[0m, in \u001b[0;36mDataFrameRenderer.to_csv\u001b[0;34m(self, path_or_buf, encoding, sep, columns, index_label, mode, compression, quoting, quotechar, lineterminator, chunksize, date_format, doublequote, escapechar, errors, storage_options)\u001b[0m\n\u001b[1;32m   1165\u001b[0m     created_buffer \u001b[38;5;241m=\u001b[39m \u001b[38;5;28;01mFalse\u001b[39;00m\n\u001b[1;32m   1167\u001b[0m csv_formatter \u001b[38;5;241m=\u001b[39m CSVFormatter(\n\u001b[1;32m   1168\u001b[0m     path_or_buf\u001b[38;5;241m=\u001b[39mpath_or_buf,\n\u001b[1;32m   1169\u001b[0m     lineterminator\u001b[38;5;241m=\u001b[39mlineterminator,\n\u001b[0;32m   (...)\u001b[0m\n\u001b[1;32m   1184\u001b[0m     formatter\u001b[38;5;241m=\u001b[39m\u001b[38;5;28mself\u001b[39m\u001b[38;5;241m.\u001b[39mfmt,\n\u001b[1;32m   1185\u001b[0m )\n\u001b[0;32m-> 1186\u001b[0m csv_formatter\u001b[38;5;241m.\u001b[39msave()\n\u001b[1;32m   1188\u001b[0m \u001b[38;5;28;01mif\u001b[39;00m created_buffer:\n\u001b[1;32m   1189\u001b[0m     \u001b[38;5;28;01massert\u001b[39;00m \u001b[38;5;28misinstance\u001b[39m(path_or_buf, StringIO)\n",
      "File \u001b[0;32m~/anaconda3/lib/python3.11/site-packages/pandas/io/formats/csvs.py:240\u001b[0m, in \u001b[0;36mCSVFormatter.save\u001b[0;34m(self)\u001b[0m\n\u001b[1;32m    236\u001b[0m \u001b[38;5;250m\u001b[39m\u001b[38;5;124;03m\"\"\"\u001b[39;00m\n\u001b[1;32m    237\u001b[0m \u001b[38;5;124;03mCreate the writer & save.\u001b[39;00m\n\u001b[1;32m    238\u001b[0m \u001b[38;5;124;03m\"\"\"\u001b[39;00m\n\u001b[1;32m    239\u001b[0m \u001b[38;5;66;03m# apply compression and byte/text conversion\u001b[39;00m\n\u001b[0;32m--> 240\u001b[0m \u001b[38;5;28;01mwith\u001b[39;00m get_handle(\n\u001b[1;32m    241\u001b[0m     \u001b[38;5;28mself\u001b[39m\u001b[38;5;241m.\u001b[39mfilepath_or_buffer,\n\u001b[1;32m    242\u001b[0m     \u001b[38;5;28mself\u001b[39m\u001b[38;5;241m.\u001b[39mmode,\n\u001b[1;32m    243\u001b[0m     encoding\u001b[38;5;241m=\u001b[39m\u001b[38;5;28mself\u001b[39m\u001b[38;5;241m.\u001b[39mencoding,\n\u001b[1;32m    244\u001b[0m     errors\u001b[38;5;241m=\u001b[39m\u001b[38;5;28mself\u001b[39m\u001b[38;5;241m.\u001b[39merrors,\n\u001b[1;32m    245\u001b[0m     compression\u001b[38;5;241m=\u001b[39m\u001b[38;5;28mself\u001b[39m\u001b[38;5;241m.\u001b[39mcompression,\n\u001b[1;32m    246\u001b[0m     storage_options\u001b[38;5;241m=\u001b[39m\u001b[38;5;28mself\u001b[39m\u001b[38;5;241m.\u001b[39mstorage_options,\n\u001b[1;32m    247\u001b[0m ) \u001b[38;5;28;01mas\u001b[39;00m handles:\n\u001b[1;32m    248\u001b[0m     \u001b[38;5;66;03m# Note: self.encoding is irrelevant here\u001b[39;00m\n\u001b[1;32m    249\u001b[0m     \u001b[38;5;28mself\u001b[39m\u001b[38;5;241m.\u001b[39mwriter \u001b[38;5;241m=\u001b[39m csvlib\u001b[38;5;241m.\u001b[39mwriter(\n\u001b[1;32m    250\u001b[0m         handles\u001b[38;5;241m.\u001b[39mhandle,\n\u001b[1;32m    251\u001b[0m         lineterminator\u001b[38;5;241m=\u001b[39m\u001b[38;5;28mself\u001b[39m\u001b[38;5;241m.\u001b[39mlineterminator,\n\u001b[0;32m   (...)\u001b[0m\n\u001b[1;32m    256\u001b[0m         quotechar\u001b[38;5;241m=\u001b[39m\u001b[38;5;28mself\u001b[39m\u001b[38;5;241m.\u001b[39mquotechar,\n\u001b[1;32m    257\u001b[0m     )\n\u001b[1;32m    259\u001b[0m     \u001b[38;5;28mself\u001b[39m\u001b[38;5;241m.\u001b[39m_save()\n",
      "File \u001b[0;32m~/anaconda3/lib/python3.11/site-packages/pandas/io/common.py:859\u001b[0m, in \u001b[0;36mget_handle\u001b[0;34m(path_or_buf, mode, encoding, compression, memory_map, is_text, errors, storage_options)\u001b[0m\n\u001b[1;32m    854\u001b[0m \u001b[38;5;28;01melif\u001b[39;00m \u001b[38;5;28misinstance\u001b[39m(handle, \u001b[38;5;28mstr\u001b[39m):\n\u001b[1;32m    855\u001b[0m     \u001b[38;5;66;03m# Check whether the filename is to be opened in binary mode.\u001b[39;00m\n\u001b[1;32m    856\u001b[0m     \u001b[38;5;66;03m# Binary mode does not support 'encoding' and 'newline'.\u001b[39;00m\n\u001b[1;32m    857\u001b[0m     \u001b[38;5;28;01mif\u001b[39;00m ioargs\u001b[38;5;241m.\u001b[39mencoding \u001b[38;5;129;01mand\u001b[39;00m \u001b[38;5;124m\"\u001b[39m\u001b[38;5;124mb\u001b[39m\u001b[38;5;124m\"\u001b[39m \u001b[38;5;129;01mnot\u001b[39;00m \u001b[38;5;129;01min\u001b[39;00m ioargs\u001b[38;5;241m.\u001b[39mmode:\n\u001b[1;32m    858\u001b[0m         \u001b[38;5;66;03m# Encoding\u001b[39;00m\n\u001b[0;32m--> 859\u001b[0m         handle \u001b[38;5;241m=\u001b[39m \u001b[38;5;28mopen\u001b[39m(\n\u001b[1;32m    860\u001b[0m             handle,\n\u001b[1;32m    861\u001b[0m             ioargs\u001b[38;5;241m.\u001b[39mmode,\n\u001b[1;32m    862\u001b[0m             encoding\u001b[38;5;241m=\u001b[39mioargs\u001b[38;5;241m.\u001b[39mencoding,\n\u001b[1;32m    863\u001b[0m             errors\u001b[38;5;241m=\u001b[39merrors,\n\u001b[1;32m    864\u001b[0m             newline\u001b[38;5;241m=\u001b[39m\u001b[38;5;124m\"\u001b[39m\u001b[38;5;124m\"\u001b[39m,\n\u001b[1;32m    865\u001b[0m         )\n\u001b[1;32m    866\u001b[0m     \u001b[38;5;28;01melse\u001b[39;00m:\n\u001b[1;32m    867\u001b[0m         \u001b[38;5;66;03m# Binary mode\u001b[39;00m\n\u001b[1;32m    868\u001b[0m         handle \u001b[38;5;241m=\u001b[39m \u001b[38;5;28mopen\u001b[39m(handle, ioargs\u001b[38;5;241m.\u001b[39mmode)\n",
      "\u001b[0;31mPermissionError\u001b[0m: [Errno 1] Operation not permitted: 'mix_res.csv'"
     ]
    }
   ],
   "source": [
    "final_res.to_csv('mix_res.csv', index=False)"
   ]
  },
  {
   "attachments": {},
   "cell_type": "markdown",
   "metadata": {},
   "source": [
    "## Appendix:"
   ]
  },
  {
   "attachments": {},
   "cell_type": "markdown",
   "metadata": {},
   "source": [
    "For estimating the local average treatment effect under the monotone instrument assumption, there is a double-machine learning approach that works with generic supervised learning approaches. Here, we want an estimator $\\hat{\\tau}^{\\mathrm{LATE}}$ for the parameter\n",
    "$$\n",
    "\\tau^{\\mathrm{LATE}}=\\frac{\\mathbb{E}[\\mathbb{E}[Y \\mid X, Z=1]-\\mathbb{E}[Y \\mid X, Z=0]]}{\\mathbb{E}[\\mathrm{P}(A=1 \\mid X, Z=1)-\\mathrm{P}(A=1 \\mid X, Z=0)]}\n",
    "$$\n",
    "To define the estimator, it's convenient to introduce some additional notation. First, we define the nuisance functions:\n",
    "$$\n",
    "\\begin{aligned}\n",
    "\\mu(z, x) & =\\mathbb{E}[Y \\mid z, x] \\\\\n",
    "m(z, x) & =\\mathrm{P}(A=1 \\mid x, z) \\\\\n",
    "p(x) & =\\mathrm{P}(Z=1 \\mid x) .\n",
    "\\end{aligned}\n",
    "$$\n",
    "We also define the score $\\phi$ by:\n",
    "$$\n",
    "\\begin{aligned}\n",
    "& \\phi_{Z \\rightarrow Y}(\\mathbf{X} ; \\mu, p) \\triangleq \\mu(1, X)-\\mu(0, X)+\\frac{Z(Y-\\mu(1, X))}{p(X)}-\\frac{(1-Z)(Y-\\mu(0, X))}{1-p(X)} \\\\\n",
    "& \\phi_{Z \\rightarrow A}(\\mathbf{X} ; m, p) \\triangleq m(1, X)-m(0, X)+\\frac{Z(A-m(1, X))}{p(X)}-\\frac{(1-Z)(A-m(0, X))}{1-p(X)} \\\\\n",
    "& \\phi(\\mathbf{X} ; \\mu, m, p, \\tau) \\triangleq \\phi_{Z \\rightarrow Y}(\\mathbf{X} ; \\mu, p)-\\phi_{Z \\rightarrow A}(\\mathbf{X} ; m, p) \\times \\tau\n",
    "\\end{aligned}\n",
    "$$\n",
    "Then, the estimator is defined by a two stage procedure:\n",
    "1. Fit models $\\hat{\\mu}, \\hat{m}, \\hat{p}$ for each of $\\mu, m, p$ (using supervised machine learning).\n",
    "2. Define $\\hat{\\tau}^{\\mathrm{LATE}}$ as the solution to $\\frac{1}{n} \\sum_i \\phi\\left(\\mathbf{X}_i ; \\hat{\\mu}, \\hat{m}, \\hat{p}, \\hat{\\tau}^{\\mathrm{LATE}}\\right)=0$. That is,\n",
    "$$\n",
    "\\hat{\\tau}^{\\mathrm{LATE}}=\\frac{\\frac{1}{n} \\sum_i \\phi_{Z \\rightarrow Y}\\left(\\mathbf{X}_i ; \\hat{\\mu}, \\hat{p}\\right)}{\\frac{1}{n} \\sum_i \\phi_{Z \\rightarrow A}\\left(\\mathbf{X}_i ; \\hat{m}, \\hat{p}\\right)}\n",
    "$$\n",
    "It may help intuitions to notice that the double machine learning estimator of the LATE is effectively the double machine learning estimator of of the average treatment effect of $Z$ on $Y$ divided by the double machine learning estimator of the average treatment effect of $Z$ on $A$.\n",
    "The nuisance functions can be estimated by:\n",
    "1. fit a model $\\hat{\\mu}$ that predicts $Y$ from $Z, X$ by minimizing mean square error\n",
    "2. fit a model $\\hat{m}$ that predicts $A$ from $Z, X$ by minimizing mean cross-entropy\n",
    "3. fit a model $\\hat{p}$ that predicts $Z$ from $X$ by minimizing mean cross-entropy."
   ]
  }
 ],
 "metadata": {
  "kernelspec": {
   "display_name": "Python 3",
   "language": "python",
   "name": "python3"
  },
  "language_info": {
   "codemirror_mode": {
    "name": "ipython",
    "version": 3
   },
   "file_extension": ".py",
   "mimetype": "text/x-python",
   "name": "python",
   "nbconvert_exporter": "python",
   "pygments_lexer": "ipython3",
   "version": "3.11.5"
  },
  "orig_nbformat": 4
 },
 "nbformat": 4,
 "nbformat_minor": 2
}
